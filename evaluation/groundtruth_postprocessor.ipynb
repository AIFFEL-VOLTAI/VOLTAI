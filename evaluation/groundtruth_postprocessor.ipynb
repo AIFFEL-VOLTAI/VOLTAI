{
 "cells": [
  {
   "cell_type": "code",
   "execution_count": 6,
   "metadata": {},
   "outputs": [],
   "source": [
    "import os\n",
    "import json\n",
    "import pandas as pd"
   ]
  },
  {
   "cell_type": "code",
   "execution_count": 7,
   "metadata": {},
   "outputs": [],
   "source": [
    "file_num_list = [11, 16, 22, 35, 39, 40, 41, 42, 44, 56]\n",
    "groundtruth_folder_path = \"../data/ground_truth\""
   ]
  },
  {
   "cell_type": "code",
   "execution_count": 8,
   "metadata": {},
   "outputs": [],
   "source": [
    "all_rows = []\n",
    "for num in file_num_list:\n",
    "    file_num = f\"00{num}\"[-3:]\n",
    "    filename = f\"paper_{file_num}_gt.json\"\n",
    "    json_file_path = os.path.join(groundtruth_folder_path, filename)\n",
    "    with open(json_file_path, \"r\", encoding=\"utf-8\") as f:\n",
    "        gt = json.load(f)\n",
    "    samples = list(gt[\"CAM (Cathode Active Material)\"][\"Stoichiometry information\"].keys())\n",
    "\n",
    "    rows = []\n",
    "    for sample in samples:\n",
    "        row = {\n",
    "            'Paper ID': num, \n",
    "            \"Sample\": sample\n",
    "        }\n",
    "        \n",
    "        # CAM - Stoichiometry\n",
    "        cam = gt[\"CAM (Cathode Active Material)\"]\n",
    "        for elem, ratio in cam[\"Stoichiometry information\"][sample].items():\n",
    "            row[f\"{elem}\"] = ratio\n",
    "\n",
    "        row[\"Commercial NCM used\"] = cam[\"Commercial NCM used\"][sample]\n",
    "        row[\"Lithium source\"] = cam[\"Lithium source\"]\n",
    "        row[\"Synthesis method\"] = cam[\"Synthesis method\"]\n",
    "        row[\"Crystallization method\"] = cam[\"Crystallization method\"]\n",
    "        row[\"Crystallization final temperature\"] = cam[\"Crystallization final temperature\"]\n",
    "        row[\"Crystallization final duration (hours)\"] = cam[\"Crystallization final duration (hours)\"]\n",
    "        row[\"Doping\"] = cam[\"Doping\"]\n",
    "        row[\"Coating\"] = cam[\"Coating\"]\n",
    "\n",
    "        # Electrode\n",
    "        electrode = gt[\"Electrode (half-cell)\"]\n",
    "        row[\"Active material to Conductive additive to Binder ratio\"] = electrode[\"Active material to Conductive additive to Binder ratio\"]\n",
    "        if electrode[\"Electrolyte\"]:\n",
    "            elec = electrode[\"Electrolyte\"][0]\n",
    "            row[\"Electrolyte salt\"] = elec[\"Salt\"]\n",
    "            row[\"Electrolyte concentration\"] = elec[\"Concentration\"]\n",
    "            row[\"Electrolyte solvent\"] = elec[\"Solvent\"]\n",
    "            row[\"Electrolyte solvent ratio\"] = elec[\"Solvent ratio\"]\n",
    "        row[\"Additive\"] = electrode[\"Additive\"]\n",
    "        row[\"Loading density (mass loading of NCM)\"] = electrode[\"Loading density (mass loading of NCM)\"]\n",
    "\n",
    "        # Morphological Properties\n",
    "        morph = gt[\"Morphological Properties\"]\n",
    "        row[\"Particle size\"] = morph[\"Particle size\"].get(sample)\n",
    "        row[\"Particle shape\"] = morph[\"Particle shape\"].get(sample)\n",
    "        row[\"Particle distribution\"] = morph[\"Particle distribution\"].get(sample)\n",
    "        row[\"Coating layer characteristics\"] = morph[\"Coating layer characteristics\"].get(sample)\n",
    "        row[\"Crystal structure and lattice characteristics\"] = morph[\"Crystal structure and lattice characteristics\"].get(sample)\n",
    "\n",
    "        # Cathode Performance\n",
    "        perf = gt[\"Cathode Performance\"].get(sample)\n",
    "        if perf:\n",
    "            perf = perf[0]\n",
    "            row[\"Voltage range\"] = perf[\"Voltage range\"]\n",
    "            row[\"Temperature\"] = perf[\"Temperature\"]\n",
    "            for cr in perf[\"C-rate and Specific capacity\"]:\n",
    "                if isinstance(cr, dict) and \"Other C-rates and performance\" not in cr:\n",
    "                    c_rate = cr[\"C-rate\"]\n",
    "                    capacity = cr[\"Capacity\"]\n",
    "                    row[f\"C-rate {c_rate}\"] = capacity\n",
    "                elif \"Other C-rates and performance\" in cr and cr[\"Other C-rates and performance\"]:\n",
    "                    for extra in cr[\"Other C-rates and performance\"]:\n",
    "                        c_rate = extra[\"C-rate\"]\n",
    "                        capacity = extra[\"Capacity\"]\n",
    "                        row[f\"C-rate {c_rate}\"] = capacity\n",
    "\n",
    "        rows.append(row)\n",
    "    all_rows.extend(rows)\n",
    "# Create DataFrame\n",
    "df = pd.DataFrame(all_rows)"
   ]
  },
  {
   "cell_type": "code",
   "execution_count": 9,
   "metadata": {},
   "outputs": [],
   "source": [
    "df.to_csv(\"../output/csv/groundtruth.csv\", index=False)"
   ]
  },
  {
   "cell_type": "code",
   "execution_count": 12,
   "metadata": {},
   "outputs": [],
   "source": [
    "pred_df = pd.read_csv(\"../output/csv/experiments/baseline.csv\")"
   ]
  },
  {
   "cell_type": "code",
   "execution_count": 11,
   "metadata": {},
   "outputs": [],
   "source": [
    "# set(set(df.columns) | set(pred_df.columns)) - set(set(df.columns) & set(pred_df.columns))"
   ]
  }
 ],
 "metadata": {
  "kernelspec": {
   "display_name": "voltai",
   "language": "python",
   "name": "python3"
  },
  "language_info": {
   "codemirror_mode": {
    "name": "ipython",
    "version": 3
   },
   "file_extension": ".py",
   "mimetype": "text/x-python",
   "name": "python",
   "nbconvert_exporter": "python",
   "pygments_lexer": "ipython3",
   "version": "3.11.11"
  }
 },
 "nbformat": 4,
 "nbformat_minor": 2
}
