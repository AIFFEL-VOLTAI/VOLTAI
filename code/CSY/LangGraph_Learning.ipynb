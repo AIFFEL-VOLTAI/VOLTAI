{
 "cells": [
  {
   "cell_type": "code",
   "execution_count": 1,
   "metadata": {
    "colab": {
     "base_uri": "https://localhost:8080/"
    },
    "executionInfo": {
     "elapsed": 2308,
     "status": "ok",
     "timestamp": 1736144125338,
     "user": {
      "displayName": "최세영",
      "userId": "00062286652302229812"
     },
     "user_tz": -540
    },
    "id": "pEA0r_f6p-a3",
    "outputId": "c09306fb-47da-46be-e3f7-e1471ad057e6"
   },
   "outputs": [
    {
     "name": "stdout",
     "output_type": "stream",
     "text": [
      "Drive already mounted at /content/drive; to attempt to forcibly remount, call drive.mount(\"/content/drive\", force_remount=True).\n"
     ]
    }
   ],
   "source": [
    "from google.colab import drive\n",
    "\n",
    "# Google Drive 마운트\n",
    "drive.mount('/content/drive')\n",
    "\n",
    "# Base Folder 및 PDF 경로 설정\n",
    "base_folder = \"/content/drive/MyDrive/AiffelThon/csy/Langgraph_tutorial\"\n",
    "pdf_folder = \"/content/drive/MyDrive/AiffelThon/Input_data\""
   ]
  },
  {
   "cell_type": "code",
   "execution_count": 2,
   "metadata": {
    "colab": {
     "base_uri": "https://localhost:8080/"
    },
    "collapsed": true,
    "executionInfo": {
     "elapsed": 9843,
     "status": "ok",
     "timestamp": 1736144135179,
     "user": {
      "displayName": "최세영",
      "userId": "00062286652302229812"
     },
     "user_tz": -540
    },
    "id": "qJDpeTU8qH37",
    "outputId": "b52f2a50-c16b-47ce-bd57-f056d02af9d4"
   },
   "outputs": [
    {
     "name": "stdout",
     "output_type": "stream",
     "text": [
      "Requirement already satisfied: langgraph in /usr/local/lib/python3.10/dist-packages (0.2.61)\n",
      "Requirement already satisfied: langchain in /usr/local/lib/python3.10/dist-packages (0.3.14)\n",
      "Requirement already satisfied: langchain_openai in /usr/local/lib/python3.10/dist-packages (0.2.14)\n",
      "Requirement already satisfied: pypdf2 in /usr/local/lib/python3.10/dist-packages (3.0.1)\n",
      "Requirement already satisfied: sentence-transformers in /usr/local/lib/python3.10/dist-packages (3.3.1)\n",
      "Requirement already satisfied: faiss-gpu in /usr/local/lib/python3.10/dist-packages (1.7.2)\n",
      "Requirement already satisfied: faiss-cpu in /usr/local/lib/python3.10/dist-packages (1.9.0.post1)\n",
      "Requirement already satisfied: langchain-community in /usr/local/lib/python3.10/dist-packages (0.3.14)\n",
      "Requirement already satisfied: langchain_teddynote in /usr/local/lib/python3.10/dist-packages (0.3.41)\n",
      "Requirement already satisfied: langchain-core!=0.3.0,!=0.3.1,!=0.3.10,!=0.3.11,!=0.3.12,!=0.3.13,!=0.3.14,!=0.3.15,!=0.3.16,!=0.3.17,!=0.3.18,!=0.3.19,!=0.3.2,!=0.3.20,!=0.3.21,!=0.3.22,!=0.3.3,!=0.3.4,!=0.3.5,!=0.3.6,!=0.3.7,!=0.3.8,!=0.3.9,<0.4.0,>=0.2.43 in /usr/local/lib/python3.10/dist-packages (from langgraph) (0.3.29)\n",
      "Requirement already satisfied: langgraph-checkpoint<3.0.0,>=2.0.4 in /usr/local/lib/python3.10/dist-packages (from langgraph) (2.0.9)\n",
      "Requirement already satisfied: langgraph-sdk<0.2.0,>=0.1.42 in /usr/local/lib/python3.10/dist-packages (from langgraph) (0.1.48)\n",
      "Requirement already satisfied: PyYAML>=5.3 in /usr/local/lib/python3.10/dist-packages (from langchain) (6.0.2)\n",
      "Requirement already satisfied: SQLAlchemy<3,>=1.4 in /usr/local/lib/python3.10/dist-packages (from langchain) (2.0.36)\n",
      "Requirement already satisfied: aiohttp<4.0.0,>=3.8.3 in /usr/local/lib/python3.10/dist-packages (from langchain) (3.11.10)\n",
      "Requirement already satisfied: async-timeout<5.0.0,>=4.0.0 in /usr/local/lib/python3.10/dist-packages (from langchain) (4.0.3)\n",
      "Requirement already satisfied: langchain-text-splitters<0.4.0,>=0.3.3 in /usr/local/lib/python3.10/dist-packages (from langchain) (0.3.3)\n",
      "Requirement already satisfied: langsmith<0.3,>=0.1.17 in /usr/local/lib/python3.10/dist-packages (from langchain) (0.2.3)\n",
      "Requirement already satisfied: numpy<2,>=1.22.4 in /usr/local/lib/python3.10/dist-packages (from langchain) (1.26.4)\n",
      "Requirement already satisfied: pydantic<3.0.0,>=2.7.4 in /usr/local/lib/python3.10/dist-packages (from langchain) (2.10.3)\n",
      "Requirement already satisfied: requests<3,>=2 in /usr/local/lib/python3.10/dist-packages (from langchain) (2.32.3)\n",
      "Requirement already satisfied: tenacity!=8.4.0,<10,>=8.1.0 in /usr/local/lib/python3.10/dist-packages (from langchain) (9.0.0)\n",
      "Requirement already satisfied: openai<2.0.0,>=1.58.1 in /usr/local/lib/python3.10/dist-packages (from langchain_openai) (1.59.3)\n",
      "Requirement already satisfied: tiktoken<1,>=0.7 in /usr/local/lib/python3.10/dist-packages (from langchain_openai) (0.8.0)\n",
      "Requirement already satisfied: transformers<5.0.0,>=4.41.0 in /usr/local/lib/python3.10/dist-packages (from sentence-transformers) (4.47.1)\n",
      "Requirement already satisfied: tqdm in /usr/local/lib/python3.10/dist-packages (from sentence-transformers) (4.67.1)\n",
      "Requirement already satisfied: torch>=1.11.0 in /usr/local/lib/python3.10/dist-packages (from sentence-transformers) (2.5.1+cu121)\n",
      "Requirement already satisfied: scikit-learn in /usr/local/lib/python3.10/dist-packages (from sentence-transformers) (1.6.0)\n",
      "Requirement already satisfied: scipy in /usr/local/lib/python3.10/dist-packages (from sentence-transformers) (1.13.1)\n",
      "Requirement already satisfied: huggingface-hub>=0.20.0 in /usr/local/lib/python3.10/dist-packages (from sentence-transformers) (0.27.0)\n",
      "Requirement already satisfied: Pillow in /usr/local/lib/python3.10/dist-packages (from sentence-transformers) (11.0.0)\n",
      "Requirement already satisfied: packaging in /usr/local/lib/python3.10/dist-packages (from faiss-cpu) (24.2)\n",
      "Requirement already satisfied: dataclasses-json<0.7,>=0.5.7 in /usr/local/lib/python3.10/dist-packages (from langchain-community) (0.6.7)\n",
      "Requirement already satisfied: httpx-sse<0.5.0,>=0.4.0 in /usr/local/lib/python3.10/dist-packages (from langchain-community) (0.4.0)\n",
      "Requirement already satisfied: pydantic-settings<3.0.0,>=2.4.0 in /usr/local/lib/python3.10/dist-packages (from langchain-community) (2.7.1)\n",
      "Requirement already satisfied: kiwipiepy in /usr/local/lib/python3.10/dist-packages (from langchain_teddynote) (0.20.3)\n",
      "Requirement already satisfied: rank_bm25 in /usr/local/lib/python3.10/dist-packages (from langchain_teddynote) (0.2.2)\n",
      "Requirement already satisfied: pinecone-client[grpc] in /usr/local/lib/python3.10/dist-packages (from langchain_teddynote) (5.0.1)\n",
      "Requirement already satisfied: pinecone-text in /usr/local/lib/python3.10/dist-packages (from langchain_teddynote) (0.9.0)\n",
      "Requirement already satisfied: olefile in /usr/local/lib/python3.10/dist-packages (from langchain_teddynote) (0.47)\n",
      "Requirement already satisfied: pdf2image in /usr/local/lib/python3.10/dist-packages (from langchain_teddynote) (1.17.0)\n",
      "Requirement already satisfied: anthropic in /usr/local/lib/python3.10/dist-packages (from langchain_teddynote) (0.42.0)\n",
      "Requirement already satisfied: deepl in /usr/local/lib/python3.10/dist-packages (from langchain_teddynote) (1.20.0)\n",
      "Requirement already satisfied: feedparser in /usr/local/lib/python3.10/dist-packages (from langchain_teddynote) (6.0.11)\n",
      "Requirement already satisfied: tavily-python in /usr/local/lib/python3.10/dist-packages (from langchain_teddynote) (0.5.0)\n",
      "Requirement already satisfied: pandas in /usr/local/lib/python3.10/dist-packages (from langchain_teddynote) (2.2.2)\n",
      "Requirement already satisfied: aiohappyeyeballs>=2.3.0 in /usr/local/lib/python3.10/dist-packages (from aiohttp<4.0.0,>=3.8.3->langchain) (2.4.4)\n",
      "Requirement already satisfied: aiosignal>=1.1.2 in /usr/local/lib/python3.10/dist-packages (from aiohttp<4.0.0,>=3.8.3->langchain) (1.3.2)\n",
      "Requirement already satisfied: attrs>=17.3.0 in /usr/local/lib/python3.10/dist-packages (from aiohttp<4.0.0,>=3.8.3->langchain) (24.3.0)\n",
      "Requirement already satisfied: frozenlist>=1.1.1 in /usr/local/lib/python3.10/dist-packages (from aiohttp<4.0.0,>=3.8.3->langchain) (1.5.0)\n",
      "Requirement already satisfied: multidict<7.0,>=4.5 in /usr/local/lib/python3.10/dist-packages (from aiohttp<4.0.0,>=3.8.3->langchain) (6.1.0)\n",
      "Requirement already satisfied: propcache>=0.2.0 in /usr/local/lib/python3.10/dist-packages (from aiohttp<4.0.0,>=3.8.3->langchain) (0.2.1)\n",
      "Requirement already satisfied: yarl<2.0,>=1.17.0 in /usr/local/lib/python3.10/dist-packages (from aiohttp<4.0.0,>=3.8.3->langchain) (1.18.3)\n",
      "Requirement already satisfied: marshmallow<4.0.0,>=3.18.0 in /usr/local/lib/python3.10/dist-packages (from dataclasses-json<0.7,>=0.5.7->langchain-community) (3.23.3)\n",
      "Requirement already satisfied: typing-inspect<1,>=0.4.0 in /usr/local/lib/python3.10/dist-packages (from dataclasses-json<0.7,>=0.5.7->langchain-community) (0.9.0)\n",
      "Requirement already satisfied: filelock in /usr/local/lib/python3.10/dist-packages (from huggingface-hub>=0.20.0->sentence-transformers) (3.16.1)\n",
      "Requirement already satisfied: fsspec>=2023.5.0 in /usr/local/lib/python3.10/dist-packages (from huggingface-hub>=0.20.0->sentence-transformers) (2024.10.0)\n",
      "Requirement already satisfied: typing-extensions>=3.7.4.3 in /usr/local/lib/python3.10/dist-packages (from huggingface-hub>=0.20.0->sentence-transformers) (4.12.2)\n",
      "Requirement already satisfied: jsonpatch<2.0,>=1.33 in /usr/local/lib/python3.10/dist-packages (from langchain-core!=0.3.0,!=0.3.1,!=0.3.10,!=0.3.11,!=0.3.12,!=0.3.13,!=0.3.14,!=0.3.15,!=0.3.16,!=0.3.17,!=0.3.18,!=0.3.19,!=0.3.2,!=0.3.20,!=0.3.21,!=0.3.22,!=0.3.3,!=0.3.4,!=0.3.5,!=0.3.6,!=0.3.7,!=0.3.8,!=0.3.9,<0.4.0,>=0.2.43->langgraph) (1.33)\n",
      "Requirement already satisfied: msgpack<2.0.0,>=1.1.0 in /usr/local/lib/python3.10/dist-packages (from langgraph-checkpoint<3.0.0,>=2.0.4->langgraph) (1.1.0)\n",
      "Requirement already satisfied: httpx>=0.25.2 in /usr/local/lib/python3.10/dist-packages (from langgraph-sdk<0.2.0,>=0.1.42->langgraph) (0.28.1)\n",
      "Requirement already satisfied: orjson>=3.10.1 in /usr/local/lib/python3.10/dist-packages (from langgraph-sdk<0.2.0,>=0.1.42->langgraph) (3.10.12)\n",
      "Requirement already satisfied: requests-toolbelt<2.0.0,>=1.0.0 in /usr/local/lib/python3.10/dist-packages (from langsmith<0.3,>=0.1.17->langchain) (1.0.0)\n",
      "Requirement already satisfied: anyio<5,>=3.5.0 in /usr/local/lib/python3.10/dist-packages (from openai<2.0.0,>=1.58.1->langchain_openai) (3.7.1)\n",
      "Requirement already satisfied: distro<2,>=1.7.0 in /usr/local/lib/python3.10/dist-packages (from openai<2.0.0,>=1.58.1->langchain_openai) (1.9.0)\n",
      "Requirement already satisfied: jiter<1,>=0.4.0 in /usr/local/lib/python3.10/dist-packages (from openai<2.0.0,>=1.58.1->langchain_openai) (0.8.2)\n",
      "Requirement already satisfied: sniffio in /usr/local/lib/python3.10/dist-packages (from openai<2.0.0,>=1.58.1->langchain_openai) (1.3.1)\n",
      "Requirement already satisfied: annotated-types>=0.6.0 in /usr/local/lib/python3.10/dist-packages (from pydantic<3.0.0,>=2.7.4->langchain) (0.7.0)\n",
      "Requirement already satisfied: pydantic-core==2.27.1 in /usr/local/lib/python3.10/dist-packages (from pydantic<3.0.0,>=2.7.4->langchain) (2.27.1)\n",
      "Requirement already satisfied: python-dotenv>=0.21.0 in /usr/local/lib/python3.10/dist-packages (from pydantic-settings<3.0.0,>=2.4.0->langchain-community) (1.0.1)\n",
      "Requirement already satisfied: charset-normalizer<4,>=2 in /usr/local/lib/python3.10/dist-packages (from requests<3,>=2->langchain) (3.4.0)\n",
      "Requirement already satisfied: idna<4,>=2.5 in /usr/local/lib/python3.10/dist-packages (from requests<3,>=2->langchain) (3.10)\n",
      "Requirement already satisfied: urllib3<3,>=1.21.1 in /usr/local/lib/python3.10/dist-packages (from requests<3,>=2->langchain) (2.2.3)\n",
      "Requirement already satisfied: certifi>=2017.4.17 in /usr/local/lib/python3.10/dist-packages (from requests<3,>=2->langchain) (2024.12.14)\n",
      "Requirement already satisfied: greenlet!=0.4.17 in /usr/local/lib/python3.10/dist-packages (from SQLAlchemy<3,>=1.4->langchain) (3.1.1)\n",
      "Requirement already satisfied: regex>=2022.1.18 in /usr/local/lib/python3.10/dist-packages (from tiktoken<1,>=0.7->langchain_openai) (2024.11.6)\n",
      "Requirement already satisfied: networkx in /usr/local/lib/python3.10/dist-packages (from torch>=1.11.0->sentence-transformers) (3.4.2)\n",
      "Requirement already satisfied: jinja2 in /usr/local/lib/python3.10/dist-packages (from torch>=1.11.0->sentence-transformers) (3.1.4)\n",
      "Requirement already satisfied: sympy==1.13.1 in /usr/local/lib/python3.10/dist-packages (from torch>=1.11.0->sentence-transformers) (1.13.1)\n",
      "Requirement already satisfied: mpmath<1.4,>=1.1.0 in /usr/local/lib/python3.10/dist-packages (from sympy==1.13.1->torch>=1.11.0->sentence-transformers) (1.3.0)\n",
      "Requirement already satisfied: tokenizers<0.22,>=0.21 in /usr/local/lib/python3.10/dist-packages (from transformers<5.0.0,>=4.41.0->sentence-transformers) (0.21.0)\n",
      "Requirement already satisfied: safetensors>=0.4.1 in /usr/local/lib/python3.10/dist-packages (from transformers<5.0.0,>=4.41.0->sentence-transformers) (0.4.5)\n",
      "Requirement already satisfied: sgmllib3k in /usr/local/lib/python3.10/dist-packages (from feedparser->langchain_teddynote) (1.0.0)\n",
      "Requirement already satisfied: kiwipiepy_model<0.21,>=0.20 in /usr/local/lib/python3.10/dist-packages (from kiwipiepy->langchain_teddynote) (0.20.0)\n",
      "Requirement already satisfied: python-dateutil>=2.8.2 in /usr/local/lib/python3.10/dist-packages (from pandas->langchain_teddynote) (2.8.2)\n",
      "Requirement already satisfied: pytz>=2020.1 in /usr/local/lib/python3.10/dist-packages (from pandas->langchain_teddynote) (2024.2)\n",
      "Requirement already satisfied: tzdata>=2022.7 in /usr/local/lib/python3.10/dist-packages (from pandas->langchain_teddynote) (2024.2)\n",
      "Requirement already satisfied: pinecone-plugin-inference<2.0.0,>=1.0.3 in /usr/local/lib/python3.10/dist-packages (from pinecone-client[grpc]->langchain_teddynote) (1.1.0)\n",
      "Requirement already satisfied: pinecone-plugin-interface<0.0.8,>=0.0.7 in /usr/local/lib/python3.10/dist-packages (from pinecone-client[grpc]->langchain_teddynote) (0.0.7)\n",
      "Requirement already satisfied: googleapis-common-protos>=1.53.0 in /usr/local/lib/python3.10/dist-packages (from pinecone-client[grpc]->langchain_teddynote) (1.66.0)\n",
      "Requirement already satisfied: grpcio>=1.44.0 in /usr/local/lib/python3.10/dist-packages (from pinecone-client[grpc]->langchain_teddynote) (1.68.1)\n",
      "Requirement already satisfied: lz4>=3.1.3 in /usr/local/lib/python3.10/dist-packages (from pinecone-client[grpc]->langchain_teddynote) (4.3.3)\n",
      "Requirement already satisfied: protobuf<5.0,>=4.25 in /usr/local/lib/python3.10/dist-packages (from pinecone-client[grpc]->langchain_teddynote) (4.25.5)\n",
      "Requirement already satisfied: protoc-gen-openapiv2<0.0.2,>=0.0.1 in /usr/local/lib/python3.10/dist-packages (from pinecone-client[grpc]->langchain_teddynote) (0.0.1)\n",
      "Requirement already satisfied: mmh3<5.0.0,>=4.1.0 in /usr/local/lib/python3.10/dist-packages (from pinecone-text->langchain_teddynote) (4.1.0)\n",
      "Requirement already satisfied: nltk<4.0.0,>=3.6.5 in /usr/local/lib/python3.10/dist-packages (from pinecone-text->langchain_teddynote) (3.9.1)\n",
      "Requirement already satisfied: types-requests<3.0.0,>=2.25.0 in /usr/local/lib/python3.10/dist-packages (from pinecone-text->langchain_teddynote) (2.32.0.20241016)\n",
      "Requirement already satisfied: wget<4.0,>=3.2 in /usr/local/lib/python3.10/dist-packages (from pinecone-text->langchain_teddynote) (3.2)\n",
      "Requirement already satisfied: joblib>=1.2.0 in /usr/local/lib/python3.10/dist-packages (from scikit-learn->sentence-transformers) (1.4.2)\n",
      "Requirement already satisfied: threadpoolctl>=3.1.0 in /usr/local/lib/python3.10/dist-packages (from scikit-learn->sentence-transformers) (3.5.0)\n",
      "Requirement already satisfied: exceptiongroup in /usr/local/lib/python3.10/dist-packages (from anyio<5,>=3.5.0->openai<2.0.0,>=1.58.1->langchain_openai) (1.2.2)\n",
      "Requirement already satisfied: httpcore==1.* in /usr/local/lib/python3.10/dist-packages (from httpx>=0.25.2->langgraph-sdk<0.2.0,>=0.1.42->langgraph) (1.0.7)\n",
      "Requirement already satisfied: h11<0.15,>=0.13 in /usr/local/lib/python3.10/dist-packages (from httpcore==1.*->httpx>=0.25.2->langgraph-sdk<0.2.0,>=0.1.42->langgraph) (0.14.0)\n",
      "Requirement already satisfied: jsonpointer>=1.9 in /usr/local/lib/python3.10/dist-packages (from jsonpatch<2.0,>=1.33->langchain-core!=0.3.0,!=0.3.1,!=0.3.10,!=0.3.11,!=0.3.12,!=0.3.13,!=0.3.14,!=0.3.15,!=0.3.16,!=0.3.17,!=0.3.18,!=0.3.19,!=0.3.2,!=0.3.20,!=0.3.21,!=0.3.22,!=0.3.3,!=0.3.4,!=0.3.5,!=0.3.6,!=0.3.7,!=0.3.8,!=0.3.9,<0.4.0,>=0.2.43->langgraph) (3.0.0)\n",
      "Requirement already satisfied: click in /usr/local/lib/python3.10/dist-packages (from nltk<4.0.0,>=3.6.5->pinecone-text->langchain_teddynote) (8.1.7)\n",
      "Requirement already satisfied: six>=1.5 in /usr/local/lib/python3.10/dist-packages (from python-dateutil>=2.8.2->pandas->langchain_teddynote) (1.17.0)\n",
      "Requirement already satisfied: mypy-extensions>=0.3.0 in /usr/local/lib/python3.10/dist-packages (from typing-inspect<1,>=0.4.0->dataclasses-json<0.7,>=0.5.7->langchain-community) (1.0.0)\n",
      "Requirement already satisfied: MarkupSafe>=2.0 in /usr/local/lib/python3.10/dist-packages (from jinja2->torch>=1.11.0->sentence-transformers) (3.0.2)\n"
     ]
    }
   ],
   "source": [
    "!pip install langgraph langchain langchain_openai pypdf2 sentence-transformers faiss-gpu faiss-cpu langchain-community langchain_teddynote"
   ]
  },
  {
   "cell_type": "code",
   "execution_count": 3,
   "metadata": {
    "colab": {
     "base_uri": "https://localhost:8080/"
    },
    "executionInfo": {
     "elapsed": 5901,
     "status": "ok",
     "timestamp": 1736144141078,
     "user": {
      "displayName": "최세영",
      "userId": "00062286652302229812"
     },
     "user_tz": -540
    },
    "id": "d2gkeLU5qn0z",
    "outputId": "28ed4733-e1e9-46a1-f321-f3cc29f765c0"
   },
   "outputs": [
    {
     "name": "stdout",
     "output_type": "stream",
     "text": [
      "Requirement already satisfied: python-dotenv in /usr/local/lib/python3.10/dist-packages (1.0.1)\n"
     ]
    }
   ],
   "source": [
    "!pip install python-dotenv"
   ]
  },
  {
   "cell_type": "code",
   "execution_count": null,
   "metadata": {
    "executionInfo": {
     "elapsed": 3,
     "status": "ok",
     "timestamp": 1736144141079,
     "user": {
      "displayName": "최세영",
      "userId": "00062286652302229812"
     },
     "user_tz": -540
    },
    "id": "M_LhuaGSq9be"
   },
   "outputs": [],
   "source": [
    "OPENAI_API_KEY=\"OPENAI_API_KEY\""
   ]
  },
  {
   "cell_type": "code",
   "execution_count": 5,
   "metadata": {
    "colab": {
     "base_uri": "https://localhost:8080/"
    },
    "executionInfo": {
     "elapsed": 1442,
     "status": "ok",
     "timestamp": 1736144142519,
     "user": {
      "displayName": "최세영",
      "userId": "00062286652302229812"
     },
     "user_tz": -540
    },
    "id": "gIrEyToWrPxR",
    "outputId": "0c664d2e-7989-41ba-d9c0-c427ea4c178e"
   },
   "outputs": [
    {
     "name": "stdout",
     "output_type": "stream",
     "text": [
      "LangGraph successfully installed\n"
     ]
    }
   ],
   "source": [
    "from langgraph.graph import StateGraph\n",
    "\n",
    "print(\"LangGraph successfully installed\")"
   ]
  },
  {
   "cell_type": "code",
   "execution_count": 6,
   "metadata": {
    "executionInfo": {
     "elapsed": 1625,
     "status": "ok",
     "timestamp": 1736144144143,
     "user": {
      "displayName": "최세영",
      "userId": "00062286652302229812"
     },
     "user_tz": -540
    },
    "id": "mH475y8DrgGT"
   },
   "outputs": [],
   "source": [
    "from dotenv import load_dotenv\n",
    "from langchain_openai import ChatOpenAI\n",
    "\n",
    "# .env 파일에서 환경 변수 로드\n",
    "load_dotenv()\n",
    "\n",
    "# GPT-4o-mini 설정\n",
    "gpt4o_mini = ChatOpenAI(\n",
    "    model_name=\"gpt-4o-mini\",  # GPT-4o-mini에 해당하는 모델명\n",
    "    temperature=0.7,\n",
    "    openai_api_key=OPENAI_API_KEY,\n",
    "    max_tokens=150,\n",
    ")\n",
    "\n",
    "# GPT-4o 설정\n",
    "gpt4o = ChatOpenAI(\n",
    "    model_name=\"gpt-4o\",  # GPT-4o에 해당하는 모델명\n",
    "    temperature=0.7,\n",
    "    openai_api_key=OPENAI_API_KEY,\n",
    "    max_tokens=300,\n",
    ")"
   ]
  },
  {
   "cell_type": "code",
   "execution_count": 7,
   "metadata": {
    "executionInfo": {
     "elapsed": 20606,
     "status": "ok",
     "timestamp": 1736144164748,
     "user": {
      "displayName": "최세영",
      "userId": "00062286652302229812"
     },
     "user_tz": -540
    },
    "id": "twDjM2HzrryN"
   },
   "outputs": [],
   "source": [
    "from PyPDF2 import PdfReader\n",
    "from langchain.text_splitter import CharacterTextSplitter\n",
    "from sentence_transformers import SentenceTransformer\n",
    "from langchain.vectorstores import FAISS\n",
    "from langchain.embeddings import HuggingFaceEmbeddings\n",
    "from langchain.prompts import PromptTemplate\n",
    "from langchain.chains import RetrievalQA\n",
    "from langgraph.graph import StateGraph, START, END\n",
    "from langgraph.graph.message import add_messages\n",
    "from typing_extensions import TypedDict\n",
    "from langchain.embeddings import OpenAIEmbeddings\n",
    "from langchain_teddynote.graphs import visualize_graph\n",
    "from langchain.schema import HumanMessage\n",
    "\n",
    "import os\n",
    "import numpy as np"
   ]
  },
  {
   "cell_type": "code",
   "execution_count": 26,
   "metadata": {
    "executionInfo": {
     "elapsed": 315,
     "status": "ok",
     "timestamp": 1736145312106,
     "user": {
      "displayName": "최세영",
      "userId": "00062286652302229812"
     },
     "user_tz": -540
    },
    "id": "XPz2WAgdUlTt"
   },
   "outputs": [],
   "source": [
    "# from PyPDF2 import PdfReader\n",
    "# import os\n",
    "\n",
    "# def extract_text_from_pdf(pdf_path):\n",
    "#     reader = PdfReader(pdf_path)\n",
    "#     text = \"\"\n",
    "#     for page in reader.pages:\n",
    "#         text += page.extract_text()\n",
    "#     return text\n",
    "\n",
    "# # PDF 파일 이름 리스트 생성 (paper_001.pdf ~ paper_143.pdf)\n",
    "# pdf_files = [f\"paper_{str(i).zfill(3)}.pdf\" for i in range(1, 144)]\n",
    "\n",
    "# # PDF 텍스트 추출 및 저장\n",
    "# all_texts = []\n",
    "# for pdf_file in pdf_files:\n",
    "#     pdf_path = os.path.join(pdf_folder, pdf_file)\n",
    "#     text = extract_text_from_pdf(pdf_path)\n",
    "#     all_texts.append(text)\n",
    "\n",
    "# print(f\"총 {len(all_texts)}개의 논문 텍스트를 추출했습니다.\")"
   ]
  },
  {
   "cell_type": "code",
   "execution_count": 27,
   "metadata": {
    "executionInfo": {
     "elapsed": 283,
     "status": "ok",
     "timestamp": 1736145400108,
     "user": {
      "displayName": "최세영",
      "userId": "00062286652302229812"
     },
     "user_tz": -540
    },
    "id": "Ej5rPRhgUzjM"
   },
   "outputs": [],
   "source": [
    "# from langchain.text_splitter import CharacterTextSplitter\n",
    "\n",
    "# text_splitter = CharacterTextSplitter(\n",
    "#     separator=\"\\n\",\n",
    "#     chunk_size=1800,\n",
    "#     chunk_overlap=200\n",
    "# )\n",
    "\n",
    "# split_texts = []\n",
    "# for text in all_texts:\n",
    "#     split_texts.extend(text_splitter.split_text(text))\n",
    "\n",
    "# print(f\"분할된 텍스트 총 개수: {len(split_texts)}\")"
   ]
  },
  {
   "cell_type": "code",
   "execution_count": 28,
   "metadata": {
    "executionInfo": {
     "elapsed": 272,
     "status": "ok",
     "timestamp": 1736145422859,
     "user": {
      "displayName": "최세영",
      "userId": "00062286652302229812"
     },
     "user_tz": -540
    },
    "id": "R4gQtjbJVLTN"
   },
   "outputs": [],
   "source": [
    "# from langchain.vectorstores import FAISS\n",
    "# from langchain.embeddings import HuggingFaceEmbeddings\n",
    "# import os\n",
    "\n",
    "# # FAISS 저장 경로 설정\n",
    "# faiss_folder = os.path.join(base_folder, \"faiss\")\n",
    "# os.makedirs(faiss_folder, exist_ok=True)  # 폴더 생성\n",
    "\n",
    "# # HuggingFace 임베딩 모델 설정\n",
    "# embedding_model = HuggingFaceEmbeddings(model_name=\"sentence-transformers/all-MiniLM-L6-v2\")\n",
    "\n",
    "# # FAISS 인덱스 생성\n",
    "# vectorstore = FAISS.from_texts(texts=split_texts, embedding=embedding_model)\n",
    "\n",
    "# # FAISS 인덱스 저장 (pkl 파일 포함)\n",
    "# vectorstore.save_local(folder_path=faiss_folder)\n",
    "\n",
    "# print(f\"FAISS 인덱스와 메타데이터가 {faiss_folder}에 저장되었습니다.\")"
   ]
  },
  {
   "cell_type": "code",
   "execution_count": 8,
   "metadata": {
    "executionInfo": {
     "elapsed": 6,
     "status": "ok",
     "timestamp": 1736144164748,
     "user": {
      "displayName": "최세영",
      "userId": "00062286652302229812"
     },
     "user_tz": -540
    },
    "id": "qYUyexfzHFj9"
   },
   "outputs": [],
   "source": [
    "faiss_folder = \"/content/drive/MyDrive/AiffelThon/csy/Langgraph_tutorial/faiss\""
   ]
  },
  {
   "cell_type": "code",
   "execution_count": 23,
   "metadata": {
    "executionInfo": {
     "elapsed": 288,
     "status": "ok",
     "timestamp": 1736144468044,
     "user": {
      "displayName": "최세영",
      "userId": "00062286652302229812"
     },
     "user_tz": -540
    },
    "id": "opRwy1ceHQj2"
   },
   "outputs": [],
   "source": [
    "from typing import Annotated, TypedDict\n",
    "\n",
    "# Step 1: Define State using LangGraph\n",
    "class State(TypedDict):\n",
    "    messages: Annotated[list, add_messages]  # 메시지 리스트\n",
    "    query: str  # Query 값을 명시적으로 포함"
   ]
  },
  {
   "cell_type": "code",
   "execution_count": 24,
   "metadata": {
    "executionInfo": {
     "elapsed": 407,
     "status": "ok",
     "timestamp": 1736144470006,
     "user": {
      "displayName": "최세영",
      "userId": "00062286652302229812"
     },
     "user_tz": -540
    },
    "id": "zgzMHHUiHY-P"
   },
   "outputs": [],
   "source": [
    "# Step 2: Initialize StateGraph\n",
    "graph = StateGraph(State)"
   ]
  },
  {
   "cell_type": "code",
   "execution_count": 11,
   "metadata": {
    "colab": {
     "base_uri": "https://localhost:8080/",
     "height": 17,
     "referenced_widgets": [
      "6b387866a879487e8020c4e27555ff9c",
      "14f338c842e14d839863e1eb459c69da",
      "31d667a88da44da0923f4b55961a2974",
      "e33543e87b9e4124bd9311edb68239d2",
      "5254343fceba4d989423d460b8adda61",
      "36847659904443618808dffcf3b72314",
      "121462bcf36247d4a96f8be3c2dd425e",
      "8f852f378a3042bb924689ccc6681dac",
      "64c12c1342a0409da2a24ec742f5d018",
      "25e5e081610f40da8e4db8b1b55d5d96",
      "50c03ae08c9b461b9e7cc4e66f16cf42",
      "e921e38267b743d082bae45687935fd2",
      "a1a7c234be0b42bcbbf3c13142a6a030",
      "ec7ad6b565b74061a30fc59e7dcb22e1",
      "dfcb9b31a45340eea25c8ac0f4940735",
      "b87623296eae4cf6a96b74246ccff75e",
      "02dd3c895eee4d5699e0503ebda96c57",
      "fc62036d98654358b4b36e34d3112520",
      "848719b68b974459a48450b5b0308aa0",
      "0012c6b9d24642e799b57961c08435e6"
     ]
    },
    "executionInfo": {
     "elapsed": 6,
     "status": "ok",
     "timestamp": 1736144164749,
     "user": {
      "displayName": "최세영",
      "userId": "00062286652302229812"
     },
     "user_tz": -540
    },
    "id": "2fwRhR6XPEJW",
    "outputId": "b86b7334-b813-4fa8-902d-1986342fe755"
   },
   "outputs": [
    {
     "data": {
      "application/vnd.jupyter.widget-view+json": {
       "model_id": "6b387866a879487e8020c4e27555ff9c",
       "version_major": 2,
       "version_minor": 0
      },
      "text/plain": [
       "VBox(children=(HTML(value='<center> <img\\nsrc=https://huggingface.co/front/assets/huggingface_logo-noborder.sv…"
      ]
     },
     "metadata": {},
     "output_type": "display_data"
    }
   ],
   "source": [
    "import huggingface_hub\n",
    "huggingface_hub.login()"
   ]
  },
  {
   "cell_type": "code",
   "execution_count": 12,
   "metadata": {
    "colab": {
     "base_uri": "https://localhost:8080/"
    },
    "executionInfo": {
     "elapsed": 2489,
     "status": "ok",
     "timestamp": 1736144167233,
     "user": {
      "displayName": "최세영",
      "userId": "00062286652302229812"
     },
     "user_tz": -540
    },
    "id": "S7nma9uzHe6Q",
    "outputId": "d2c921f5-4998-4def-efbd-b3e202fd88b6"
   },
   "outputs": [
    {
     "name": "stderr",
     "output_type": "stream",
     "text": [
      "<ipython-input-12-4b05d9577e78>:1: LangChainDeprecationWarning: The class `HuggingFaceEmbeddings` was deprecated in LangChain 0.2.2 and will be removed in 1.0. An updated version of the class exists in the :class:`~langchain-huggingface package and should be used instead. To use it run `pip install -U :class:`~langchain-huggingface` and import as `from :class:`~langchain_huggingface import HuggingFaceEmbeddings``.\n",
      "  embedding_model = HuggingFaceEmbeddings(model_name=\"sentence-transformers/all-MiniLM-L6-v2\")\n",
      "/usr/local/lib/python3.10/dist-packages/huggingface_hub/utils/_auth.py:94: UserWarning: \n",
      "The secret `HF_TOKEN` does not exist in your Colab secrets.\n",
      "To authenticate with the Hugging Face Hub, create a token in your settings tab (https://huggingface.co/settings/tokens), set it as secret in your Google Colab and restart your session.\n",
      "You will be able to reuse this secret in all of your notebooks.\n",
      "Please note that authentication is recommended but still optional to access public models or datasets.\n",
      "  warnings.warn(\n"
     ]
    }
   ],
   "source": [
    "embedding_model = HuggingFaceEmbeddings(model_name=\"sentence-transformers/all-MiniLM-L6-v2\")\n",
    "\n",
    "vectorstore = FAISS.load_local(\n",
    "    folder_path=faiss_folder,\n",
    "    embeddings=embedding_model,  # Use the embedding associated with the LLM\n",
    "    allow_dangerous_deserialization=True\n",
    ")\n",
    "retriever = vectorstore.as_retriever()"
   ]
  },
  {
   "cell_type": "code",
   "execution_count": 13,
   "metadata": {
    "executionInfo": {
     "elapsed": 3,
     "status": "ok",
     "timestamp": 1736144167233,
     "user": {
      "displayName": "최세영",
      "userId": "00062286652302229812"
     },
     "user_tz": -540
    },
    "id": "qC-CW9EyHqEB"
   },
   "outputs": [],
   "source": [
    "# Step 5: Define RetrievalQA Chain\n",
    "qa_chain = RetrievalQA.from_chain_type(\n",
    "    llm=gpt4o_mini,\n",
    "    retriever=retriever,\n",
    "    return_source_documents=True\n",
    ")"
   ]
  },
  {
   "cell_type": "code",
   "execution_count": 25,
   "metadata": {
    "colab": {
     "base_uri": "https://localhost:8080/"
    },
    "executionInfo": {
     "elapsed": 4002,
     "status": "ok",
     "timestamp": 1736144476048,
     "user": {
      "displayName": "최세영",
      "userId": "00062286652302229812"
     },
     "user_tz": -540
    },
    "id": "zbCeyJQCLKfz",
    "outputId": "d84c4b6b-d0c6-4f1c-96b3-b6be821ee101"
   },
   "outputs": [
    {
     "name": "stdout",
     "output_type": "stream",
     "text": [
      "Initial state: {'messages': [], 'query': 'What is the composition of the NCM used in the paper?'}\n",
      "Current state: {'messages': [], 'query': 'What is the composition of the NCM used in the paper?'}\n"
     ]
    },
    {
     "name": "stderr",
     "output_type": "stream",
     "text": [
      "<ipython-input-25-8cee0669b392>:16: LangChainDeprecationWarning: The method `Chain.__call__` was deprecated in langchain 0.1.0 and will be removed in 1.0. Use :meth:`~invoke` instead.\n",
      "  result = qa_chain({\"query\": query})\n"
     ]
    },
    {
     "name": "stdout",
     "output_type": "stream",
     "text": [
      "system: Answer: The composition of the NCM used in the paper is Ni:Co:Mn = 8:1:1, as indicated in the ICP-AES analysis.\n",
      "\n",
      "Sources:\n",
      "Unknown Source\n",
      "Unknown Source\n",
      "Unknown Source\n",
      "Unknown Source\n",
      "system: Answer: The composition of the NCM used in the paper is Ni:Co:Mn = 8:1:1, as indicated in the ICP-AES analysis.\n",
      "\n",
      "Sources:\n",
      "Unknown Source\n",
      "Unknown Source\n",
      "Unknown Source\n",
      "Unknown Source\n"
     ]
    }
   ],
   "source": [
    "# 'answer_question' 노드 함수 정의\n",
    "def answer_question(state):\n",
    "    \"\"\"\n",
    "    Retrieve an answer using the QA chain and update the state with the response.\n",
    "    \"\"\"\n",
    "    try:\n",
    "        # 디버깅: state의 현재 상태를 출력\n",
    "        print(f\"Current state: {state}\")\n",
    "\n",
    "        # Query 추출\n",
    "        query = state.get(\"query\", \"\")\n",
    "        if not query:\n",
    "            raise ValueError(\"Query is missing in the state.\")  # query가 없으면 예외 발생\n",
    "\n",
    "        # RetrievalQA 체인 실행\n",
    "        result = qa_chain({\"query\": query})\n",
    "\n",
    "        # 답변 및 소스 문서 추출\n",
    "        answer = result.get(\"result\", \"No answer found.\")\n",
    "        source_documents = result.get(\"source_documents\", [])\n",
    "\n",
    "        # 소스 문서 포맷팅\n",
    "        if source_documents:\n",
    "            sources = \"\\n\".join(\n",
    "                [doc.metadata.get(\"source\", \"Unknown Source\") for doc in source_documents]\n",
    "            )\n",
    "        else:\n",
    "            sources = \"No sources available.\"\n",
    "\n",
    "        # 메시지를 dict로 변환해 저장\n",
    "        state[\"messages\"].append({\n",
    "            \"role\": \"system\",\n",
    "            \"content\": f\"Answer: {answer}\\n\\nSources:\\n{sources}\"\n",
    "        })\n",
    "\n",
    "        return state\n",
    "\n",
    "    except Exception as e:\n",
    "        # 에러 발생 시 메시지 업데이트\n",
    "        state[\"messages\"].append({\n",
    "            \"role\": \"system\",\n",
    "            \"content\": f\"Error occurred: {str(e)}\"\n",
    "        })\n",
    "        return state\n",
    "\n",
    "\n",
    "# 노드 추가\n",
    "graph.add_node(\"answer_question\", answer_question)\n",
    "\n",
    "# START에서 'answer_question' 노드로 엣지 추가\n",
    "graph.add_edge(START, \"answer_question\")\n",
    "\n",
    "# 'answer_question' 노드에서 END로 엣지 추가\n",
    "graph.add_edge(\"answer_question\", END)\n",
    "\n",
    "# 그래프 컴파일\n",
    "app = graph.compile()\n",
    "\n",
    "# 그래프 실행 함수\n",
    "def run_graph_with_query(query: str):\n",
    "    \"\"\"\n",
    "    Run the LangGraph with a given query and print the final state messages.\n",
    "    \"\"\"\n",
    "    if not query.strip():\n",
    "        print(\"Query cannot be empty. Please provide a valid query.\")\n",
    "        return\n",
    "\n",
    "    # 초기 상태 정의\n",
    "    initial_state = {\n",
    "        \"messages\": [],  # 메시지 리스트 초기화\n",
    "        \"query\": query.strip(),  # 사용자가 입력한 질의\n",
    "    }\n",
    "\n",
    "    # 그래프 실행\n",
    "    try:\n",
    "        # 초기 상태 출력 (디버깅용)\n",
    "        print(\"Initial state:\", initial_state)\n",
    "\n",
    "        # 그래프 실행\n",
    "        final_state = app.invoke(initial_state)\n",
    "\n",
    "        # 결과 메시지 출력\n",
    "        for message in final_state[\"messages\"]:\n",
    "            if isinstance(message, dict):\n",
    "                print(f\"{message['role']}: {message['content']}\")\n",
    "            elif hasattr(message, \"content\"):  # SystemMessage 객체인 경우 처리\n",
    "                print(f\"system: {message.content}\")\n",
    "            else:\n",
    "                print(f\"Invalid message format: {message}\")\n",
    "\n",
    "    except Exception as e:\n",
    "        print(f\"Error during graph execution: {e}\")\n",
    "\n",
    "\n",
    "# 예시 실행\n",
    "if __name__ == \"__main__\":\n",
    "    # Example query\n",
    "    example_query = \"What is the composition of the NCM used in the paper?\"\n",
    "    run_graph_with_query(example_query)\n"
   ]
  },
  {
   "cell_type": "markdown",
   "metadata": {
    "id": "cqbmFykkT419"
   },
   "source": [
    "일단 FAISS를 통해 임베딩을 해서 그런지 Source를 모르는 것 같음.\n",
    "\n",
    "어떻게 해야할까...?\n",
    "\n",
    "그리고 이게 왜 LangGraph지..?\n",
    "어떤 곳에서도 반복하지 않았는데... 이러면 LangChain과의 차별성이 없지 않나..?\n",
    "\n",
    "어디에 어떻게 뭘 추가해야하지...?\n",
    "\n",
    "너무 복잡한 코딩을 한 것 같다"
   ]
  },
  {
   "cell_type": "code",
   "execution_count": 25,
   "metadata": {
    "executionInfo": {
     "elapsed": 274,
     "status": "ok",
     "timestamp": 1736145116113,
     "user": {
      "displayName": "최세영",
      "userId": "00062286652302229812"
     },
     "user_tz": -540
    },
    "id": "w0zvWmTCKk5M"
   },
   "outputs": [],
   "source": []
  }
 ],
 "metadata": {
  "colab": {
   "authorship_tag": "ABX9TyPcnvkM5nVU+ZaH4RK5Qm3y",
   "provenance": []
  },
  "kernelspec": {
   "display_name": "Python 3",
   "name": "python3"
  },
  "language_info": {
   "name": "python"
  },
  "widgets": {
   "application/vnd.jupyter.widget-state+json": {
    "0012c6b9d24642e799b57961c08435e6": {
     "model_module": "@jupyter-widgets/controls",
     "model_module_version": "1.5.0",
     "model_name": "DescriptionStyleModel",
     "state": {
      "_model_module": "@jupyter-widgets/controls",
      "_model_module_version": "1.5.0",
      "_model_name": "DescriptionStyleModel",
      "_view_count": null,
      "_view_module": "@jupyter-widgets/base",
      "_view_module_version": "1.2.0",
      "_view_name": "StyleView",
      "description_width": ""
     }
    },
    "02dd3c895eee4d5699e0503ebda96c57": {
     "model_module": "@jupyter-widgets/controls",
     "model_module_version": "1.5.0",
     "model_name": "DescriptionStyleModel",
     "state": {
      "_model_module": "@jupyter-widgets/controls",
      "_model_module_version": "1.5.0",
      "_model_name": "DescriptionStyleModel",
      "_view_count": null,
      "_view_module": "@jupyter-widgets/base",
      "_view_module_version": "1.2.0",
      "_view_name": "StyleView",
      "description_width": ""
     }
    },
    "121462bcf36247d4a96f8be3c2dd425e": {
     "model_module": "@jupyter-widgets/base",
     "model_module_version": "1.2.0",
     "model_name": "LayoutModel",
     "state": {
      "_model_module": "@jupyter-widgets/base",
      "_model_module_version": "1.2.0",
      "_model_name": "LayoutModel",
      "_view_count": null,
      "_view_module": "@jupyter-widgets/base",
      "_view_module_version": "1.2.0",
      "_view_name": "LayoutView",
      "align_content": null,
      "align_items": "center",
      "align_self": null,
      "border": null,
      "bottom": null,
      "display": "flex",
      "flex": null,
      "flex_flow": "column",
      "grid_area": null,
      "grid_auto_columns": null,
      "grid_auto_flow": null,
      "grid_auto_rows": null,
      "grid_column": null,
      "grid_gap": null,
      "grid_row": null,
      "grid_template_areas": null,
      "grid_template_columns": null,
      "grid_template_rows": null,
      "height": null,
      "justify_content": null,
      "justify_items": null,
      "left": null,
      "margin": null,
      "max_height": null,
      "max_width": null,
      "min_height": null,
      "min_width": null,
      "object_fit": null,
      "object_position": null,
      "order": null,
      "overflow": null,
      "overflow_x": null,
      "overflow_y": null,
      "padding": null,
      "right": null,
      "top": null,
      "visibility": null,
      "width": "50%"
     }
    },
    "14f338c842e14d839863e1eb459c69da": {
     "model_module": "@jupyter-widgets/controls",
     "model_module_version": "1.5.0",
     "model_name": "HTMLModel",
     "state": {
      "_dom_classes": [],
      "_model_module": "@jupyter-widgets/controls",
      "_model_module_version": "1.5.0",
      "_model_name": "HTMLModel",
      "_view_count": null,
      "_view_module": "@jupyter-widgets/controls",
      "_view_module_version": "1.5.0",
      "_view_name": "HTMLView",
      "description": "",
      "description_tooltip": null,
      "layout": "IPY_MODEL_8f852f378a3042bb924689ccc6681dac",
      "placeholder": "​",
      "style": "IPY_MODEL_64c12c1342a0409da2a24ec742f5d018",
      "value": "<center> <img\nsrc=https://huggingface.co/front/assets/huggingface_logo-noborder.svg\nalt='Hugging Face'> <br> Copy a token from <a\nhref=\"https://huggingface.co/settings/tokens\" target=\"_blank\">your Hugging Face\ntokens page</a> and paste it below. <br> Immediately click login after copying\nyour token or it might be stored in plain text in this notebook file. </center>"
     }
    },
    "25e5e081610f40da8e4db8b1b55d5d96": {
     "model_module": "@jupyter-widgets/base",
     "model_module_version": "1.2.0",
     "model_name": "LayoutModel",
     "state": {
      "_model_module": "@jupyter-widgets/base",
      "_model_module_version": "1.2.0",
      "_model_name": "LayoutModel",
      "_view_count": null,
      "_view_module": "@jupyter-widgets/base",
      "_view_module_version": "1.2.0",
      "_view_name": "LayoutView",
      "align_content": null,
      "align_items": null,
      "align_self": null,
      "border": null,
      "bottom": null,
      "display": null,
      "flex": null,
      "flex_flow": null,
      "grid_area": null,
      "grid_auto_columns": null,
      "grid_auto_flow": null,
      "grid_auto_rows": null,
      "grid_column": null,
      "grid_gap": null,
      "grid_row": null,
      "grid_template_areas": null,
      "grid_template_columns": null,
      "grid_template_rows": null,
      "height": null,
      "justify_content": null,
      "justify_items": null,
      "left": null,
      "margin": null,
      "max_height": null,
      "max_width": null,
      "min_height": null,
      "min_width": null,
      "object_fit": null,
      "object_position": null,
      "order": null,
      "overflow": null,
      "overflow_x": null,
      "overflow_y": null,
      "padding": null,
      "right": null,
      "top": null,
      "visibility": null,
      "width": null
     }
    },
    "31d667a88da44da0923f4b55961a2974": {
     "model_module": "@jupyter-widgets/controls",
     "model_module_version": "1.5.0",
     "model_name": "PasswordModel",
     "state": {
      "_dom_classes": [],
      "_model_module": "@jupyter-widgets/controls",
      "_model_module_version": "1.5.0",
      "_model_name": "PasswordModel",
      "_view_count": null,
      "_view_module": "@jupyter-widgets/controls",
      "_view_module_version": "1.5.0",
      "_view_name": "PasswordView",
      "continuous_update": true,
      "description": "Token:",
      "description_tooltip": null,
      "disabled": false,
      "layout": "IPY_MODEL_25e5e081610f40da8e4db8b1b55d5d96",
      "placeholder": "​",
      "style": "IPY_MODEL_50c03ae08c9b461b9e7cc4e66f16cf42",
      "value": ""
     }
    },
    "36847659904443618808dffcf3b72314": {
     "model_module": "@jupyter-widgets/controls",
     "model_module_version": "1.5.0",
     "model_name": "HTMLModel",
     "state": {
      "_dom_classes": [],
      "_model_module": "@jupyter-widgets/controls",
      "_model_module_version": "1.5.0",
      "_model_name": "HTMLModel",
      "_view_count": null,
      "_view_module": "@jupyter-widgets/controls",
      "_view_module_version": "1.5.0",
      "_view_name": "HTMLView",
      "description": "",
      "description_tooltip": null,
      "layout": "IPY_MODEL_b87623296eae4cf6a96b74246ccff75e",
      "placeholder": "​",
      "style": "IPY_MODEL_02dd3c895eee4d5699e0503ebda96c57",
      "value": "\n<b>Pro Tip:</b> If you don't already have one, you can create a dedicated\n'notebooks' token with 'write' access, that you can then easily reuse for all\nnotebooks. </center>"
     }
    },
    "50c03ae08c9b461b9e7cc4e66f16cf42": {
     "model_module": "@jupyter-widgets/controls",
     "model_module_version": "1.5.0",
     "model_name": "DescriptionStyleModel",
     "state": {
      "_model_module": "@jupyter-widgets/controls",
      "_model_module_version": "1.5.0",
      "_model_name": "DescriptionStyleModel",
      "_view_count": null,
      "_view_module": "@jupyter-widgets/base",
      "_view_module_version": "1.2.0",
      "_view_name": "StyleView",
      "description_width": ""
     }
    },
    "5254343fceba4d989423d460b8adda61": {
     "model_module": "@jupyter-widgets/controls",
     "model_module_version": "1.5.0",
     "model_name": "ButtonModel",
     "state": {
      "_dom_classes": [],
      "_model_module": "@jupyter-widgets/controls",
      "_model_module_version": "1.5.0",
      "_model_name": "ButtonModel",
      "_view_count": null,
      "_view_module": "@jupyter-widgets/controls",
      "_view_module_version": "1.5.0",
      "_view_name": "ButtonView",
      "button_style": "",
      "description": "Login",
      "disabled": false,
      "icon": "",
      "layout": "IPY_MODEL_ec7ad6b565b74061a30fc59e7dcb22e1",
      "style": "IPY_MODEL_dfcb9b31a45340eea25c8ac0f4940735",
      "tooltip": ""
     }
    },
    "64c12c1342a0409da2a24ec742f5d018": {
     "model_module": "@jupyter-widgets/controls",
     "model_module_version": "1.5.0",
     "model_name": "DescriptionStyleModel",
     "state": {
      "_model_module": "@jupyter-widgets/controls",
      "_model_module_version": "1.5.0",
      "_model_name": "DescriptionStyleModel",
      "_view_count": null,
      "_view_module": "@jupyter-widgets/base",
      "_view_module_version": "1.2.0",
      "_view_name": "StyleView",
      "description_width": ""
     }
    },
    "6b387866a879487e8020c4e27555ff9c": {
     "model_module": "@jupyter-widgets/controls",
     "model_module_version": "1.5.0",
     "model_name": "VBoxModel",
     "state": {
      "_dom_classes": [],
      "_model_module": "@jupyter-widgets/controls",
      "_model_module_version": "1.5.0",
      "_model_name": "VBoxModel",
      "_view_count": null,
      "_view_module": "@jupyter-widgets/controls",
      "_view_module_version": "1.5.0",
      "_view_name": "VBoxView",
      "box_style": "",
      "children": [],
      "layout": "IPY_MODEL_121462bcf36247d4a96f8be3c2dd425e"
     }
    },
    "848719b68b974459a48450b5b0308aa0": {
     "model_module": "@jupyter-widgets/base",
     "model_module_version": "1.2.0",
     "model_name": "LayoutModel",
     "state": {
      "_model_module": "@jupyter-widgets/base",
      "_model_module_version": "1.2.0",
      "_model_name": "LayoutModel",
      "_view_count": null,
      "_view_module": "@jupyter-widgets/base",
      "_view_module_version": "1.2.0",
      "_view_name": "LayoutView",
      "align_content": null,
      "align_items": null,
      "align_self": null,
      "border": null,
      "bottom": null,
      "display": null,
      "flex": null,
      "flex_flow": null,
      "grid_area": null,
      "grid_auto_columns": null,
      "grid_auto_flow": null,
      "grid_auto_rows": null,
      "grid_column": null,
      "grid_gap": null,
      "grid_row": null,
      "grid_template_areas": null,
      "grid_template_columns": null,
      "grid_template_rows": null,
      "height": null,
      "justify_content": null,
      "justify_items": null,
      "left": null,
      "margin": null,
      "max_height": null,
      "max_width": null,
      "min_height": null,
      "min_width": null,
      "object_fit": null,
      "object_position": null,
      "order": null,
      "overflow": null,
      "overflow_x": null,
      "overflow_y": null,
      "padding": null,
      "right": null,
      "top": null,
      "visibility": null,
      "width": null
     }
    },
    "8f852f378a3042bb924689ccc6681dac": {
     "model_module": "@jupyter-widgets/base",
     "model_module_version": "1.2.0",
     "model_name": "LayoutModel",
     "state": {
      "_model_module": "@jupyter-widgets/base",
      "_model_module_version": "1.2.0",
      "_model_name": "LayoutModel",
      "_view_count": null,
      "_view_module": "@jupyter-widgets/base",
      "_view_module_version": "1.2.0",
      "_view_name": "LayoutView",
      "align_content": null,
      "align_items": null,
      "align_self": null,
      "border": null,
      "bottom": null,
      "display": null,
      "flex": null,
      "flex_flow": null,
      "grid_area": null,
      "grid_auto_columns": null,
      "grid_auto_flow": null,
      "grid_auto_rows": null,
      "grid_column": null,
      "grid_gap": null,
      "grid_row": null,
      "grid_template_areas": null,
      "grid_template_columns": null,
      "grid_template_rows": null,
      "height": null,
      "justify_content": null,
      "justify_items": null,
      "left": null,
      "margin": null,
      "max_height": null,
      "max_width": null,
      "min_height": null,
      "min_width": null,
      "object_fit": null,
      "object_position": null,
      "order": null,
      "overflow": null,
      "overflow_x": null,
      "overflow_y": null,
      "padding": null,
      "right": null,
      "top": null,
      "visibility": null,
      "width": null
     }
    },
    "a1a7c234be0b42bcbbf3c13142a6a030": {
     "model_module": "@jupyter-widgets/controls",
     "model_module_version": "1.5.0",
     "model_name": "DescriptionStyleModel",
     "state": {
      "_model_module": "@jupyter-widgets/controls",
      "_model_module_version": "1.5.0",
      "_model_name": "DescriptionStyleModel",
      "_view_count": null,
      "_view_module": "@jupyter-widgets/base",
      "_view_module_version": "1.2.0",
      "_view_name": "StyleView",
      "description_width": ""
     }
    },
    "b87623296eae4cf6a96b74246ccff75e": {
     "model_module": "@jupyter-widgets/base",
     "model_module_version": "1.2.0",
     "model_name": "LayoutModel",
     "state": {
      "_model_module": "@jupyter-widgets/base",
      "_model_module_version": "1.2.0",
      "_model_name": "LayoutModel",
      "_view_count": null,
      "_view_module": "@jupyter-widgets/base",
      "_view_module_version": "1.2.0",
      "_view_name": "LayoutView",
      "align_content": null,
      "align_items": null,
      "align_self": null,
      "border": null,
      "bottom": null,
      "display": null,
      "flex": null,
      "flex_flow": null,
      "grid_area": null,
      "grid_auto_columns": null,
      "grid_auto_flow": null,
      "grid_auto_rows": null,
      "grid_column": null,
      "grid_gap": null,
      "grid_row": null,
      "grid_template_areas": null,
      "grid_template_columns": null,
      "grid_template_rows": null,
      "height": null,
      "justify_content": null,
      "justify_items": null,
      "left": null,
      "margin": null,
      "max_height": null,
      "max_width": null,
      "min_height": null,
      "min_width": null,
      "object_fit": null,
      "object_position": null,
      "order": null,
      "overflow": null,
      "overflow_x": null,
      "overflow_y": null,
      "padding": null,
      "right": null,
      "top": null,
      "visibility": null,
      "width": null
     }
    },
    "dfcb9b31a45340eea25c8ac0f4940735": {
     "model_module": "@jupyter-widgets/controls",
     "model_module_version": "1.5.0",
     "model_name": "ButtonStyleModel",
     "state": {
      "_model_module": "@jupyter-widgets/controls",
      "_model_module_version": "1.5.0",
      "_model_name": "ButtonStyleModel",
      "_view_count": null,
      "_view_module": "@jupyter-widgets/base",
      "_view_module_version": "1.2.0",
      "_view_name": "StyleView",
      "button_color": null,
      "font_weight": ""
     }
    },
    "e33543e87b9e4124bd9311edb68239d2": {
     "model_module": "@jupyter-widgets/controls",
     "model_module_version": "1.5.0",
     "model_name": "CheckboxModel",
     "state": {
      "_dom_classes": [],
      "_model_module": "@jupyter-widgets/controls",
      "_model_module_version": "1.5.0",
      "_model_name": "CheckboxModel",
      "_view_count": null,
      "_view_module": "@jupyter-widgets/controls",
      "_view_module_version": "1.5.0",
      "_view_name": "CheckboxView",
      "description": "Add token as git credential?",
      "description_tooltip": null,
      "disabled": false,
      "indent": true,
      "layout": "IPY_MODEL_e921e38267b743d082bae45687935fd2",
      "style": "IPY_MODEL_a1a7c234be0b42bcbbf3c13142a6a030",
      "value": true
     }
    },
    "e921e38267b743d082bae45687935fd2": {
     "model_module": "@jupyter-widgets/base",
     "model_module_version": "1.2.0",
     "model_name": "LayoutModel",
     "state": {
      "_model_module": "@jupyter-widgets/base",
      "_model_module_version": "1.2.0",
      "_model_name": "LayoutModel",
      "_view_count": null,
      "_view_module": "@jupyter-widgets/base",
      "_view_module_version": "1.2.0",
      "_view_name": "LayoutView",
      "align_content": null,
      "align_items": null,
      "align_self": null,
      "border": null,
      "bottom": null,
      "display": null,
      "flex": null,
      "flex_flow": null,
      "grid_area": null,
      "grid_auto_columns": null,
      "grid_auto_flow": null,
      "grid_auto_rows": null,
      "grid_column": null,
      "grid_gap": null,
      "grid_row": null,
      "grid_template_areas": null,
      "grid_template_columns": null,
      "grid_template_rows": null,
      "height": null,
      "justify_content": null,
      "justify_items": null,
      "left": null,
      "margin": null,
      "max_height": null,
      "max_width": null,
      "min_height": null,
      "min_width": null,
      "object_fit": null,
      "object_position": null,
      "order": null,
      "overflow": null,
      "overflow_x": null,
      "overflow_y": null,
      "padding": null,
      "right": null,
      "top": null,
      "visibility": null,
      "width": null
     }
    },
    "ec7ad6b565b74061a30fc59e7dcb22e1": {
     "model_module": "@jupyter-widgets/base",
     "model_module_version": "1.2.0",
     "model_name": "LayoutModel",
     "state": {
      "_model_module": "@jupyter-widgets/base",
      "_model_module_version": "1.2.0",
      "_model_name": "LayoutModel",
      "_view_count": null,
      "_view_module": "@jupyter-widgets/base",
      "_view_module_version": "1.2.0",
      "_view_name": "LayoutView",
      "align_content": null,
      "align_items": null,
      "align_self": null,
      "border": null,
      "bottom": null,
      "display": null,
      "flex": null,
      "flex_flow": null,
      "grid_area": null,
      "grid_auto_columns": null,
      "grid_auto_flow": null,
      "grid_auto_rows": null,
      "grid_column": null,
      "grid_gap": null,
      "grid_row": null,
      "grid_template_areas": null,
      "grid_template_columns": null,
      "grid_template_rows": null,
      "height": null,
      "justify_content": null,
      "justify_items": null,
      "left": null,
      "margin": null,
      "max_height": null,
      "max_width": null,
      "min_height": null,
      "min_width": null,
      "object_fit": null,
      "object_position": null,
      "order": null,
      "overflow": null,
      "overflow_x": null,
      "overflow_y": null,
      "padding": null,
      "right": null,
      "top": null,
      "visibility": null,
      "width": null
     }
    },
    "fc62036d98654358b4b36e34d3112520": {
     "model_module": "@jupyter-widgets/controls",
     "model_module_version": "1.5.0",
     "model_name": "LabelModel",
     "state": {
      "_dom_classes": [],
      "_model_module": "@jupyter-widgets/controls",
      "_model_module_version": "1.5.0",
      "_model_name": "LabelModel",
      "_view_count": null,
      "_view_module": "@jupyter-widgets/controls",
      "_view_module_version": "1.5.0",
      "_view_name": "LabelView",
      "description": "",
      "description_tooltip": null,
      "layout": "IPY_MODEL_848719b68b974459a48450b5b0308aa0",
      "placeholder": "​",
      "style": "IPY_MODEL_0012c6b9d24642e799b57961c08435e6",
      "value": "Connecting..."
     }
    }
   }
  }
 },
 "nbformat": 4,
 "nbformat_minor": 0
}
