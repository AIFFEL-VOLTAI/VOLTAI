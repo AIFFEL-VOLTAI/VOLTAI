{
 "cells": [
  {
   "cell_type": "code",
   "execution_count": 1,
   "metadata": {},
   "outputs": [
    {
     "name": "stderr",
     "output_type": "stream",
     "text": [
      "/Users/limseongbeom/anaconda3/envs/voltai/lib/python3.11/site-packages/tqdm/auto.py:21: TqdmWarning: IProgress not found. Please update jupyter and ipywidgets. See https://ipywidgets.readthedocs.io/en/stable/user_install.html\n",
      "  from .autonotebook import tqdm as notebook_tqdm\n"
     ]
    },
    {
     "name": "stdout",
     "output_type": "stream",
     "text": [
      "=== ROUGE ===\n",
      "{'rouge1': 0.15384615384615385, 'rouge2': 0.0, 'rougeL': 0.15384615384615385}\n",
      "\n",
      "=== BLEU ===\n",
      "BLEU Score: 5.791739854583281e-155\n",
      "\n",
      "=== METEOR ===\n"
     ]
    },
    {
     "name": "stderr",
     "output_type": "stream",
     "text": [
      "/Users/limseongbeom/anaconda3/envs/voltai/lib/python3.11/site-packages/nltk/translate/bleu_score.py:577: UserWarning: \n",
      "The hypothesis contains 0 counts of 3-gram overlaps.\n",
      "Therefore the BLEU score evaluates to 0, independently of\n",
      "how many N-gram overlaps of lower order it contains.\n",
      "Consider using lower n-gram order or use SmoothingFunction()\n",
      "  warnings.warn(_msg)\n",
      "/Users/limseongbeom/anaconda3/envs/voltai/lib/python3.11/site-packages/nltk/translate/bleu_score.py:577: UserWarning: \n",
      "The hypothesis contains 0 counts of 4-gram overlaps.\n",
      "Therefore the BLEU score evaluates to 0, independently of\n",
      "how many N-gram overlaps of lower order it contains.\n",
      "Consider using lower n-gram order or use SmoothingFunction()\n",
      "  warnings.warn(_msg)\n"
     ]
    },
    {
     "name": "stdout",
     "output_type": "stream",
     "text": [
      "METEOR Score: 0.5\n",
      "\n",
      "=== Semantic Similarity (STS) ===\n",
      "STS Score: 0.9095637798309326\n"
     ]
    }
   ],
   "source": [
    "# SB/metrics 내의 평가지표 모듈 임포트\n",
    "from metrics.rouge_metric import calculate_rouge\n",
    "from metrics.bleu_metric import calculate_bleu\n",
    "from metrics.meteor_metric import calculate_meteor\n",
    "from metrics.sem_score_metric import calculate_semantic_similarity\n",
    "\n",
    "# 테스트용 데이터 정의\n",
    "sent1 = \"Hello, my name is Teddy.\"\n",
    "sent2 = \"Hi, I'm Teddy. Nice to meet you!\"\n",
    "\n",
    "# 각 평가지표 테스트\n",
    "print(\"=== ROUGE ===\")\n",
    "print(calculate_rouge(sent1, sent2))\n",
    "\n",
    "print(\"\\n=== BLEU ===\")\n",
    "print(\"BLEU Score:\", calculate_bleu(sent1, sent2))\n",
    "\n",
    "print(\"\\n=== METEOR ===\")\n",
    "print(\"METEOR Score:\", calculate_meteor(sent1, sent2))\n",
    "\n",
    "print(\"\\n=== Semantic Similarity (STS) ===\")\n",
    "print(\"STS Score:\", calculate_semantic_similarity(sent1, sent2))"
   ]
  }
 ],
 "metadata": {
  "kernelspec": {
   "display_name": "voltai",
   "language": "python",
   "name": "python3"
  },
  "language_info": {
   "codemirror_mode": {
    "name": "ipython",
    "version": 3
   },
   "file_extension": ".py",
   "mimetype": "text/x-python",
   "name": "python",
   "nbconvert_exporter": "python",
   "pygments_lexer": "ipython3",
   "version": "3.11.11"
  }
 },
 "nbformat": 4,
 "nbformat_minor": 2
}
