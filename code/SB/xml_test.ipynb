{
 "cells": [
  {
   "cell_type": "code",
   "execution_count": 3,
   "metadata": {},
   "outputs": [
    {
     "data": {
      "text/plain": [
       "'The continuous development of optimized lithium-ion batteries (LIBs) is indispensable on the way to sustainable, cost-efficient and long-range electric vehicles (EVs). Besides the quest for high power performance and good safety characteristics, increasing the energy density appears to be a prime goal in the development of next-generation LIBs.\\nIn this work, we show that NCM111 and NCM811 cells provide virtually the same energy density at 4.6 and 4.3 V, respectively. Furthermore, we demonstrate that it is very important to analyze both the performance and structural degradation of different Ni content NCM cathodes for a given energy level rather than voltage range in a reference-type LIB. To allow for a reasonable performance assessment, we estimate the energy densities as a function of U max for a variety of NCMs and correlate the results with structural properties of the materials from operando X-ray diffraction.\\nLi 1.02 Ni x Mn y Co z O 2 (x + y + z = 1) cathode materials with x:y:z'"
      ]
     },
     "execution_count": 3,
     "metadata": {},
     "output_type": "execute_result"
    }
   ],
   "source": [
    "from xml.etree import ElementTree as ET\n",
    "import re\n",
    "\n",
    "def remove_references_from_text(file_path):\n",
    "    # Load XML file\n",
    "    tree = ET.parse(file_path)\n",
    "    root = tree.getroot()\n",
    "    namespaces = {\"tei\": \"http://www.tei-c.org/ns/1.0\"}\n",
    "\n",
    "    # Extract references\n",
    "    references = []\n",
    "    for bibl in root.findall(\".//tei:listBibl/tei:biblStruct\", namespaces):\n",
    "        ref_text = []\n",
    "        for child in bibl.iter():\n",
    "            if child.text:\n",
    "                ref_text.append(child.text.strip())\n",
    "        references.append(\" \".join(ref_text))\n",
    "\n",
    "    # Extract body text\n",
    "    body_text = []\n",
    "    for body in root.findall(\".//tei:body\", namespaces):\n",
    "        for paragraph in body.findall(\".//tei:p\", namespaces):\n",
    "            if paragraph.text:\n",
    "                body_text.append(paragraph.text.strip())\n",
    "\n",
    "    # Combine body text\n",
    "    full_text = \"\\n\".join(body_text)\n",
    "\n",
    "    # Generate a pattern for reference citations (e.g., [1], (Author, 2008))\n",
    "    citation_pattern = r\"\\[\\d+\\]|\\([^\\)]+\\d{4}\\)\"\n",
    "\n",
    "    # Remove references from the body text\n",
    "    clean_text = re.sub(citation_pattern, \"\", full_text)\n",
    "\n",
    "    return clean_text\n",
    "\n",
    "# File path to the TEI XML\n",
    "file_path = \"paper_008.pdf.tei.xml\"\n",
    "clean_text = remove_references_from_text(file_path)\n",
    "\n",
    "# Save the clean text to a file or return it\n",
    "clean_text[:1000]  # Display first 1000 characters of cleaned text"
   ]
  },
  {
   "cell_type": "code",
   "execution_count": 4,
   "metadata": {},
   "outputs": [
    {
     "data": {
      "text/plain": [
       "'The continuous development of optimized lithium-ion batteries (LIBs) is indispensable on the way to sustainable, cost-efficient and long-range electric vehicles (EVs). Besides the quest for high power performance and good safety characteristics, increasing the energy density appears to be a prime goal in the development of next-generation LIBs.\\nIn this work, we show that NCM111 and NCM811 cells provide virtually the same energy density at 4.6 and 4.3 V, respectively. Furthermore, we demonstrate that it is very important to analyze both the performance and structural degradation of different Ni content NCM cathodes for a given energy level rather than voltage range in a reference-type LIB. To allow for a reasonable performance assessment, we estimate the energy densities as a function of U max for a variety of NCMs and correlate the results with structural properties of the materials from operando X-ray diffraction.\\nLi 1.02 Ni x Mn y Co z O 2 (x + y + z = 1) cathode materials with x:y:z = 1:1:1 (NCM111), 5:2:3 (NCM523), 6:2:2 (NCM622), 7:2:1 (NCM721), 8:1:1 (NCM811) and 85:10:5  were obtained from BASF SE (Ludwigshafen, Germany). All electrodes were prepared by slurry casting onto Al foil using a KTF-S roll-to-roll coater (Mathis AG). For NCM622, NCM721, NCM811 and NCM851005, slurries were obtained by dispersing cathode material (94 wt %), Super C65 (1 wt %, Timcal) and SFG6L (2 wt %, Timcal) conductive carbon additives as well as Solef 5130 PVDF binder (3 wt %, Solvay) in 1-ethyl-2-pyrrolidone (NEP). For NCM111 and NCM523, slurries were obtained by dispersing cathode material (93 wt %), Super C65 (1.5 wt %) and SFG6L (2.5 wt %) conductive carbon additives as well as Solef 5130 PVDF binder (3 wt %) in NEP.\\nElectrochemical characterization was conducted at 25 °C on coin-type cells. The cells were assembled inside an Ar-filled glovebox (MBraun) by stacking cathode, glass microfiber separator (GF/D, GE Healthcare Life Sciences, Whatman) and lithium foil anode (Albemarle Germany GmbH) of diameters 13, 17, and 13 mm, respectively, using 250 μL of either LP30 (1 M LiPF 6 in a 1:1 [wt/wt] mixture of ethylene carbonate and dimethyl carbonate) or LP47 (1 M LiPF 6 in a 3:7 [w/w] mixture of ethylene carbonate and diethyl carbonate) as electrolytes (BASF SE). The areal loadings were 2.0 mAh/ cm 2 at C/10 and U max = 4.3 V. The energy densities were calculated from the specific capacity and average discharge voltage and are given as average of two cycles from two to four cells. Powder X-ray diffraction (XRD) was performed using a laboratory diffractometer optimized for battery research.\\nAll samples show characteristic redox peaks in the voltage range of 3.6-3.8 V (Figure\\nFigure\\nTo make a fair comparison among the different NCM materials\\ue0d5also with respect to their structural stability (see below)\\ue0d5U max required to achieve the specific energy of NCM811 operated at 4.3 V (≈750 Wh/kg) was calculated for each composition. According to our estimates, NCM111, NCM523, NCM622, NCM721, and NCM851005 need to be operated at around 4.6, 4.55, 4.45, 4.4, and 4.25 V, respectively (Figure\\nStructural Characteristics. An overview of the NCM materials employed in this work and their composition are given in Table\\nThe lattice parameters of the pristine materials are given in Table\\nFigure\\nAnalogous XRD measurements were conducted on all NCM cathode materials. Figure\\nBecause of the excellent time resolution of only 150 s per pattern we were able to directly correlate structural with electrochemical features. As mentioned above, both NCM811 and NCM851005 show a subtle plateau in the voltage profile above 4.1 V, appearing as a peak in the differential capacity curves. On the basis of the XRD data we calculated the \"differential unit cell volume\", which is the first derivative of the unit cell volume with respect to cell voltage (Figure\\nFrom a practical point of view, it is important to note that the relative changes in lattice parameters a and c during charge lead to a large decrease in unit cell volume. As is shown in Figures\\nTo better compare the microstructural stability among the different NCM samples, the relative unit cell volume changes with delithiation were evaluated in more detail. Figure\\nFinally, the cycling performance of the different Ni content NCMs was evaluated based on our specific energy concept (Figure\\nOverall, it is not entirely clear which NCM cell chemistry provides the optimum in terms of energy density and cycling stability. To answer this question it is important to better understand the different LIB degradation processes and how they affect each other. Clearly, for high-Ni NCMs, improving the structural stability is one of the major challenges toward commercialization, while for medium-Ni NCMs, the high (surface) reactivity toward oxidative electrolyte decomposition at high operating voltage must be addressed.\\nA comparative study of the electrochemical and structural properties of a series of Li 1.02 Ni x Co y Mn z O 2 cathode materials with x = 1/3, 0.5, 0.6, 0.7, 0.8, and 0.85 in Li cells was performed in an attempt to identify the composition providing the optimum in energy density and stability. It is shown that high-Ni NCMs  offer the highest energy densities in the state-of-the-art voltage range of 3.0-4.3 V. However, it is important to note that low-and medium-Ni NCMs, in principle, would be capable of delivering competitive energy densities if the maximum cell voltage could be increased without inducing deleterious side reactions (e.g., NCM111 and NCM622 at 4.6 and 4.45 V, respectively).\\nOperando X-ray diffraction revealed that, irrespective of the Ni content, all NCM materials are subjected to structural changes during operation. Yet, most importantly, it was found that the total change in unit cell volume increases virtually linearly with increasing Ni content for similar energy densities (here based on that of NCM811 at 4.3 V). This leads us to the assumption that increasing the Ni content results in major challenges in terms of mechanical strain and structural degradation. However, galvanostatic charge/discharge tests indicated that Ni-rich NCMs still show better capacity retention than low-and medium-Ni NCMs charged to higher cutoff voltages. This result emphasizes that each and every NCM cathode material has its own issues, especially when approaching the desired specific energy range required for application in electric vehicles. Thus, from a scientific point of view, it is a must to recognize and understand the (cell-voltagedependent) limiting factors of the different Ni content NCMs and to find solutions to optimize their performance. Besides, the presence and interplay of degradation processes such as electrolyte decomposition and transition metal dissolution, to name a few, need to be thoroughly investigated when dealing with full-cells.\\nThe Supporting Information is available free of charge on the ACS Publications website at DOI: 10.1021/acs.jpcc.7b06363.\\nNCM851005 Li 1.02 Ni 0.85 Co 0.1 Mn 0.05 O 2 Li 0.89 Ni 0.85 Co 0.1 Mn 0.05 O 2 Li 0.09 Ni 0.85 Co 0.1 Mn 0.05 O 2\\n*(P.H.) Telephone: +49 621 6048636. E-mail: pascal. hartmann@basf.com.\\nDOI: 10.1021/acs.jpcc.7b06363 J. Phys. Chem. C 2017, 121, 26163-26171'"
      ]
     },
     "execution_count": 4,
     "metadata": {},
     "output_type": "execute_result"
    }
   ],
   "source": [
    "clean_text"
   ]
  },
  {
   "cell_type": "code",
   "execution_count": 5,
   "metadata": {},
   "outputs": [
    {
     "data": {
      "text/plain": [
       "7252"
      ]
     },
     "execution_count": 5,
     "metadata": {},
     "output_type": "execute_result"
    }
   ],
   "source": [
    "len(clean_text)"
   ]
  },
  {
   "cell_type": "code",
   "execution_count": null,
   "metadata": {},
   "outputs": [],
   "source": []
  }
 ],
 "metadata": {
  "kernelspec": {
   "display_name": "voltai",
   "language": "python",
   "name": "python3"
  },
  "language_info": {
   "codemirror_mode": {
    "name": "ipython",
    "version": 3
   },
   "file_extension": ".py",
   "mimetype": "text/x-python",
   "name": "python",
   "nbconvert_exporter": "python",
   "pygments_lexer": "ipython3",
   "version": "3.11.11"
  }
 },
 "nbformat": 4,
 "nbformat_minor": 2
}
