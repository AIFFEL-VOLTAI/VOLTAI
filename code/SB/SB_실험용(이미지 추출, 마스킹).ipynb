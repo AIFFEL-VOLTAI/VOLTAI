{
 "cells": [
  {
   "cell_type": "code",
   "execution_count": 1,
   "metadata": {},
   "outputs": [
    {
     "name": "stdout",
     "output_type": "stream",
     "text": [
      "test\n"
     ]
    }
   ],
   "source": [
    "print(\"test\")"
   ]
  },
  {
   "cell_type": "code",
   "execution_count": 3,
   "metadata": {},
   "outputs": [
    {
     "name": "stdout",
     "output_type": "stream",
     "text": [
      "Extracted: extracted_images/page_1_img_1.jpeg\n",
      "Extracted: extracted_images/page_1_img_2.jpeg\n",
      "Extracted: extracted_images/page_1_img_3.png\n",
      "Extracted: extracted_images/page_3_img_1.jpeg\n",
      "Extracted: extracted_images/page_3_img_2.jpeg\n",
      "Extracted: extracted_images/page_4_img_1.jpeg\n",
      "Extracted: extracted_images/page_5_img_1.jpeg\n",
      "Extracted: extracted_images/page_6_img_1.jpeg\n",
      "Extracted: extracted_images/page_6_img_2.jpeg\n",
      "Extracted: extracted_images/page_7_img_1.jpeg\n",
      "Extracted: extracted_images/page_8_img_1.jpeg\n",
      "모든 이미지 추출 완료!\n"
     ]
    }
   ],
   "source": [
    "import fitz  # PyMuPDF\n",
    "import os\n",
    "\n",
    "# PDF 파일 경로 설정\n",
    "pdf_path = \"참고논문_1.pdf\"\n",
    "output_folder = \"extracted_images\"\n",
    "\n",
    "# 출력 폴더 생성\n",
    "os.makedirs(output_folder, exist_ok=True)\n",
    "\n",
    "# PDF 열기\n",
    "doc = fitz.open(pdf_path)\n",
    "\n",
    "# 페이지별로 이미지 추출\n",
    "for page_num in range(len(doc)):\n",
    "    page = doc[page_num]\n",
    "    # 이미지 추출\n",
    "    images = page.get_images(full=True)\n",
    "    for img_index, img in enumerate(images):\n",
    "        xref = img[0]\n",
    "        base_image = doc.extract_image(xref)\n",
    "        image_bytes = base_image[\"image\"]\n",
    "        image_ext = base_image[\"ext\"]  # 이미지 확장자 (예: jpg, png)\n",
    "        image_filename = f\"page_{page_num + 1}_img_{img_index + 1}.{image_ext}\"\n",
    "        image_path = os.path.join(output_folder, image_filename)\n",
    "\n",
    "        # 이미지 저장\n",
    "        with open(image_path, \"wb\") as f:\n",
    "            f.write(image_bytes)\n",
    "\n",
    "        print(f\"Extracted: {image_path}\")\n",
    "\n",
    "print(\"모든 이미지 추출 완료!\")"
   ]
  },
  {
   "cell_type": "code",
   "execution_count": null,
   "metadata": {},
   "outputs": [
    {
     "name": "stdout",
     "output_type": "stream",
     "text": [
      "Original image shape: (431, 529, 3)\n"
     ]
    },
    {
     "name": "stderr",
     "output_type": "stream",
     "text": [
      "2024-12-19 11:17:22.822 python[45050:3516611] +[IMKClient subclass]: chose IMKClient_Modern\n",
      "2024-12-19 11:17:22.822 python[45050:3516611] +[IMKInputSession subclass]: chose IMKInputSession_Modern\n"
     ]
    }
   ],
   "source": [
    "import cv2\n",
    "import numpy as np\n",
    "\n",
    "# 이미지 로드\n",
    "image_path = \"image.png\"  # 입력 이미지 경로\n",
    "image = cv2.imread(image_path)\n",
    "\n",
    "# 이미지 크기 확인\n",
    "print(f\"Original image shape: {image.shape}\")\n",
    "\n",
    "# 이미지 복사\n",
    "output_image = image.copy()\n",
    "\n",
    "# BGR에서 HSV로 변환\n",
    "hsv = cv2.cvtColor(image, cv2.COLOR_BGR2HSV)\n",
    "\n",
    "# 빨간색 라인 범위 (Hue 값에 따라 범위 설정)\n",
    "lower_red = np.array([0, 100, 100])  # 하한 값 (H, S, V)\n",
    "upper_red = np.array([10, 255, 255])  # 상한 값 (H, S, V)\n",
    "\n",
    "# 녹색 라인 범위\n",
    "lower_green = np.array([50, 100, 100])\n",
    "upper_green = np.array([70, 255, 255])\n",
    "\n",
    "# 빨간색과 녹색 라인을 검출\n",
    "red_mask = cv2.inRange(hsv, lower_red, upper_red)\n",
    "green_mask = cv2.inRange(hsv, lower_green, upper_green)\n",
    "\n",
    "# 빨간색과 녹색 라인을 하얀색으로 변경\n",
    "output_image[red_mask > 0] = [255, 255, 255]  # 빨간색 → 하얀색\n",
    "output_image[green_mask > 0] = [255, 255, 255]  # 녹색 → 하얀색\n",
    "\n",
    "# 결과 출력\n",
    "cv2.imshow(\"Original Image\", image)\n",
    "cv2.imshow(\"Modified Image\", output_image)\n",
    "\n",
    "# 결과 저장\n",
    "cv2.imwrite(\"modified_image.png\", output_image)\n",
    "\n",
    "# 창 닫기\n",
    "cv2.waitKey(0)\n",
    "cv2.destroyAllWindows()"
   ]
  },
  {
   "cell_type": "code",
   "execution_count": 7,
   "metadata": {},
   "outputs": [
    {
     "name": "stdout",
     "output_type": "stream",
     "text": [
      "Collecting opencv-python\n",
      "  Using cached opencv_python-4.10.0.84-cp37-abi3-macosx_11_0_arm64.whl.metadata (20 kB)\n",
      "Collecting numpy>=1.21.2 (from opencv-python)\n",
      "  Downloading numpy-2.2.0-cp310-cp310-macosx_14_0_arm64.whl.metadata (62 kB)\n",
      "Using cached opencv_python-4.10.0.84-cp37-abi3-macosx_11_0_arm64.whl (54.8 MB)\n",
      "Downloading numpy-2.2.0-cp310-cp310-macosx_14_0_arm64.whl (5.4 MB)\n",
      "\u001b[2K   \u001b[90m━━━━━━━━━━━━━━━━━━━━━━━━━━━━━━━━━━━━━━━━\u001b[0m \u001b[32m5.4/5.4 MB\u001b[0m \u001b[31m40.9 MB/s\u001b[0m eta \u001b[36m0:00:00\u001b[0m\n",
      "\u001b[?25hInstalling collected packages: numpy, opencv-python\n",
      "Successfully installed numpy-2.2.0 opencv-python-4.10.0.84\n"
     ]
    }
   ],
   "source": [
    "!pip install opencv-python"
   ]
  },
  {
   "cell_type": "code",
   "execution_count": 1,
   "metadata": {},
   "outputs": [
    {
     "name": "stderr",
     "output_type": "stream",
     "text": [
      "2024-12-19 15:02:08.324 python[65920:4149894] +[IMKClient subclass]: chose IMKClient_Modern\n",
      "2024-12-19 15:02:08.324 python[65920:4149894] +[IMKInputSession subclass]: chose IMKInputSession_Modern\n"
     ]
    }
   ],
   "source": [
    "import cv2\n",
    "import numpy as np\n",
    "\n",
    "# 이미지 로드\n",
    "image_path = \"image.png\"  # 입력 이미지 경로\n",
    "image = cv2.imread(image_path)\n",
    "\n",
    "# BGR 색상 정의 (입력된 색상을 BGR로 변환)\n",
    "blue_bgr = (164, 35, 37)   # #2523A4 -> BGR\n",
    "green_bgr = (76, 220, 84)  # #54DC4C -> BGR\n",
    "red_bgr = (63, 53, 187)    # #BB353F -> BGR\n",
    "\n",
    "# 남길 색상 선택 (blue_bgr, green_bgr, red_bgr 중 선택)\n",
    "target_color = blue_bgr  # 예: 파란색 라인만 남기고 나머지는 제거\n",
    "\n",
    "# 색상 범위 정의 (±10 정도의 허용 오차 적용)\n",
    "tolerance = 10\n",
    "lower_bound = np.array([max(0, c - tolerance) for c in target_color], dtype=np.uint8)\n",
    "upper_bound = np.array([min(255, c + tolerance) for c in target_color], dtype=np.uint8)\n",
    "\n",
    "# 이미지 복사 (출력용)\n",
    "output_image = image.copy()\n",
    "\n",
    "# 색상 범위에 해당하지 않는 영역을 흰색으로 변경\n",
    "mask = cv2.inRange(image, lower_bound, upper_bound)  # 대상 색상만 남기기 위한 마스크\n",
    "output_image[mask == 0] = [255, 255, 255]  # 마스크 외부 영역은 흰색으로 변경\n",
    "\n",
    "# 결과 저장 및 시각화\n",
    "output_path = \"filtered_image.png\"\n",
    "cv2.imwrite(output_path, output_image)\n",
    "\n",
    "# 출력 이미지 확인\n",
    "cv2.imshow(\"Original Image\", image)\n",
    "cv2.imshow(\"Filtered Image\", output_image)\n",
    "cv2.waitKey(0)\n",
    "cv2.destroyAllWindows()"
   ]
  },
  {
   "cell_type": "code",
   "execution_count": null,
   "metadata": {},
   "outputs": [
    {
     "name": "stderr",
     "output_type": "stream",
     "text": [
      "2024-12-19 15:05:46.033 python[66138:4154124] +[IMKClient subclass]: chose IMKClient_Modern\n",
      "2024-12-19 15:05:46.033 python[66138:4154124] +[IMKInputSession subclass]: chose IMKInputSession_Modern\n"
     ]
    },
    {
     "ename": "",
     "evalue": "",
     "output_type": "error",
     "traceback": [
      "\u001b[1;31m현재 셀 또는 이전 셀에서 코드를 실행하는 동안 Kernel이 충돌했습니다. \n",
      "\u001b[1;31m셀의 코드를 검토하여 가능한 오류 원인을 식별하세요. \n",
      "\u001b[1;31m자세한 내용을 보려면 <a href='https://aka.ms/vscodeJupyterKernelCrash'>여기</a>를 클릭하세요. \n",
      "\u001b[1;31m자세한 내용은 Jupyter <a href='command:jupyter.viewOutput'>로그</a>를 참조하세요."
     ]
    }
   ],
   "source": [
    "import cv2\n",
    "import numpy as np\n",
    "\n",
    "# 이미지 로드\n",
    "image_path = \"image.png\"  # 입력 이미지 경로\n",
    "image = cv2.imread(image_path)\n",
    "\n",
    "# BGR 색상 정의 (입력된 색상을 BGR로 변환)\n",
    "blue_bgr = (164, 35, 37)   # #2523A4 -> BGR\n",
    "green_bgr = (76, 220, 84)  # #54DC4C -> BGR\n",
    "red_bgr = (63, 53, 187)    # #BB353F -> BGR\n",
    "\n",
    "# 남길 색상 선택 (blue_bgr, green_bgr, red_bgr 중 선택)\n",
    "target_color = blue_bgr  # 예: 파란색 라인만 남기고 나머지는 제거\n",
    "\n",
    "# 색상 범위 정의 (±10 정도의 허용 오차 적용)\n",
    "tolerance = 100\n",
    "lower_bound = np.array([max(0, c - tolerance) for c in target_color], dtype=np.uint8)\n",
    "upper_bound = np.array([min(255, c + tolerance) for c in target_color], dtype=np.uint8)\n",
    "\n",
    "# 이미지 복사 (출력용)\n",
    "output_image = image.copy()\n",
    "\n",
    "# 마스크 생성: 선택한 색상만 남기기 위한 마스크\n",
    "mask = cv2.inRange(image, lower_bound, upper_bound)  # 선택된 색상 영역\n",
    "inverse_mask = cv2.bitwise_not(mask)  # 선택된 색상 외 영역\n",
    "\n",
    "# 하얀색으로 변경: 선택된 색상 영역만 남기고 나머지는 하얀색으로\n",
    "output_image[mask == 0] = [255, 255, 255]  # 마스크 외부 영역 하얀색으로 변경\n",
    "\n",
    "# 검은색은 유지: 검은색 영역 복원\n",
    "black_mask = cv2.inRange(image, np.array([0, 0, 0]), np.array([150, 150, 150]))  # 검은색 탐지\n",
    "output_image[black_mask > 0] = [0, 0, 0]  # 검은색 영역 복원\n",
    "\n",
    "# 결과 저장 및 시각화\n",
    "output_path = \"filtered_image_with_black.png\"\n",
    "cv2.imwrite(output_path, output_image)\n",
    "\n",
    "# 출력 이미지 확인\n",
    "cv2.imshow(\"Original Image\", image)\n",
    "cv2.imshow(\"Filtered Image\", output_image)\n",
    "cv2.waitKey(0)\n",
    "cv2.destroyAllWindows()"
   ]
  },
  {
   "cell_type": "code",
   "execution_count": null,
   "metadata": {},
   "outputs": [],
   "source": []
  }
 ],
 "metadata": {
  "kernelspec": {
   "display_name": "pdf",
   "language": "python",
   "name": "python3"
  },
  "language_info": {
   "codemirror_mode": {
    "name": "ipython",
    "version": 3
   },
   "file_extension": ".py",
   "mimetype": "text/x-python",
   "name": "python",
   "nbconvert_exporter": "python",
   "pygments_lexer": "ipython3",
   "version": "3.10.16"
  }
 },
 "nbformat": 4,
 "nbformat_minor": 2
}
