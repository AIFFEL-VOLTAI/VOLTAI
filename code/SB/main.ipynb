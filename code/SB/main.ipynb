{
 "cells": [
  {
   "cell_type": "code",
   "execution_count": 1,
   "metadata": {},
   "outputs": [],
   "source": [
    "import os\n",
    "import pandas as pd\n",
    "from dotenv import load_dotenv\n",
    "from langchain_core.runnables import RunnableConfig\n",
    "from langchain_teddynote.messages import random_uuid\n",
    "import pprint\n",
    "import argparse\n",
    "\n",
    "from utils import load_question\n",
    "\n",
    "from graph import DataExtractor"
   ]
  },
  {
   "cell_type": "code",
   "execution_count": 2,
   "metadata": {},
   "outputs": [],
   "source": [
    "# .env 파일 로드\n",
    "load_dotenv(dotenv_path=\".env\")\n",
    "\n",
    "# API 키 가져오기\n",
    "OPENAI_API_KEY = os.getenv(\"OPENAI_API_KEY\")\n",
    "LANGCHAIN_API_KEY = os.getenv(\"LANGCHAIN_API_KEY\")\n",
    "\n",
    "# LangSmith 추적 기능을 활성화합니다. (선택적)\n",
    "os.environ[\"LANGCHAIN_TRACING_V2\"] = \"true\"\n",
    "os.environ[\"LANGCHAIN_PROJECT\"] = \"Multi-agent Collaboration\""
   ]
  },
  {
   "cell_type": "code",
   "execution_count": 3,
   "metadata": {},
   "outputs": [],
   "source": [
    "# 4개의 질문 입력\n",
    "questions = load_question()\n"
   ]
  },
  {
   "cell_type": "code",
   "execution_count": 5,
   "metadata": {},
   "outputs": [
    {
     "name": "stdout",
     "output_type": "stream",
     "text": [
      "#####   39번째 논문    #####\n",
      "    vectordb-paper_039을 ./vectordb/vectordb-paper_039에 저장했습니다.\n",
      "0.4\n",
      "1번째 질문\n",
      "        RELEVANCE CHECK : yes\n",
      "    vectordb-paper_039을 불러왔습니다.\n",
      "0.6\n",
      "1번째 질문\n",
      "        RELEVANCE CHECK : yes\n",
      "    vectordb-paper_039을 불러왔습니다.\n",
      "0.8\n",
      "1번째 질문\n",
      "        RELEVANCE CHECK : yes\n"
     ]
    }
   ],
   "source": [
    "total_outputs = {}\n",
    "for file_num in [39]:\n",
    "    print(f\"#####   {file_num}번째 논문    #####\")\n",
    "    # `file_num` 키 초기화\n",
    "    if file_num not in total_outputs:\n",
    "        total_outputs[file_num] = {}\n",
    "\n",
    "    for j in [0.4, 0.6, 0.8]:\n",
    "        voltai_graph = DataExtractor(\n",
    "            # folder_path, \n",
    "            file_number=file_num,\n",
    "            temperature = j\n",
    "        ).graph\n",
    "        print(j)\n",
    "        # config 설정(재귀 최대 횟수, thread_id)\n",
    "        config = RunnableConfig(\n",
    "            recursion_limit=20, \n",
    "            configurable={\"thread_id\": random_uuid()}\n",
    "        )\n",
    "\n",
    "        # 4개의 질문에 대해 그래프 실행 및 출력\n",
    "        results = []\n",
    "        for i, question in enumerate(questions):\n",
    "            print(f\"{i+1}번째 질문\")\n",
    "            result = voltai_graph.invoke(\n",
    "                input={\"question\": question},\n",
    "                config=config,\n",
    "            )\n",
    "            results.append(result)\n",
    "\n",
    "        # `i` 값에 따른 결과 저장\n",
    "        total_outputs[file_num][f\"{j}\"] = results"
   ]
  },
  {
   "cell_type": "code",
   "execution_count": 25,
   "metadata": {},
   "outputs": [
    {
     "data": {
      "text/plain": [
       "[{'CAM (Cathode Active Material)': {'Stoichiometry information': {'NCM-622': {'Li ratio': 'None',\n",
       "     'Ni ratio': 'None',\n",
       "     'Co ratio': 'None',\n",
       "     'Mn ratio': 'None',\n",
       "     'O ratio': 'None'},\n",
       "    'ZrO2-NCM-622 (Z622)': {'Li ratio': 'None',\n",
       "     'Ni ratio': 'None',\n",
       "     'Co ratio': 'None',\n",
       "     'Mn ratio': 'None',\n",
       "     'O ratio': 'None'}},\n",
       "   'Whether or not commercial NCM was used for each sample (Stoichiometry information in order)': ['None',\n",
       "    'None'],\n",
       "   'Lithium source': 'LiOH·H2O',\n",
       "   'Synthesis method': 'solid-phase method',\n",
       "   'Describe the crystallization method, such as Hydrothermal, Sintering, or any other technique used during the process.': 'spray drying',\n",
       "   'What is the Crystallization final temperature in degree of Celcius used in the process? (e.g., calcination or sintering) mentioned for the crystallization stage.': '780',\n",
       "   'What is the time duration for the final crystallization process, including any calcination or sintering stages? Specify the hours.': '10',\n",
       "   'Doping': 'W6+',\n",
       "   'Coating': 'None',\n",
       "   'Additional treatment': 'None'}}]"
      ]
     },
     "execution_count": 25,
     "metadata": {},
     "output_type": "execute_result"
    }
   ],
   "source": [
    "total_outputs[39][\"0.4\"][0]['answer']"
   ]
  },
  {
   "cell_type": "code",
   "execution_count": 21,
   "metadata": {},
   "outputs": [
    {
     "data": {
      "text/plain": [
       "dict_values([{'NCM-622': {'Li ratio': 'None', 'Ni ratio': 'None', 'Co ratio': 'None', 'Mn ratio': 'None', 'O ratio': 'None'}, 'ZrO2-NCM-622 (Z622)': {'Li ratio': 'None', 'Ni ratio': 'None', 'Co ratio': 'None', 'Mn ratio': 'None', 'O ratio': 'None'}}, ['None', 'None'], 'LiOH·H2O', 'solid-phase method', 'Spray drying and calcination', '780', '10', 'W6+', 'None', 'None'])"
      ]
     },
     "execution_count": 21,
     "metadata": {},
     "output_type": "execute_result"
    }
   ],
   "source": [
    "total_outputs[39][\"0.6\"][0]['answer'][0]['CAM (Cathode Active Material)'].values()"
   ]
  },
  {
   "cell_type": "code",
   "execution_count": 23,
   "metadata": {},
   "outputs": [],
   "source": [
    "a =str(total_outputs[39][\"0.8\"][0]['answer'][0])"
   ]
  },
  {
   "cell_type": "code",
   "execution_count": 24,
   "metadata": {},
   "outputs": [
    {
     "data": {
      "text/plain": [
       "\"{'CAM (Cathode Active Material)': {'Stoichiometry information': {'NCM-622': {'Li ratio': 'None', 'Ni ratio': 'None', 'Co ratio': 'None', 'Mn ratio': 'None', 'O ratio': 'None'}, 'ZrO2-NCM-622 (Z622)': {'Li ratio': 'None', 'Ni ratio': 'None', 'Co ratio': 'None', 'Mn ratio': 'None', 'O ratio': 'None'}}, 'Whether or not commercial NCM was used for each sample (Stoichiometry information in order)': ['None', 'None'], 'Lithium source': 'LiOH·H2O', 'Synthesis method': 'solid-phase method', 'Describe the crystallization method, such as Hydrothermal, Sintering, or any other technique used during the process.': 'calcination', 'What is the Crystallization final temperature in degree of Celcius used in the process? (e.g., calcination or sintering) mentioned for the crystallization stage.': '780', 'What is the time duration for the final crystallization process, including any calcination or sintering stages? Specify the hours.': '10', 'Doping': 'W6+', 'Coating': 'None', 'Additional treatment': 'None'}}\""
      ]
     },
     "execution_count": 24,
     "metadata": {},
     "output_type": "execute_result"
    }
   ],
   "source": [
    "a"
   ]
  },
  {
   "cell_type": "code",
   "execution_count": null,
   "metadata": {},
   "outputs": [],
   "source": []
  }
 ],
 "metadata": {
  "kernelspec": {
   "display_name": "voltai",
   "language": "python",
   "name": "python3"
  },
  "language_info": {
   "codemirror_mode": {
    "name": "ipython",
    "version": 3
   },
   "file_extension": ".py",
   "mimetype": "text/x-python",
   "name": "python",
   "nbconvert_exporter": "python",
   "pygments_lexer": "ipython3",
   "version": "3.11.11"
  }
 },
 "nbformat": 4,
 "nbformat_minor": 2
}
