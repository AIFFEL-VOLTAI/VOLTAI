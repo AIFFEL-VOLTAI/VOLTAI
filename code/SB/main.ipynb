{
 "cells": [
  {
   "cell_type": "code",
   "execution_count": 1,
   "metadata": {},
   "outputs": [],
   "source": [
    "import os\n",
    "import pandas as pd\n",
    "from dotenv import load_dotenv\n",
    "from langchain_core.runnables import RunnableConfig\n",
    "from langchain_teddynote.messages import random_uuid\n",
    "import pprint\n",
    "import argparse\n",
    "\n",
    "from utils import load_question\n",
    "\n",
    "from graph import DataExtractor\n",
    "import json\n"
   ]
  },
  {
   "cell_type": "code",
   "execution_count": 2,
   "metadata": {},
   "outputs": [],
   "source": [
    "# .env 파일 로드\n",
    "load_dotenv(dotenv_path=\".env\")\n",
    "\n",
    "# API 키 가져오기\n",
    "OPENAI_API_KEY = os.getenv(\"OPENAI_API_KEY\")\n",
    "LANGCHAIN_API_KEY = os.getenv(\"LANGCHAIN_API_KEY\")\n",
    "\n",
    "# LangSmith 추적 기능을 활성화합니다. (선택적)\n",
    "os.environ[\"LANGCHAIN_TRACING_V2\"] = \"true\"\n",
    "os.environ[\"LANGCHAIN_PROJECT\"] = \"Multi-agent Collaboration\""
   ]
  },
  {
   "cell_type": "code",
   "execution_count": 3,
   "metadata": {},
   "outputs": [],
   "source": [
    "# 4개의 질문 입력\n",
    "question_list = load_question()\n"
   ]
  },
  {
   "cell_type": "code",
   "execution_count": 4,
   "metadata": {},
   "outputs": [
    {
     "name": "stdout",
     "output_type": "stream",
     "text": [
      "#####   8번째 논문    #####\n",
      "    vectordb-paper_008을 불러왔습니다.\n",
      "        RELEVANCE CHECK for ANSWER 3 : yes\n",
      "        RELEVANCE CHECK for ANSWER 1 : yes\n",
      "        RELEVANCE CHECK for ANSWER 2 : yes\n",
      "        Success Discussion!\n",
      "#####   35번째 논문    #####\n",
      "    vectordb-paper_035을 불러왔습니다.\n",
      "        RELEVANCE CHECK for ANSWER 2 : yes\n",
      "        RELEVANCE CHECK for ANSWER 1 : yes\n",
      "        RELEVANCE CHECK for ANSWER 3 : yes\n",
      "        Success Discussion!\n"
     ]
    }
   ],
   "source": [
    "total_outputs = {}\n",
    "for file_num in [8,35]:\n",
    "    print(f\"#####   {file_num}번째 논문    #####\")\n",
    "    voltai_graph = DataExtractor(\n",
    "        # folder_path, \n",
    "        file_number=file_num\n",
    "    ).graph\n",
    "\n",
    "    # config 설정(재귀 최대 횟수, thread_id)\n",
    "    config = RunnableConfig(\n",
    "        recursion_limit=20, \n",
    "        configurable={\"thread_id\": random_uuid()}\n",
    "    )\n",
    "\n",
    "    # 4개의 질문에 대해 그래프 실행 및 출력\n",
    "    result = voltai_graph.invoke(\n",
    "        input={\"question\":question_list[0]},\n",
    "        config=config,\n",
    "    )\n",
    "    total_outputs[file_num] = result"
   ]
  },
  {
   "cell_type": "code",
   "execution_count": 5,
   "metadata": {},
   "outputs": [
    {
     "data": {
      "text/plain": [
       "[{'CAM (Cathode Active Material)': {'Stoichiometry information': {'NCM-622': {'Li ratio': '1.02',\n",
       "     'Ni ratio': '0.6',\n",
       "     'Co ratio': '0.2',\n",
       "     'Mn ratio': '0.2',\n",
       "     'O ratio': '2'}},\n",
       "   'Whether or not commercial NCM was used for each sample (Stoichiometry information in order)': ['None'],\n",
       "   'Lithium source': 'None',\n",
       "   'Synthesis method': 'None',\n",
       "   'Describe the crystallization method, such as Hydrothermal, Sintering, or any other technique used during the process.': 'None',\n",
       "   'What is the Crystallization final temperature in degree of Celcius used in the process? (e.g., calcination or sintering) mentioned for the crystallization stage.': 'None',\n",
       "   'What is the time duration for the final crystallization process, including any calcination or sintering stages? Specify the hours.': 'None',\n",
       "   'Doping': 'None',\n",
       "   'Coating': 'None',\n",
       "   'Additional treatment': 'None'}}]"
      ]
     },
     "execution_count": 5,
     "metadata": {},
     "output_type": "execute_result"
    }
   ],
   "source": [
    "total_outputs[8]['answer1']"
   ]
  },
  {
   "cell_type": "code",
   "execution_count": 6,
   "metadata": {},
   "outputs": [
    {
     "data": {
      "text/plain": [
       "[{'CAM (Cathode Active Material)': {'Stoichiometry information': {'NCM-622': {'Li ratio': '1.02',\n",
       "     'Ni ratio': '0.6',\n",
       "     'Co ratio': '0.2',\n",
       "     'Mn ratio': '0.2',\n",
       "     'O ratio': '2'}},\n",
       "   'Whether or not commercial NCM was used for each sample (Stoichiometry information in order)': ['None'],\n",
       "   'Lithium source': 'None',\n",
       "   'Synthesis method': 'None',\n",
       "   'Describe the crystallization method, such as Hydrothermal, Sintering, or any other technique used during the process.': 'None',\n",
       "   'What is the Crystallization final temperature in degree of Celcius used in the process? (e.g., calcination or sintering) mentioned for the crystallization stage.': 'None',\n",
       "   'What is the time duration for the final crystallization process, including any calcination or sintering stages? Specify the hours.': 'None',\n",
       "   'Doping': 'None',\n",
       "   'Coating': 'None',\n",
       "   'Additional treatment': 'None'}}]"
      ]
     },
     "execution_count": 6,
     "metadata": {},
     "output_type": "execute_result"
    }
   ],
   "source": [
    "total_outputs[8]['answer2']"
   ]
  },
  {
   "cell_type": "code",
   "execution_count": 7,
   "metadata": {},
   "outputs": [
    {
     "data": {
      "text/plain": [
       "[{'CAM (Cathode Active Material)': {'Stoichiometry information': {'NCM-622': {'Li ratio': '1.02',\n",
       "     'Ni ratio': '0.6',\n",
       "     'Co ratio': '0.2',\n",
       "     'Mn ratio': '0.2',\n",
       "     'O ratio': '2'}},\n",
       "   'Whether or not commercial NCM was used for each sample (Stoichiometry information in order)': ['yes'],\n",
       "   'Lithium source': 'None',\n",
       "   'Synthesis method': 'None',\n",
       "   'Describe the crystallization method, such as Hydrothermal, Sintering, or any other technique used during the process.': 'None',\n",
       "   'What is the Crystallization final temperature in degree of Celcius used in the process? (e.g., calcination or sintering) mentioned for the crystallization stage.': 'None',\n",
       "   'What is the time duration for the final crystallization process, including any calcination or sintering stages? Specify the hours.': 'None',\n",
       "   'Doping': 'None',\n",
       "   'Coating': 'None',\n",
       "   'Additional treatment': 'None'}}]"
      ]
     },
     "execution_count": 7,
     "metadata": {},
     "output_type": "execute_result"
    }
   ],
   "source": [
    "total_outputs[8]['answer3']"
   ]
  },
  {
   "cell_type": "code",
   "execution_count": 8,
   "metadata": {},
   "outputs": [
    {
     "data": {
      "text/plain": [
       "{'CAM (Cathode Active Material)': {'Stoichiometry information': {'NCM-622': {'Li ratio': '1.02',\n",
       "    'Ni ratio': '0.6',\n",
       "    'Co ratio': '0.2',\n",
       "    'Mn ratio': '0.2',\n",
       "    'O ratio': '2'},\n",
       "   'ZrO2-NCM-622 (Z622)': {'Li ratio': 'None',\n",
       "    'Ni ratio': 'None',\n",
       "    'Co ratio': 'None',\n",
       "    'Mn ratio': 'None',\n",
       "    'O ratio': 'None'}},\n",
       "  'Whether or not commercial NCM was used for each sample (Stoichiometry information in order)': ['yes',\n",
       "   'None'],\n",
       "  'Lithium source': 'None',\n",
       "  'Synthesis method': 'None',\n",
       "  'Describe the crystallization method, such as Hydrothermal, Sintering, or any other technique used during the process.': 'None',\n",
       "  'What is the Crystallization final temperature in degree of Celcius used in the process? (e.g., calcination or sintering) mentioned for the crystallization stage.': 'None',\n",
       "  'What is the time duration for the final crystallization process, including any calcination or sintering stages? Specify the hours.': 'None',\n",
       "  'Doping': 'None',\n",
       "  'Coating': 'None',\n",
       "  'Additional treatment': 'None'}}"
      ]
     },
     "execution_count": 8,
     "metadata": {},
     "output_type": "execute_result"
    }
   ],
   "source": [
    "total_outputs[8]['discussion']"
   ]
  },
  {
   "cell_type": "code",
   "execution_count": 9,
   "metadata": {},
   "outputs": [
    {
     "data": {
      "text/plain": [
       "{'CAM (Cathode Active Material)': {'Stoichiometry information': {'LiNi0.85Co0.10Mn0.05O2': {'Li ratio': '1',\n",
       "    'Ni ratio': '0.85',\n",
       "    'Co ratio': '0.10',\n",
       "    'Mn ratio': '0.05',\n",
       "    'O ratio': '2'}},\n",
       "  'Whether or not commercial NCM was used for each sample (Stoichiometry information in order)': ['no'],\n",
       "  'Lithium source': 'LiOH',\n",
       "  'Synthesis method': 'co-precipitation',\n",
       "  'Describe the crystallization method, such as Hydrothermal, Sintering, or any other technique used during the process.': 'Sintering',\n",
       "  'What is the Crystallization final temperature in degree of Celcius used in the process? (e.g., calcination or sintering) mentioned for the crystallization stage.': '750',\n",
       "  'What is the time duration for the final crystallization process, including any calcination or sintering stages? Specify the hours.': '12',\n",
       "  'Doping': 'None',\n",
       "  'Coating': 'Boric acid',\n",
       "  'Additional treatment': 'Water washing'}}"
      ]
     },
     "execution_count": 9,
     "metadata": {},
     "output_type": "execute_result"
    }
   ],
   "source": [
    "total_outputs[35]['discussion']"
   ]
  },
  {
   "cell_type": "code",
   "execution_count": null,
   "metadata": {},
   "outputs": [],
   "source": []
  }
 ],
 "metadata": {
  "kernelspec": {
   "display_name": "voltai",
   "language": "python",
   "name": "python3"
  },
  "language_info": {
   "codemirror_mode": {
    "name": "ipython",
    "version": 3
   },
   "file_extension": ".py",
   "mimetype": "text/x-python",
   "name": "python",
   "nbconvert_exporter": "python",
   "pygments_lexer": "ipython3",
   "version": "3.11.11"
  }
 },
 "nbformat": 4,
 "nbformat_minor": 2
}
