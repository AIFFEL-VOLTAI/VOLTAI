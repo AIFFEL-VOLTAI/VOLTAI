{
 "cells": [
  {
   "cell_type": "markdown",
   "metadata": {},
   "source": [
    "## 1. Sample Name을 추출하는 Rag LLM 만들기"
   ]
  },
  {
   "cell_type": "code",
   "execution_count": 1,
   "metadata": {},
   "outputs": [
    {
     "name": "stdout",
     "output_type": "stream",
     "text": [
      "LangSmith 추적을 시작합니다.\n",
      "[프로젝트명]\n",
      "RAG-Experiment\n"
     ]
    }
   ],
   "source": [
    "import os\n",
    "from dotenv import load_dotenv\n",
    "from pprint import pprint\n",
    "\n",
    "from langchain_teddynote import logging\n",
    "\n",
    "import sys\n",
    "sys.path.append(\"../../\")\n",
    "\n",
    "from graph_relevancerag import RelevanceRAG\n",
    "from graph_ensemblerag import EnsembleRAG\n",
    "from graph_multiagentrag import MultiAgentRAG\n",
    "from utils import *\n",
    "\n",
    "# .env 파일 로드\n",
    "load_dotenv(dotenv_path=\".env\")\n",
    "\n",
    "# API 키 가져오기\n",
    "OPENAI_API_KEY = os.getenv(\"OPENAI_API_KEY\")\n",
    "LANGCHAIN_API_KEY = os.getenv(\"LANGCHAIN_API_KEY\")\n",
    "\n",
    "# LangSmith 추적 기능을 활성화합니다. (선택적)\n",
    "os.environ[\"LANGCHAIN_TRACING_V2\"] = \"true\"\n",
    "os.environ[\"LANGCHAIN_PROJECT\"] = \"Multi-agent Collaboration\"\n",
    "\n",
    "# 프로젝트 이름을 입력합니다.\n",
    "logging.langsmith(\"RAG-Experiment\")"
   ]
  },
  {
   "cell_type": "markdown",
   "metadata": {},
   "source": [
    "##### system prompt 수정"
   ]
  },
  {
   "cell_type": "code",
   "execution_count": 5,
   "metadata": {},
   "outputs": [
    {
     "name": "stdout",
     "output_type": "stream",
     "text": [
      "## ../../config/relevance-rag/c1-system-prompt.yaml를 불러왔습니다.\n",
      "## ../../config/relevance-rag/c1-question.yaml를 불러왔습니다.\n"
     ]
    }
   ],
   "source": [
    "system_prompt = load_system_prompt(config_folder=\"../../config\", category_number=1, rag_method=\"relevance-rag\")"
   ]
  },
  {
   "cell_type": "code",
   "execution_count": 6,
   "metadata": {},
   "outputs": [
    {
     "name": "stdout",
     "output_type": "stream",
     "text": [
      "{'llm_answer_system_prompt': 'You are an expert assistant specializing in '\n",
      "                             'extracting information from research papers '\n",
      "                             'related to battery technology. Your role is to '\n",
      "                             'carefully analyze the provided PDF and extract '\n",
      "                             'key data in a structured JSON format. Follow '\n",
      "                             'these instructions strictly:\\n'\n",
      "                             '\\n'\n",
      "                             '1. **Domain-Specific Focus**:\\n'\n",
      "                             '  - Focus exclusively on content related to '\n",
      "                             'battery technology (e.g., materials, synthesis '\n",
      "                             'methods, properties, performance metrics).\\n'\n",
      "                             '  - Ignore irrelevant sections or general '\n",
      "                             'references outside the battery-related content.\\n'\n",
      "                             '\\n'\n",
      "                             '2. **Extraction Guidelines**:\\n'\n",
      "                             '  - Use the JSON structure provided as a '\n",
      "                             'template.\\n'\n",
      "                             '  - Replace placeholders with values found in '\n",
      "                             'the PDF.\\n'\n",
      "                             '  - If a field is not mentioned in the PDF, '\n",
      "                             'write null instead of removing it.\\n'\n",
      "                             '\\n'\n",
      "                             '3. **Data Formatting Requirements**:\\n'\n",
      "                             '  - Numerical Data: Extract values (e.g., '\n",
      "                             'ratios, temperatures, durations) with maximum '\n",
      "                             'precision.\\n'\n",
      "                             '  - Descriptive Data: Summarize the relevant '\n",
      "                             'information concisely without adding '\n",
      "                             'interpretations.\\n'\n",
      "                             '  - Stoichiometry Information:\\n'\n",
      "                             '    - Use all of the NCM cathode sample names '\n",
      "                             '(e.g., \"NCM-622\") provided in the '\n",
      "                             'electrochemical performance section.\\n'\n",
      "                             '    - Write element ratios in float type with '\n",
      "                             'decimal points.\\n'\n",
      "                             '    - Convert fractional ratios into float type '\n",
      "                             '(e.g., 3/4 → 0.75).\\n'\n",
      "                             '  - Lithium Source:\\n'\n",
      "                             '    - If the lithium source is in hydrate form '\n",
      "                             '(e.g., LiOH · H2O), record only its base form '\n",
      "                             '(e.g., LiOH).\\n'\n",
      "                             '  - Crystallization Process:\\n'\n",
      "                             '    - For heat treatment temperatures or '\n",
      "                             'durations, if multiple values are provided, '\n",
      "                             'record only the final temperature and duration '\n",
      "                             'used.\\n'\n",
      "                             '  - Units:\\n'\n",
      "                             '    - Do not include units in the values.\\n'\n",
      "                             '  - Repetition:\\n'\n",
      "                             '    - Avoid repeating words like \"doping\" or '\n",
      "                             '\"coating\" that duplicate the key names.\\n'\n",
      "                             '\\n'\n",
      "                             '4. **Special Instructions for Coin Cell '\n",
      "                             'Manufacturing Data**:\\n'\n",
      "                             '  - If multiple types of conductive additives '\n",
      "                             '(carbon) are mentioned, sum their ratios and '\n",
      "                             'record the total.\\n'\n",
      "                             '  - Use abbreviations for solvents (e.g., '\n",
      "                             'Ethylene Carbonate → EC).\\n'\n",
      "                             '  - For additives, format them as: \"additive '\n",
      "                             'name, weight ratio [%]\" (e.g., \"FEC, 10%\"). '\n",
      "                             'Convert full names into abbreviations wherever '\n",
      "                             'applicable.\\n'\n",
      "                             '\\n'\n",
      "                             '5. **External Reference Exclusion**:\\n'\n",
      "                             '  - Only use information from the provided PDF.\\n'\n",
      "                             '  - Ignore any external references not contained '\n",
      "                             'in the PDF.\\n'\n",
      "                             '\\n'\n",
      "                             '6. **Final Notes**:\\n'\n",
      "                             '  - Do not directly reproduce example values '\n",
      "                             'provided in the prompts.\\n'\n",
      "                             '  - Strictly adhere to the prescribed JSON '\n",
      "                             'schema and formatting.\\n'\n",
      "                             '  - Do not include titles or information from '\n",
      "                             'reference papers mentioned in the document.\\n'\n",
      "                             '\\n'\n",
      "                             'Example:\\n'\n",
      "                             '{example}\\n'\n",
      "                             '\\n'\n",
      "                             'Document:\\n'\n",
      "                             '{context}\\n'\n",
      "                             '\\n'\n",
      "                             'Question:\\n'\n",
      "                             '{question}\\n'\n",
      "                             '\\n'\n",
      "                             'Answer:'}\n"
     ]
    }
   ],
   "source": [
    "pprint(system_prompt)"
   ]
  },
  {
   "cell_type": "markdown",
   "metadata": {},
   "source": [
    "##### Sample Name Retriever"
   ]
  },
  {
   "cell_type": "code",
   "execution_count": null,
   "metadata": {},
   "outputs": [
    {
     "name": "stdout",
     "output_type": "stream",
     "text": [
      "##       paper_022 retriever를 생성했습니다.\n",
      "##          - chunk_size    :1000\n",
      "##          - chunk_overlap :100\n",
      "##          - retrieve_k    :10\n"
     ]
    }
   ],
   "source": [
    "# ## crew.py\n",
    "# from tools import embedding_file\n",
    "# from langchain_openai import ChatOpenAI\n",
    "# from langchain_core.documents.base import Document\n",
    "# from langchain.prompts import PromptTemplate\n",
    "# from langchain_core.output_parsers import CommaSeparatedListOutputParser\n",
    "# from langchain_core.runnables import RunnablePassthrough\n",
    "\n",
    "# ## retriever 호출\n",
    "# retriever = embedding_file(\n",
    "#     file_folder=\"../../data/input_data\", \n",
    "#     file_name=\"paper_022\", \n",
    "#     rag_method=\"relevance-rag\", \n",
    "#     chunk_size=1000, \n",
    "#     chunk_overlap=100, \n",
    "#     search_k=10\n",
    "# )\n",
    "\n",
    "# ## Sample Name Retriever LLM Prompt\n",
    "# sample_name_retriever_prompt = \"\"\"\n",
    "#   You are an expert assistant specializing in extracting information from research papers related to battery technology. Your role is to carefully analyze the provided document.\n",
    "\n",
    "#   Document:\n",
    "#   {context}\n",
    "\n",
    "#   Question:\n",
    "#   {question}\n",
    "\n",
    "#   Answer:\n",
    "#   \"\"\"\n",
    "  \n",
    "# sample_name_retriever_question = \"\"\"Use all of the NCM cathode sample names (e.g., 'NCM-622', 'pristine NCM', 'M-NCM') provided in the electrochemical performance section. You just output sample names.\"\"\"\n",
    "\n",
    "# llm = ChatOpenAI(model_name=\"gpt-4o\", temperature=0)\n",
    "\n",
    "# # 문서에서 검색하여 관련성 있는 문서를 찾습니다.\n",
    "# retrieved_docs = retriever.invoke(sample_name_retriever_question)\n",
    "\n",
    "# def format_docs(docs: list[Document]) -> str:\n",
    "#     \"\"\"문시 리스트에서 텍스트를 추출하여 하나의 문자로 합치는 기능을 합니다.\n",
    "\n",
    "#     Args:\n",
    "#         docs (list[Document]): 여러 개의 Documnet 객체로 이루어진 리스트\n",
    "\n",
    "#     Returns:\n",
    "#         str: 모든 문서의 텍스트가 하나로 합쳐진 문자열을 반환\n",
    "#     \"\"\"\n",
    "#     return \"\\n\\n\".join(doc.page_content for doc in docs)\n",
    "\n",
    "\n",
    "# # 검색된 문서를 형식화합니다.(프롬프트 입력으로 넣어주기 위함)\n",
    "# retrieved_docs = format_docs(retrieved_docs)\n",
    "\n",
    "# output_parser = CommaSeparatedListOutputParser()\n",
    "# format_instructions = output_parser.get_format_instructions()\n",
    "\n",
    "# # prompt 설정\n",
    "# prompt = PromptTemplate(\n",
    "#     template=sample_name_retriever_prompt,\n",
    "#     input_variables=[\"context\", \"question\"],\n",
    "#     partial_variables={\"format_instructions\": format_instructions},\n",
    "#     )\n",
    "\n",
    "# # 체인 호출\n",
    "# chain = prompt | llm | output_parser \n",
    "# response = chain.invoke(\n",
    "#     {\n",
    "#         \"question\": sample_name_retriever_question,\n",
    "#         \"context\": retrieved_docs,\n",
    "#     }\n",
    "# )"
   ]
  },
  {
   "cell_type": "code",
   "execution_count": 15,
   "metadata": {},
   "outputs": [
    {
     "name": "stdout",
     "output_type": "stream",
     "text": [
      "##       paper_022 retriever를 생성했습니다.\n",
      "##          - chunk_size    :1000\n",
      "##          - chunk_overlap :100\n",
      "##          - retrieve_k    :10\n"
     ]
    }
   ],
   "source": [
    "from crew import Crew\n",
    "sample_name_searcher_chain = Crew(file_folder=\"../../data/input_data\", file_number=22).sample_name_searcher()\n",
    "sample_names = sample_name_searcher_chain.invoke(\"\"\"Use all of the NCM cathode sample names (e.g., 'NCM-622', 'pristine NCM', 'M-NCM') provided in the electrochemical performance section. You just output sample names. Do Not output like '- NCM622' , just output 'NCM622. \"\"\")"
   ]
  },
  {
   "cell_type": "code",
   "execution_count": 39,
   "metadata": {},
   "outputs": [
    {
     "name": "stdout",
     "output_type": "stream",
     "text": [
      "## Sample Names: ['pristine', 'V-0.005', 'V-0.01', 'V-0.02']\n"
     ]
    }
   ],
   "source": [
    "print(f\"## Sample Names: {sample_names}\")"
   ]
  },
  {
   "cell_type": "markdown",
   "metadata": {},
   "source": [
    "##### invoke_input 수정"
   ]
  },
  {
   "cell_type": "code",
   "execution_count": 97,
   "metadata": {},
   "outputs": [],
   "source": [
    "\n",
    "def load_invoke_input(config_folder:str=\"./config\", category_number:int=1, rag_method:str=\"multiagent-rag\", sample_names:list=None) -> Union[tuple, dict]:  \n",
    "    \"\"\"\n",
    "    질문 파일을 불러오고, 주어진 RAG 방식에 따라 적절한 입력 형식을 반환합니다.\n",
    "\n",
    "    Args:\n",
    "        config_folder (str, optional): 설정 파일이 저장된 폴더 경로. 기본값은 \"./config\".\n",
    "        category_number (int, optional): 불러올 질문 파일의 카테고리 번호. 기본값은 1.\n",
    "        rag_method (str, optional): RAG 방식 (예: \"multiagent-rag\", \"relevance-rag\", \"ensemble-rag\"). 기본값은 \"multiagent-rag\".\n",
    "\n",
    "    Raises:\n",
    "        KeyError: 지원되지 않는 RAG 방식이 입력된 경우 예외 발생.\n",
    "\n",
    "    Returns:\n",
    "        Union[tuple, dict]: RAG 방식에 따라 적절히 구성된 입력 데이터.\n",
    "    \"\"\"     \n",
    "    category_names = [\"CAM (Cathode Active Material)\", \"Electrode (half-cell)\", \"Morphological Properties\", \"Cathode Performance\"]\n",
    "\n",
    "    question_file_name = f\"c{category_number}-question.yaml\"\n",
    "    question_path = f\"{config_folder}/{rag_method}/{question_file_name}\"\n",
    "    with open(question_path, 'r', encoding=\"utf-8\") as file:\n",
    "        question = yaml.safe_load(file)\n",
    "    print(f\"## {question_path}를 불러왔습니다.\")\n",
    "    \n",
    "    example_file_name = f\"c{category_number}-example.json\"\n",
    "    example_path = f\"{config_folder}/{rag_method}/{example_file_name}\"\n",
    "    with open(example_path, 'r', encoding=\"utf-8\") as file:\n",
    "        json_example = json.load(file)\n",
    "    print(f\"## {example_path}를 불러왔습니다.\")\n",
    "    \n",
    "    if rag_method == \"multiagent-rag\": \n",
    "        invoke_input = (\n",
    "            {\"messages\": [HumanMessage(content=question[\"question\"], name=\"Researcher\")]}, \n",
    "            {\"recursion_limit\": 30}\n",
    "        )\n",
    "    \n",
    "    elif rag_method == \"relevance-rag\" or rag_method == \"ensemble-rag\":\n",
    "        for i, sample_name in enumerate(sample_names):\n",
    "            if category_number == 1:\n",
    "                question[\"template\"][category_names[category_number-1]][\"Stoichiometry information\"][sample_name] = {}\n",
    "                question[\"template\"][category_names[category_number-1]][\"Commercial NCM used\"][sample_name] = {}\n",
    "            elif category_number == 3:\n",
    "                temp_template = question[\"template\"][category_names[category_number-1]]\n",
    "                for k in temp_template.keys():\n",
    "                    question[\"template\"][category_names[category_number-1]][k][sample_name] = None\n",
    "            elif category_number == 4:\n",
    "            #     question[\"template\"][category_names[category_number-1]][\"\"]                   \n",
    "                temp_performance = question[\"template\"][\"Cathode Performance\"][\"\"]\n",
    "                question[\"template\"][\"Cathode Performance\"].update({sample_name:temp_performance})\n",
    "                if i == len(sample_names)-1:\n",
    "                    del question[\"template\"][\"Cathode Performance\"][\"\"]\n",
    "                 \n",
    "        config = RunnableConfig(\n",
    "            recursion_limit=30, \n",
    "            configurable={\"thread_id\": random_uuid()}\n",
    "            )\n",
    "        \n",
    "        invoke_input = {\n",
    "            \"input\": {\n",
    "                \"question\":f\"{question['question_text']}  \\n {question['template']}\", \n",
    "                \"example\":json_example\n",
    "            }, \n",
    "            \"config\": config\n",
    "        }\n",
    "        print(invoke_input)\n",
    "    else: \n",
    "        raise KeyError(f\"Unsupported rag_method: {rag_method}. Please use one of ['multiagent-rag', 'relevance-rag', 'ensemble-rag'].\")\n",
    "    \n",
    "    return question\n"
   ]
  },
  {
   "cell_type": "code",
   "execution_count": 98,
   "metadata": {},
   "outputs": [
    {
     "name": "stdout",
     "output_type": "stream",
     "text": [
      "## ../../config/relevance-rag/c4-question.yaml를 불러왔습니다.\n",
      "## ../../config/relevance-rag/c4-example.json를 불러왔습니다.\n",
      "{'input': {'question': \"Fill out in the `null`, `None`, `[]` and `{}` values based on the example format:\\n  \\n {'Cathode Performance': {'pristine': [{'Voltage range': None, 'Temperature': None, 'C-rate and Specific capacity': [{'C-rate': '0.1', 'Capacity': None}, {'C-rate': '0.2', 'Capacity': None}, {'C-rate': '0.5', 'Capacity': None}, {'C-rate': '1.0', 'Capacity': None}, {'C-rate': '2.0', 'Capacity': None}, {'C-rate': '4.0', 'Capacity': None}, {'Other C-rates and performance': [{'C-rate': None, 'Capacity': None}]}]}], 'V-0.005': [{'Voltage range': None, 'Temperature': None, 'C-rate and Specific capacity': [{'C-rate': '0.1', 'Capacity': None}, {'C-rate': '0.2', 'Capacity': None}, {'C-rate': '0.5', 'Capacity': None}, {'C-rate': '1.0', 'Capacity': None}, {'C-rate': '2.0', 'Capacity': None}, {'C-rate': '4.0', 'Capacity': None}, {'Other C-rates and performance': [{'C-rate': None, 'Capacity': None}]}]}], 'V-0.01': [{'Voltage range': None, 'Temperature': None, 'C-rate and Specific capacity': [{'C-rate': '0.1', 'Capacity': None}, {'C-rate': '0.2', 'Capacity': None}, {'C-rate': '0.5', 'Capacity': None}, {'C-rate': '1.0', 'Capacity': None}, {'C-rate': '2.0', 'Capacity': None}, {'C-rate': '4.0', 'Capacity': None}, {'Other C-rates and performance': [{'C-rate': None, 'Capacity': None}]}]}], 'V-0.02': [{'Voltage range': None, 'Temperature': None, 'C-rate and Specific capacity': [{'C-rate': '0.1', 'Capacity': None}, {'C-rate': '0.2', 'Capacity': None}, {'C-rate': '0.5', 'Capacity': None}, {'C-rate': '1.0', 'Capacity': None}, {'C-rate': '2.0', 'Capacity': None}, {'C-rate': '4.0', 'Capacity': None}, {'Other C-rates and performance': [{'C-rate': None, 'Capacity': None}]}]}]}}\", 'example': {'Cathode Performance': {'SC-NCM83': [{'Voltage range': '3.0–4.3', 'Temperature': 25, 'C-rate and Specific capacity': [{'C-rate': 0.1, 'Capacity': None}, {'C-rate': 0.5, 'Capacity': None}, {'C-rate': 1.0, 'Capacity': 162}, {'C-rate': 2.0, 'Capacity': None}, {'Other C-rates and performance': [{'C-rate': 0.05, 'Capacity': 199}]}]}], 'pristine NCM': [{'Voltage range': '3.0-4.3', 'Temperature': 25, 'C-rate and Specific capacity': [{'C-rate': 0.1, 'Capacity': 199.1}, {'C-rate': 0.5, 'Capacity': None}, {'C-rate': 1.0, 'Capacity': None}, {'C-rate': 2.0, 'Capacity': None}, {'Other C-rates and performance': [{'C-rate': 5.0, 'Capacity': 159.0}, {'C-rate': 6.0, 'Capacity': 151.3}]}]}]}}}, 'config': {'recursion_limit': 30, 'configurable': {'thread_id': '4535aa0e-b2d7-4d91-9d6b-8376023689b3'}}}\n"
     ]
    }
   ],
   "source": [
    "question = load_invoke_input(config_folder=\"../../config\", category_number=4, rag_method=\"relevance-rag\", sample_names=sample_names)"
   ]
  },
  {
   "cell_type": "code",
   "execution_count": 99,
   "metadata": {},
   "outputs": [
    {
     "data": {
      "text/plain": [
       "{'question_text': 'Fill out in the `null`, `None`, `[]` and `{}` values based on the example format:\\n',\n",
       " 'template': {'Cathode Performance': {'pristine': [{'Voltage range': None,\n",
       "     'Temperature': None,\n",
       "     'C-rate and Specific capacity': [{'C-rate': '0.1', 'Capacity': None},\n",
       "      {'C-rate': '0.2', 'Capacity': None},\n",
       "      {'C-rate': '0.5', 'Capacity': None},\n",
       "      {'C-rate': '1.0', 'Capacity': None},\n",
       "      {'C-rate': '2.0', 'Capacity': None},\n",
       "      {'C-rate': '4.0', 'Capacity': None},\n",
       "      {'Other C-rates and performance': [{'C-rate': None,\n",
       "         'Capacity': None}]}]}],\n",
       "   'V-0.005': [{'Voltage range': None,\n",
       "     'Temperature': None,\n",
       "     'C-rate and Specific capacity': [{'C-rate': '0.1', 'Capacity': None},\n",
       "      {'C-rate': '0.2', 'Capacity': None},\n",
       "      {'C-rate': '0.5', 'Capacity': None},\n",
       "      {'C-rate': '1.0', 'Capacity': None},\n",
       "      {'C-rate': '2.0', 'Capacity': None},\n",
       "      {'C-rate': '4.0', 'Capacity': None},\n",
       "      {'Other C-rates and performance': [{'C-rate': None,\n",
       "         'Capacity': None}]}]}],\n",
       "   'V-0.01': [{'Voltage range': None,\n",
       "     'Temperature': None,\n",
       "     'C-rate and Specific capacity': [{'C-rate': '0.1', 'Capacity': None},\n",
       "      {'C-rate': '0.2', 'Capacity': None},\n",
       "      {'C-rate': '0.5', 'Capacity': None},\n",
       "      {'C-rate': '1.0', 'Capacity': None},\n",
       "      {'C-rate': '2.0', 'Capacity': None},\n",
       "      {'C-rate': '4.0', 'Capacity': None},\n",
       "      {'Other C-rates and performance': [{'C-rate': None,\n",
       "         'Capacity': None}]}]}],\n",
       "   'V-0.02': [{'Voltage range': None,\n",
       "     'Temperature': None,\n",
       "     'C-rate and Specific capacity': [{'C-rate': '0.1', 'Capacity': None},\n",
       "      {'C-rate': '0.2', 'Capacity': None},\n",
       "      {'C-rate': '0.5', 'Capacity': None},\n",
       "      {'C-rate': '1.0', 'Capacity': None},\n",
       "      {'C-rate': '2.0', 'Capacity': None},\n",
       "      {'C-rate': '4.0', 'Capacity': None},\n",
       "      {'Other C-rates and performance': [{'C-rate': None,\n",
       "         'Capacity': None}]}]}]}}}"
      ]
     },
     "execution_count": 99,
     "metadata": {},
     "output_type": "execute_result"
    }
   ],
   "source": [
    "question"
   ]
  },
  {
   "cell_type": "code",
   "execution_count": null,
   "metadata": {},
   "outputs": [],
   "source": [
    "def get_rag_instance(\n",
    "    rag_method, \n",
    "    file_folder, \n",
    "    file_number, \n",
    "    # db_folder,\n",
    "    chunk_size, \n",
    "    chunk_overlap,\n",
    "    search_k,\n",
    "    system_prompt, \n",
    "    model_name, \n",
    "    save_graph_png\n",
    "):\n",
    "    \"\"\"\n",
    "    RAG 클래스를 동적으로 받아서 인스턴스를 생성하는 함수\n",
    "    \n",
    "    Params:\n",
    "        rag_method: RAG 방법 (\"relevance-rag\", \"ensemble-rag\", \"multiagent-rag\")\n",
    "        file_folder: 논문 파일이 위치한 폴더 경로\n",
    "        file_number: 처리할 논문 번호\n",
    "        system_prompt: system prompt\n",
    "        model_name: LLM 모델 명 (\"gpt-4o\", \"gpt-4o-mini\")\n",
    "        save_graph_png: graph 저장 결정\n",
    "        \n",
    "    Return:\n",
    "        생성된 RAG 모델 인스턴스\n",
    "    \"\"\"\n",
    "    \n",
    "    # RAG 모델 인스턴스 생성\n",
    "    if rag_method == \"relevance-rag\":\n",
    "        return RelevanceRAG(file_folder, file_number, chunk_size, chunk_overlap, search_k, system_prompt, model_name, save_graph_png)\n",
    "        \n",
    "    elif rag_method == \"ensemble-rag\":\n",
    "        return EnsembleRAG(file_folder, file_number, chunk_size, chunk_overlap, search_k, system_prompt, model_name, save_graph_png)\n",
    "        \n",
    "    elif rag_method == \"multiagent-rag\":\n",
    "        return MultiAgentRAG(file_folder, file_number, chunk_size, chunk_overlap, search_k, system_prompt, model_name, save_graph_png)\n",
    "\n",
    "\n",
    "def main(\n",
    "    data_folder:str=\"./data\",\n",
    "    file_num_list:list=[11],\n",
    "    category_number:int=1, \n",
    "    chunk_size:int=500, \n",
    "    chunk_overlap:int=100, \n",
    "    search_k:int=10,       \n",
    "    config_folder:str=\"./config\",\n",
    "    rag_method:str=\"multiagent-rag\", \n",
    "    model_name:str=\"gpt-4o\", \n",
    "    save_graph_png:bool=False, \n",
    "):\n",
    "    category_names = [\"CAM (Cathode Active Material)\", \"Electrode (half-cell)\", \"Morphological Properties\", \"Cathode Performance\"]\n",
    "    \n",
    "    ## system_prompt 와 invoke_input 불러오기\n",
    "    system_prompt = load_system_prompt(config_folder=config_folder, category_number=category_number, rag_method=rag_method)\n",
    "    invoke_input = load_invoke_input(config_folder=config_folder, category_number=category_number, rag_method=rag_method)\n",
    "    \n",
    "    ## 각 논문에 대해 반복\n",
    "    for i, file_number in enumerate(file_num_list):\n",
    "        print(f\"#####    {file_number}번째 논문    #####\")\n",
    "        print(f\"##       rag method     : {rag_method}\")\n",
    "        print(f\"##       category name  : {category_names[category_number-1]}\")\n",
    "        \n",
    "        ## graph 호출\n",
    "        voltai_graph = get_rag_instance(\n",
    "            rag_method=rag_method, \n",
    "            file_folder=f\"{data_folder}/input_data/\", \n",
    "            file_number=file_number, \n",
    "            chunk_size=chunk_size, \n",
    "            chunk_overlap=chunk_overlap, \n",
    "            search_k=search_k, \n",
    "            system_prompt=system_prompt,\n",
    "            model_name=model_name, \n",
    "            save_graph_png=save_graph_png,\n",
    "        ).graph\n",
    "        \n",
    "        ## 질문이 딕셔너리 형태일 경우와 아닌 경우를 처리\n",
    "        if isinstance(invoke_input, dict):\n",
    "            result = voltai_graph.invoke(**invoke_input)\n",
    "        else:\n",
    "            result = voltai_graph.invoke(*invoke_input)\n",
    "\n",
    "        ## RAG method에 따른 결과 확인\n",
    "        if result.get(\"answer\"):\n",
    "            temp_answer = result[\"answer\"][0][category_names[category_number-1]]\n",
    "        elif result.get(\"discussion\"):\n",
    "            temp_answer = result[\"discussion\"][category_names[category_number-1]]\n",
    "        elif result.get(\"messages\"):\n",
    "            temp_answer = result[\"messages\"][-1][category_names[category_number-1]]\n",
    "        \n",
    "        print(f\"##       print {file_number} result\")\n",
    "        print(\"------------------------------------\")\n",
    "        pprint(temp_answer, sort_dicts=False)\n",
    "        \n",
    "        return temp_answer"
   ]
  },
  {
   "cell_type": "code",
   "execution_count": 110,
   "metadata": {},
   "outputs": [
    {
     "name": "stdout",
     "output_type": "stream",
     "text": [
      "##       paper_022 retriever를 생성했습니다.\n",
      "##          - chunk_size    :500\n",
      "##          - chunk_overlap :100\n",
      "##          - retrieve_k    :10\n"
     ]
    }
   ],
   "source": [
    "retriever = embedding_file(\n",
    "    file_folder=\"../../data/input_data\", \n",
    "    file_name=\"paper_022\", \n",
    "    rag_method=\"relevance-rag\", \n",
    "    # db_folder=db_folder\n",
    "    chunk_size=500, \n",
    "    chunk_overlap=100, \n",
    "    search_k=10\n",
    ")"
   ]
  },
  {
   "cell_type": "code",
   "execution_count": 117,
   "metadata": {},
   "outputs": [],
   "source": []
  },
  {
   "cell_type": "code",
   "execution_count": null,
   "metadata": {},
   "outputs": [],
   "source": []
  },
  {
   "cell_type": "code",
   "execution_count": 116,
   "metadata": {},
   "outputs": [],
   "source": [
    "import json\n",
    "import pandas as pd"
   ]
  },
  {
   "cell_type": "code",
   "execution_count": null,
   "metadata": {},
   "outputs": [],
   "source": [
    "rag_method = \"multiagent-rag\"\n",
    "file_num_list = [42]\n",
    "output_folder_path = []\n",
    "for file_num in file_num_list:\n",
    "    json_file_num = f\"00{file_num}\"[-3:]\n",
    "    output_folder_path.append(f\"../../output/json/{rag_method}/paper_{json_file_num}_output\")"
   ]
  },
  {
   "cell_type": "code",
   "execution_count": 131,
   "metadata": {},
   "outputs": [],
   "source": [
    "import yaml\n",
    "with open(\"../../config/relevance-rag/c1-question.yaml\", 'r', encoding=\"utf-8\") as file:\n",
    "    question = yaml.safe_load(file)\n"
   ]
  },
  {
   "cell_type": "code",
   "execution_count": null,
   "metadata": {},
   "outputs": [
    {
     "ename": "AttributeError",
     "evalue": "'dict' object has no attribute 'read'",
     "output_type": "error",
     "traceback": [
      "\u001b[1;31m---------------------------------------------------------------------------\u001b[0m",
      "\u001b[1;31mAttributeError\u001b[0m                            Traceback (most recent call last)",
      "\u001b[1;32m~\\AppData\\Local\\Temp\\ipykernel_8136\\1761347692.py\u001b[0m in \u001b[0;36m<cell line: 0>\u001b[1;34m()\u001b[0m\n\u001b[1;32m----> 1\u001b[1;33m \u001b[0mjson\u001b[0m\u001b[1;33m.\u001b[0m\u001b[0mload\u001b[0m\u001b[1;33m(\u001b[0m\u001b[0mquestion\u001b[0m\u001b[1;33m)\u001b[0m\u001b[1;33m\u001b[0m\u001b[1;33m\u001b[0m\u001b[0m\n\u001b[0m",
      "\u001b[1;32mc:\\Users\\ghckd\\anaconda3\\envs\\voltai\\Lib\\json\\__init__.py\u001b[0m in \u001b[0;36mload\u001b[1;34m(fp, cls, object_hook, parse_float, parse_int, parse_constant, object_pairs_hook, **kw)\u001b[0m\n\u001b[0;32m    291\u001b[0m     \u001b[0mkwarg\u001b[0m\u001b[1;33m;\u001b[0m \u001b[0motherwise\u001b[0m\u001b[0;31m \u001b[0m\u001b[0;31m`\u001b[0m\u001b[0;31m`\u001b[0m\u001b[0mJSONDecoder\u001b[0m\u001b[0;31m`\u001b[0m\u001b[0;31m`\u001b[0m \u001b[1;32mis\u001b[0m \u001b[0mused\u001b[0m\u001b[1;33m.\u001b[0m\u001b[1;33m\u001b[0m\u001b[1;33m\u001b[0m\u001b[0m\n\u001b[0;32m    292\u001b[0m     \"\"\"\n\u001b[1;32m--> 293\u001b[1;33m     return loads(fp.read(),\n\u001b[0m\u001b[0;32m    294\u001b[0m         \u001b[0mcls\u001b[0m\u001b[1;33m=\u001b[0m\u001b[0mcls\u001b[0m\u001b[1;33m,\u001b[0m \u001b[0mobject_hook\u001b[0m\u001b[1;33m=\u001b[0m\u001b[0mobject_hook\u001b[0m\u001b[1;33m,\u001b[0m\u001b[1;33m\u001b[0m\u001b[1;33m\u001b[0m\u001b[0m\n\u001b[0;32m    295\u001b[0m         \u001b[0mparse_float\u001b[0m\u001b[1;33m=\u001b[0m\u001b[0mparse_float\u001b[0m\u001b[1;33m,\u001b[0m \u001b[0mparse_int\u001b[0m\u001b[1;33m=\u001b[0m\u001b[0mparse_int\u001b[0m\u001b[1;33m,\u001b[0m\u001b[1;33m\u001b[0m\u001b[1;33m\u001b[0m\u001b[0m\n",
      "\u001b[1;31mAttributeError\u001b[0m: 'dict' object has no attribute 'read'"
     ]
    }
   ],
   "source": [
    "json.loads(question)"
   ]
  }
 ],
 "metadata": {
  "kernelspec": {
   "display_name": "voltai",
   "language": "python",
   "name": "python3"
  },
  "language_info": {
   "codemirror_mode": {
    "name": "ipython",
    "version": 3
   },
   "file_extension": ".py",
   "mimetype": "text/x-python",
   "name": "python",
   "nbconvert_exporter": "python",
   "pygments_lexer": "ipython3",
   "version": "3.11.11"
  }
 },
 "nbformat": 4,
 "nbformat_minor": 2
}
