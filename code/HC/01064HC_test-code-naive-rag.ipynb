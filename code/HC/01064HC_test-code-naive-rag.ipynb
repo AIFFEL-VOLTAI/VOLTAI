{
 "cells": [
  {
   "cell_type": "code",
   "execution_count": 1,
   "metadata": {},
   "outputs": [
    {
     "name": "stderr",
     "output_type": "stream",
     "text": [
      "c:\\Users\\ghckd\\anaconda3\\envs\\voltai\\Lib\\site-packages\\IPython\\core\\interactiveshell.py:3553: LangChainDeprecationWarning: As of langchain-core 0.3.0, LangChain uses pydantic v2 internally. The langchain_core.pydantic_v1 module was a compatibility shim for pydantic v1, and should no longer be used. Please update the code to import from Pydantic directly.\n",
      "\n",
      "For example, replace imports like: `from langchain_core.pydantic_v1 import BaseModel`\n",
      "with: `from pydantic import BaseModel`\n",
      "or the v1 compatibility namespace if you are working in a code base that has not been fully upgraded to pydantic 2 yet. \tfrom pydantic.v1 import BaseModel\n",
      "\n",
      "  exec(code_obj, self.user_global_ns, self.user_ns)\n"
     ]
    }
   ],
   "source": [
    "import os \n",
    "import getpass\n",
    "from dotenv import load_dotenv\n",
    "\n",
    "## retriever\n",
    "from langchain.text_splitter import RecursiveCharacterTextSplitter\n",
    "from langchain_community.document_loaders import PyPDFLoader\n",
    "from langchain_community.vectorstores import FAISS\n",
    "from langchain_openai import OpenAIEmbeddings\n",
    "from langchain_core.vectorstores.base import VectorStoreRetriever\n",
    "\n",
    "## tool\n",
    "from langgraph.prebuilt import ToolExecutor\n",
    "from langchain.tools.retriever import create_retriever_tool\n",
    "\n",
    "## agent\n",
    "import operator\n",
    "from typing import Annotated, Sequence, TypedDict\n",
    "\n",
    "from langchain_core.messages import BaseMessage\n",
    "\n",
    "## Nodes and Edges\n",
    "import json\n",
    "import operator\n",
    "from typing import Annotated, Sequence, TypedDict\n",
    "\n",
    "from langchain import hub\n",
    "from langchain.output_parsers import PydanticOutputParser\n",
    "from langchain.prompts import PromptTemplate\n",
    "from langchain.tools.render import format_tool_to_openai_function\n",
    "from langchain_core.utils.function_calling import convert_to_openai_tool\n",
    "from langchain_core.messages import BaseMessage, FunctionMessage, HumanMessage\n",
    "from langchain.output_parsers.openai_tools import PydanticToolsParser\n",
    "from langchain_core.pydantic_v1 import BaseModel, Field\n",
    "from langchain_openai import ChatOpenAI\n",
    "from langgraph.prebuilt import ToolInvocation\n",
    "from langchain_core.output_parsers import StrOutputParser\n",
    "\n",
    "## Graph\n",
    "from langgraph.graph import END, StateGraph\n",
    "\n",
    "## Response\n",
    "import pprint\n",
    "from langchain_core.messages import HumanMessage\n",
    "\n",
    "\n",
    "\n",
    "# from langchain.prompts import ChatPromptTemplate, MessagesPlaceholder\n",
    "# \n",
    "# from langchain_core.messages import BaseMessage, FunctionMessage, HumanMessage\n",
    "# from langchain.tools.render import format_tool_to_openai_function\n",
    "# from langgraph.graph import END, StateGraph"
   ]
  },
  {
   "cell_type": "markdown",
   "metadata": {},
   "source": [
    "## API Key Setting"
   ]
  },
  {
   "cell_type": "code",
   "execution_count": 2,
   "metadata": {},
   "outputs": [],
   "source": [
    "def _set_if_undefined(var: str):\n",
    "    # 주어진 환경 변수가 설정되어 있지 않다면 사용자에게 입력을 요청하여 설정합니다.\n",
    "    if not os.environ.get(var):\n",
    "        os.environ[var] = getpass.getpass(f\"Please provide your {var}\")\n",
    "\n",
    "\n",
    "# OPENAI_API_KEY 환경 변수가 설정되어 있지 않으면 사용자에게 입력을 요청합니다.\n",
    "_set_if_undefined(\"OPENAI_API_KEY\")\n",
    "# LANGCHAIN_API_KEY 환경 변수가 설정되어 있지 않으면 사용자에게 입력을 요청합니다.\n",
    "_set_if_undefined(\"LANGCHAIN_API_KEY\")\n",
    "\n",
    "# LangSmith 추적 기능을 활성화합니다. (선택적)\n",
    "os.environ[\"LANGCHAIN_TRACING_V2\"] = \"true\"\n",
    "os.environ[\"LANGCHAIN_PROJECT\"] = \"Multi-agent Collaboration\""
   ]
  },
  {
   "cell_type": "code",
   "execution_count": 3,
   "metadata": {},
   "outputs": [],
   "source": [
    "input_data = \"../참고논문_1.pdf\""
   ]
  },
  {
   "cell_type": "markdown",
   "metadata": {},
   "source": [
    "## retriever(검색기) 생성"
   ]
  },
  {
   "cell_type": "code",
   "execution_count": 4,
   "metadata": {},
   "outputs": [],
   "source": [
    "def embedding_file(file: str) -> VectorStoreRetriever:\n",
    "    \"\"\"문서를 청크 단위로 분할하고 임베딩 모델(text-embedding-ada-002)을 통해 임베딩하여 vector store에 저장합니다. 이후 vector store를 기반으로 검색하는 객체를 생성합니다. \n",
    "\n",
    "    Args:\n",
    "        file (str): pdf 문서 경로\n",
    "\n",
    "    Returns:\n",
    "        VectorStoreRetriever: 검색기 \n",
    "    \"\"\"\n",
    "    \n",
    "    ## 긴 텍스트를 작은 청크로 나누는 데 사용되는 클래스\n",
    "    splitter = RecursiveCharacterTextSplitter.from_tiktoken_encoder(       \n",
    "        chunk_size=500,         ## 최대 청크 길이 정의\n",
    "        chunk_overlap=100,      ## 청크 간 겹침 길이 정의\n",
    "        separators=[\"\\n\\n\"]     ## 텍스트를 나눌 때 사용할 구분자를 지정 (문단)\n",
    "    )\n",
    "    \n",
    "    ## PDF 파일 불러오기\n",
    "    loader = PyPDFLoader(f\"{file}\")\n",
    "    docs = loader.load_and_split(text_splitter=splitter)\n",
    "    \n",
    "    ## Embedding 생성 및 vector store에 저장\n",
    "    embeddings = OpenAIEmbeddings()\n",
    "    vector_store = FAISS.from_documents(\n",
    "        documents=docs,         ## 벡터 저장소에 추가할 문서 리스트\n",
    "        embedding=embeddings    ## 사용할 임베딩 함수\n",
    "    )\n",
    "    \n",
    "    ## 검색기로 변환: 현재 벡터 저장소를 기반으로 VectorStoreRetriever 객체를 생성하는 기능을 제공\n",
    "    retriever = vector_store.as_retriever(\n",
    "        search_type=\"similarity\"    ## 어떻게 검색할 것인지? default가 유사도\n",
    "    )\n",
    "\n",
    "    return retriever"
   ]
  },
  {
   "cell_type": "code",
   "execution_count": 5,
   "metadata": {},
   "outputs": [],
   "source": [
    "retriever = embedding_file(file=input_data)"
   ]
  },
  {
   "cell_type": "code",
   "execution_count": 6,
   "metadata": {},
   "outputs": [],
   "source": [
    "from typing import Annotated, TypedDict\n",
    "from langgraph.graph.message import add_messages\n",
    "\n",
    "\n",
    "# GraphState 상태 정의\n",
    "class GraphState(TypedDict):\n",
    "    question: Annotated[str, \"Question\"]  # 질문\n",
    "    context: Annotated[str, \"Context\"]  # 문서의 검색 결과\n",
    "    answer: Annotated[str, \"Answer\"]  # 답변\n",
    "    messages: Annotated[list, add_messages]  # 메시지(누적되는 list)\n"
   ]
  },
  {
   "cell_type": "code",
   "execution_count": 20,
   "metadata": {},
   "outputs": [],
   "source": [
    "from langchain_teddynote.messages import messages_to_history\n",
    "from langchain_core.documents.base import Document\n",
    "# from rag.utils import format_docs\n",
    "\n",
    "def format_docs(docs: list[Document]) -> str:\n",
    "    \"\"\"문시 리스트에서 텍스트를 추출하여 하나의 문자로 합치는 기능을 합니다. \n",
    "\n",
    "    Args:\n",
    "        docs (list[Document]): 여러 개의 Documnet 객체로 이루어진 리스트\n",
    "\n",
    "    Returns:\n",
    "        str: 모든 문서의 텍스트가 하나로 합쳐진 문자열을 반환\n",
    "    \"\"\"\n",
    "    return \"\\n\\n\".join(doc.page_content for doc in docs)\n",
    "\n",
    "# 문서 검색 노드\n",
    "def retrieve_document(state: GraphState) -> GraphState:\n",
    "    # 질문을 상태에서 가져옵니다.\n",
    "    latest_question = state[\"question\"]\n",
    "\n",
    "    # 문서에서 검색하여 관련성 있는 문서를 찾습니다.\n",
    "    retrieved_docs = retriever.invoke(latest_question)\n",
    "\n",
    "    # 검색된 문서를 형식화합니다.(프롬프트 입력으로 넣어주기 위함)\n",
    "    retrieved_docs = format_docs(retrieved_docs)\n",
    "\n",
    "    # 검색된 문서를 context 키에 저장합니다.\n",
    "    return GraphState(context=retrieved_docs)\n",
    "\n",
    "\n",
    "# 답변 생성 노드\n",
    "def llm_answer(state: GraphState) -> GraphState:\n",
    "    # 질문을 상태에서 가져옵니다.\n",
    "    latest_question = state[\"question\"]\n",
    "\n",
    "    # 검색된 문서를 상태에서 가져옵니다.\n",
    "    context = state[\"context\"]\n",
    "\n",
    "    # prompt 설정\n",
    "    prompt = PromptTemplate(\n",
    "        template=\"\"\"\n",
    "        Based on the following document, please provide an answer to the given question.\n",
    "\n",
    "        Document:\n",
    "        {context}\n",
    "\n",
    "        Question:\n",
    "        {question}\n",
    "\n",
    "        Answer:\n",
    "        \"\"\",\n",
    "        input_variables=[\"context\", \"question\"],\n",
    "        )\n",
    "    \n",
    "    # llm 호출\n",
    "    llm = ChatOpenAI(\n",
    "        model_name=\"gpt-4o\",\n",
    "        temperature=0, \n",
    "        streaming=True\n",
    "        )\n",
    "    \n",
    "    # 체인 호출\n",
    "    chain = prompt | llm | StrOutputParser()\n",
    "    \n",
    "    response = chain.invoke(\n",
    "        {\n",
    "            \"question\": latest_question,\n",
    "            \"context\": context,\n",
    "            \"chat_history\": messages_to_history(state[\"messages\"]),\n",
    "        }\n",
    "    )\n",
    "    \n",
    "    # 생성된 답변, (유저의 질문, 답변) 메시지를 상태에 저장합니다.\n",
    "    return GraphState(\n",
    "        answer=response, \n",
    "        messages=[(\"user\", latest_question), (\"assistant\", response)]\n",
    "    )"
   ]
  },
  {
   "cell_type": "code",
   "execution_count": null,
   "metadata": {},
   "outputs": [],
   "source": []
  },
  {
   "cell_type": "code",
   "execution_count": 21,
   "metadata": {},
   "outputs": [],
   "source": [
    "from langgraph.graph import END, StateGraph\n",
    "from langgraph.checkpoint.memory import MemorySaver\n",
    "\n",
    "# 그래프 생성\n",
    "workflow = StateGraph(GraphState)\n",
    "\n",
    "# 노드 정의\n",
    "workflow.add_node(\"retrieve\", retrieve_document)\n",
    "workflow.add_node(\"llm_answer\", llm_answer)\n",
    "\n",
    "# 엣지 정의\n",
    "workflow.add_edge(\"retrieve\", \"llm_answer\")  # 검색 -> 답변\n",
    "workflow.add_edge(\"llm_answer\", END)  # 답변 -> 종료\n",
    "\n",
    "# 그래프 진입점 설정\n",
    "workflow.set_entry_point(\"retrieve\")\n",
    "\n",
    "# 체크포인터 설정\n",
    "memory = MemorySaver()\n",
    "\n",
    "# 컴파일\n",
    "app = workflow.compile(checkpointer=memory)\n"
   ]
  },
  {
   "cell_type": "code",
   "execution_count": 22,
   "metadata": {},
   "outputs": [
    {
     "data": {
      "image/png": "[encoded data removed]",
      "text/plain": [
       "<IPython.core.display.Image object>"
      ]
     },
     "metadata": {},
     "output_type": "display_data"
    }
   ],
   "source": [
    "from langchain_teddynote.graphs import visualize_graph\n",
    "\n",
    "visualize_graph(app)\n"
   ]
  },
  {
   "cell_type": "code",
   "execution_count": 23,
   "metadata": {},
   "outputs": [],
   "source": [
    "from langchain_core.runnables import RunnableConfig\n",
    "from langchain_teddynote.messages import stream_graph, random_uuid, invoke_graph\n",
    "\n",
    "# config 설정(재귀 최대 횟수, thread_id)\n",
    "config = RunnableConfig(recursion_limit=20, configurable={\"thread_id\": random_uuid()})\n",
    "\n",
    "# 질문 입력\n",
    "inputs = GraphState(question=\"논문을 요약해줘\")"
   ]
  },
  {
   "cell_type": "code",
   "execution_count": 24,
   "metadata": {},
   "outputs": [
    {
     "name": "stdout",
     "output_type": "stream",
     "text": [
      "\n",
      "==================================================\n",
      "🔄 Node: \u001b[1;36mllm_answer\u001b[0m 🔄\n",
      "- - - - - - - - - - - - - - - - - - - - - - - - - \n",
      "이 논문은 NCM622 (LiNi₀.₆Co₀.₂Mn₀.₂O₂) 양극 물질의 주기적 안정성을 개선하기 위한 새로운 구조 설계에 관한 연구를 다루고 있습니다. 연구진은 다중 껍질 구조의 중공 필름을 가진 NCM622 양극 물질을 개발하여, 리튬 이온 배터리의 충전 및 방전 과정에서 발생하는 강한 계면 반응을 줄이고, 물질의 구조적 불안정을 완화하는 데 성공했습니다. 이 구조는 이온 및 전자 전송을 위한 상호 연결된 전도성 네트워크를 제공하여, 100회 주기 후에도 90.4%의 용량 유지율을 달성했습니다. 연구는 또한 NCM622 양극 물질의 전기화학적 성능을 향상시키기 위한 구조 설계 전략의 가능성을 제시하며, 이 물질이 리튬 이온 배터리의 양극 물질로서의 잠재력을 가지고 있음을 보여줍니다."
     ]
    }
   ],
   "source": [
    "# 그래프 실행\n",
    "stream_graph(\n",
    "    graph=app, \n",
    "    inputs=inputs, \n",
    "    config=config, \n",
    "    node_names=[\"llm_answer\"]\n",
    ")\n",
    "outputs = app.get_state(config).values"
   ]
  },
  {
   "cell_type": "code",
   "execution_count": null,
   "metadata": {},
   "outputs": [],
   "source": []
  }
 ],
 "metadata": {
  "kernelspec": {
   "display_name": "voltai",
   "language": "python",
   "name": "python3"
  },
  "language_info": {
   "codemirror_mode": {
    "name": "ipython",
    "version": 3
   },
   "file_extension": ".py",
   "mimetype": "text/x-python",
   "name": "python",
   "nbconvert_exporter": "python",
   "pygments_lexer": "ipython3",
   "version": "3.11.11"
  }
 },
 "nbformat": 4,
 "nbformat_minor": 2
}
