{
 "cells": [
  {
   "cell_type": "markdown",
   "metadata": {},
   "source": [
    "## Multi Agent RAG\n",
    "- prompt 업데이트 "
   ]
  },
  {
   "cell_type": "code",
   "execution_count": 1,
   "metadata": {},
   "outputs": [],
   "source": [
    "from dotenv import load_dotenv\n",
    "import getpass\n",
    "import os\n",
    "from langchain_core.messages import HumanMessage\n",
    "from langchain_teddynote import logging\n",
    "\n",
    "from graph_multiagentrag import MultiAgentRAG"
   ]
  },
  {
   "cell_type": "code",
   "execution_count": 2,
   "metadata": {},
   "outputs": [],
   "source": [
    "def _set_if_undefined(var: str):\n",
    "    # 주어진 환경 변수가 설정되어 있지 않다면 사용자에게 입력을 요청하여 설정합니다.\n",
    "    if not os.environ.get(var):\n",
    "        os.environ[var] = getpass.getpass(f\"Please provide your {var}\")\n",
    "\n",
    "\n",
    "# OPENAI_API_KEY 환경 변수가 설정되어 있지 않으면 사용자에게 입력을 요청합니다.\n",
    "_set_if_undefined(\"OPENAI_API_KEY\")\n",
    "# LANGCHAIN_API_KEY 환경 변수가 설정되어 있지 않으면 사용자에게 입력을 요청합니다.\n",
    "_set_if_undefined(\"LANGCHAIN_API_KEY\")\n",
    "\n",
    "# LangSmith 추적 기능을 활성화합니다. (선택적)\n",
    "os.environ[\"LANGCHAIN_TRACING_V2\"] = \"true\"\n",
    "os.environ[\"LANGCHAIN_PROJECT\"] = \"Multi-agent Collaboration\"\n",
    "\n",
    "# key 확인\n",
    "# os.environ[\"OPENAI_API_KEY\"]"
   ]
  },
  {
   "cell_type": "code",
   "execution_count": 3,
   "metadata": {},
   "outputs": [
    {
     "name": "stdout",
     "output_type": "stream",
     "text": [
      "LangSmith 추적을 시작합니다.\n",
      "[프로젝트명]\n",
      "Multi-Agent-RAG\n"
     ]
    }
   ],
   "source": [
    "# 프로젝트 이름을 입력합니다.\n",
    "logging.langsmith(\"Multi-Agent-RAG\")"
   ]
  },
  {
   "cell_type": "code",
   "execution_count": 4,
   "metadata": {},
   "outputs": [],
   "source": [
    "q3_researcher_system_prompt = \"\"\"You are an expert assistant specializing in extracting information from research papers related to battery technology. Your role is to carefully analyze the provided PDF and extract key data in a structured JSON format. Follow these instructions strictly:\n",
    "\n",
    "1. **Domain-Specific Focus**:\n",
    "    - Focus exclusively on content related to battery technology (e.g., materials, synthesis methods, properties, performance metrics).\n",
    "    - Ignore irrelevant sections or general references outside the battery-related content.\n",
    "\n",
    "2. **Extraction Guidelines**:\n",
    "    - Use the JSON structure provided as a template.\n",
    "    - Replace placeholders with values found in the PDF.\n",
    "    - If a field is not mentioned in the PDF, write \"-\" instead of removing it.\n",
    "\n",
    "3. **Clarity and Precision**:\n",
    "    - Extract numerical data (e.g., ratios, temperatures, durations) with maximum precision.\n",
    "    - For descriptive fields, summarize the relevant information concisely without adding interpretations.\n",
    "\n",
    "4. **Structure Adherence**:\n",
    "    - Maintain the given JSON structure and formatting exactly.\n",
    "    - Do not modify or rearrange the JSON schema.\n",
    "\n",
    "5. **External Reference Exclusion**:\n",
    "    - Only use information from the provided PDF.\n",
    "    - Ignore any supplementary information or external references not contained in the PDF.\n",
    "\n",
    "6. **Morphology Analysis**:\n",
    "    - You must find the morphology results of NCM from the document and respond to the given questions.\n",
    "    - Review all parts of the document related to SEM and TEM.\n",
    "    - Answer about the NCM particle’s size, distribution, shape, and coating layer characteristics, crystal structure, and lattice characteristics.\n",
    "    - Ensure to specify which sample the explanation is for and explicitly exclude any precursor-related details.\n",
    "    - If no answer can be found despite thorough review, use the value \"-\".\n",
    "\n",
    "7. **Example Answer Guidance**:\n",
    "    - The given question provides an example, and its format consists of keys and values.\n",
    "    - When generating answers, the values must be rewritten as responses based on the document, ensuring that the example answers are not directly reproduced in the output.\n",
    "\n",
    "Your task is to ensure that the extracted data is complete, accurate, and formatted according to the requirements.\n",
    "\n",
    "Below are instructions for filling out items by referring to the examples.\n",
    "[ \n",
    "    {\n",
    "        \"MorphologicalProperties\": {\n",
    "            \"ParticleSize\": {\n",
    "                \"SC-NCM\": \"micron-sized particles, which are about 2μm in diameter\",\n",
    "                \"N-NCM\": \"secondary particles are 10-13μm in size\"\n",
    "            },\n",
    "            \"ParticleShape\": {\n",
    "                \"SC-NCM\": \"smooth surfaces\",\n",
    "                \"N-NCM\": \"-\"\n",
    "            },\n",
    "            \"ParticleDistribution\": {\n",
    "                \"SC-NCM\": \"-\",\n",
    "                \"N-NCM\": \"composed of agglomerated primary particles\"\n",
    "            },\n",
    "            \"CoatingLayerCharacteristics\": {\n",
    "                \"NCM-RGO\": \"RGO appears as thin carbon sheets with wrinkled surfaces and folded structures\"\n",
    "            },\n",
    "            \"CrystalStructureAndLatticeCharacteristics\": {\n",
    "                \"SC-NCM\": \"uniform and clear lattice stripes with a crystal plane spacing of about 0.474 nm, corresponding to the (003) crystal plane of the layered structure\",\n",
    "                \"WN92\": \"a layered structure with a space group of R-3m\"\n",
    "            }\n",
    "        }\n",
    "    }\n",
    "]\n",
    "\"\"\""
   ]
  },
  {
   "cell_type": "code",
   "execution_count": 5,
   "metadata": {},
   "outputs": [],
   "source": [
    "verifier_system_prompt = \"\"\"You are a meticulous verifier agent specializing in the domain of battery technology.\n",
    "Your primary task is to check the accuracy of information extracted from research papers on batteries, formatted into JSON by another agent. Your responsibilities include validating the following:\n",
    "\n",
    "Accuracy:\n",
    "Cross-check the extracted values against the provided PDF. Ensure every field matches the battery-related content in the PDF accurately.\n",
    "\n",
    "Completeness:\n",
    "Confirm that all fields in the JSON structure are either filled with accurate values from the battery-related sections of the PDF or marked as \"None\" if not mentioned in the document.\n",
    "\n",
    "Consistency:\n",
    "Verify that the JSON structure, format, and data types adhere strictly to the required schema for battery-related research data.\n",
    "\n",
    "Corrections:\n",
    "Identify and highlight any errors, including inaccurate values, missing data, or structural inconsistencies, providing clear and actionable feedback for correction.\n",
    "For any issues found, specify:\n",
    "\n",
    "The field in question.\n",
    "The nature of the issue (e.g., incorrect value, missing data, formatting error).\n",
    "Suggestions or corrections to resolve the issue.\n",
    "\n",
    "Final Output:\n",
    "If the JSON is entirely correct, confirm its validity and output the JSON structure exactly as provided.\n",
    "After confirming, you should include the phrase `### Final Output` as a heading before printing the JSON. This ensures the output is clearly marked and easy to locate.\n",
    "\n",
    "Focus exclusively on battery-related content extracted from the PDF.\n",
    "Ignore any reference content or information outside the provided document.\"\"\""
   ]
  },
  {
   "cell_type": "markdown",
   "metadata": {},
   "source": [
    "### response"
   ]
  },
  {
   "cell_type": "code",
   "execution_count": 6,
   "metadata": {},
   "outputs": [
    {
     "name": "stderr",
     "output_type": "stream",
     "text": [
      "c:\\Users\\ghckd\\Documents\\GitHub\\VOLTAI\\code\\HC\\graph_multiagentrag.py:161: LangChainDeprecationWarning: The function `format_tool_to_openai_function` was deprecated in LangChain 0.1.16 and will be removed in 1.0. Use :meth:`~langchain_core.utils.function_calling.convert_to_openai_function()` instead.\n",
      "  functions = [format_tool_to_openai_function(t) for t in tools]\n",
      "c:\\Users\\ghckd\\Documents\\GitHub\\VOLTAI\\code\\HC\\graph_multiagentrag.py:180: LangChainDeprecationWarning: The method `BaseChatOpenAI.bind_functions` was deprecated in langchain-openai 0.2.1 and will be removed in 1.0.0. Use :meth:`~langchain_openai.chat_models.base.ChatOpenAI.bind_tools` instead.\n",
      "  return prompt | llm.bind_functions(functions)\n"
     ]
    }
   ],
   "source": [
    "q3_graph = MultiAgentRAG(\n",
    "    file_folder=\"../../data/input_data\", \n",
    "    file_number=33, \n",
    "    model_name=\"gpt-4o\", \n",
    "    researcher_system_prompt=q3_researcher_system_prompt, \n",
    "    verifier_system_prompt=verifier_system_prompt\n",
    ").graph\n",
    "\n",
    "q3_result = q3_graph.invoke(\n",
    "    {\n",
    "        \"messages\": [\n",
    "            HumanMessage(\n",
    "                content=\"\"\"Please fill out the following JSON structure by referring to the PDF. Verify accurate values for each field, replacing the placeholders. If the information is not mentioned in the PDF, write \"None\".\n",
    "\n",
    "[ \n",
    "    {\n",
    "        \"MorphologicalProperties\": {\n",
    "            \"ParticleSize\": {\n",
    "            \n",
    "            },\n",
    "            \"ParticleShape\": {\n",
    "            \n",
    "            },\n",
    "            \"ParticleDistribution\": {\n",
    "            \n",
    "            },\n",
    "            \"CoatingLayerCharacteristics\": {\n",
    "                \n",
    "            },\n",
    "            \"CrystalStructureAndLatticeCharacteristics\": {\n",
    "            \n",
    "            }\n",
    "        }\n",
    "    }\n",
    "]\"\"\",\n",
    "                name=\"Researcher\"  # Ensure the name is valid, here \"Researcher\" is used\n",
    "            )\n",
    "        ]\n",
    "    }, {\"recursion_limit\": 30}\n",
    ")"
   ]
  },
  {
   "cell_type": "code",
   "execution_count": 7,
   "metadata": {},
   "outputs": [
    {
     "name": "stdout",
     "output_type": "stream",
     "text": [
      "{'MorphologicalProperties': {'ParticleSize': {'SC-NCM': 'None',\n",
      "                                              'N-NCM': 'secondary particles '\n",
      "                                                       'are spherical in shape '\n",
      "                                                       'having a diameter of '\n",
      "                                                       '5−15 μm'},\n",
      "                             'ParticleShape': {'SC-NCM': 'None',\n",
      "                                               'N-NCM': 'spherical'},\n",
      "                             'ParticleDistribution': {'SC-NCM': 'None',\n",
      "                                                      'N-NCM': 'composed of '\n",
      "                                                               'submicron and '\n",
      "                                                               'nanosized '\n",
      "                                                               'primary '\n",
      "                                                               'particles'},\n",
      "                             'CoatingLayerCharacteristics': {'NCM-RGO': 'None',\n",
      "                                                             'Al2O3': 'uniform '\n",
      "                                                                      'and '\n",
      "                                                                      'conformal '\n",
      "                                                                      'coating '\n",
      "                                                                      'of '\n",
      "                                                                      'Al2O3 '\n",
      "                                                                      'with a '\n",
      "                                                                      'thickness '\n",
      "                                                                      'of '\n",
      "                                                                      'about 6 '\n",
      "                                                                      'nm'},\n",
      "                             'CrystalStructureAndLatticeCharacteristics': {'SC-NCM': 'None',\n",
      "                                                                           'WN92': 'crystalline '\n",
      "                                                                                   'layered '\n",
      "                                                                                   'structure '\n",
      "                                                                                   'of '\n",
      "                                                                                   'LiCoO2 '\n",
      "                                                                                   '(space '\n",
      "                                                                                   'group '\n",
      "                                                                                   'R-3m)'}}}\n"
     ]
    }
   ],
   "source": [
    "## 8번 논문 question 1 답변 \n",
    "import pprint \n",
    "pprint.pprint(q3_result[\"messages\"][-1], sort_dicts=False)"
   ]
  },
  {
   "cell_type": "code",
   "execution_count": null,
   "metadata": {},
   "outputs": [],
   "source": []
  },
  {
   "cell_type": "code",
   "execution_count": null,
   "metadata": {},
   "outputs": [],
   "source": []
  },
  {
   "cell_type": "code",
   "execution_count": null,
   "metadata": {},
   "outputs": [],
   "source": []
  },
  {
   "cell_type": "code",
   "execution_count": null,
   "metadata": {},
   "outputs": [],
   "source": []
  }
 ],
 "metadata": {
  "kernelspec": {
   "display_name": "voltai",
   "language": "python",
   "name": "python3"
  },
  "language_info": {
   "codemirror_mode": {
    "name": "ipython",
    "version": 3
   },
   "file_extension": ".py",
   "mimetype": "text/x-python",
   "name": "python",
   "nbconvert_exporter": "python",
   "pygments_lexer": "ipython3",
   "version": "3.11.11"
  }
 },
 "nbformat": 4,
 "nbformat_minor": 2
}
