{
 "cells": [
  {
   "cell_type": "code",
   "execution_count": 16,
   "metadata": {},
   "outputs": [],
   "source": [
    "import os\n",
    "from dotenv import load_dotenv\n",
    "from pprint import pprint\n",
    "\n",
    "from langchain_teddynote import logging\n",
    "\n",
    "from graph_relevancerag import RelevanceRAG\n",
    "from graph_ensemblerag import EnsembleRAG\n",
    "from graph_multiagentrag import MultiAgentRAG\n",
    "\n",
    "from utils import load_system_prompt, load_invoke_input"
   ]
  },
  {
   "cell_type": "code",
   "execution_count": 17,
   "metadata": {},
   "outputs": [
    {
     "name": "stdout",
     "output_type": "stream",
     "text": [
      "LangSmith 추적을 시작합니다.\n",
      "[프로젝트명]\n",
      "RAG Experiment\n"
     ]
    }
   ],
   "source": [
    "# .env 파일 로드\n",
    "load_dotenv(dotenv_path=\".env\")\n",
    "\n",
    "# API 키 가져오기\n",
    "OPENAI_API_KEY = os.getenv(\"OPENAI_API_KEY\")\n",
    "LANGCHAIN_API_KEY = os.getenv(\"LANGCHAIN_API_KEY\")\n",
    "\n",
    "# LangSmith 추적 기능을 활성화합니다. (선택적)\n",
    "os.environ[\"LANGCHAIN_TRACING_V2\"] = \"true\"\n",
    "os.environ[\"LANGCHAIN_PROJECT\"] = \"Multi-agent Collaboration\"\n",
    "\n",
    "# 프로젝트 이름을 입력합니다.\n",
    "logging.langsmith(\"RAG Experiment\")"
   ]
  },
  {
   "cell_type": "markdown",
   "metadata": {},
   "source": [
    "## 작성 시 고려사항\n",
    "1. 질문 경로 및 번호 설정\n",
    "2. rag_method 설정 str로 받으면 해당당 객체 불러오기"
   ]
  },
  {
   "cell_type": "code",
   "execution_count": 18,
   "metadata": {},
   "outputs": [],
   "source": [
    "def get_rag_instance(\n",
    "    rag_method, \n",
    "    file_folder, \n",
    "    file_number, \n",
    "    # db_folder,\n",
    "    chunk_size, \n",
    "    chunk_overlap,\n",
    "    search_k,\n",
    "    system_prompt, \n",
    "    model_name, \n",
    "    save_graph_png\n",
    "):\n",
    "    \"\"\"\n",
    "    RAG 클래스를 동적으로 받아서 인스턴스를 생성하는 함수\n",
    "    \n",
    "    Params:\n",
    "        rag_method: RAG 방법 (\"relevance-rag\", \"ensemble-rag\", \"multiagent-rag\")\n",
    "        file_folder: 논문 파일이 위치한 폴더 경로\n",
    "        file_number: 처리할 논문 번호\n",
    "        system_prompt: system prompt\n",
    "        model_name: LLM 모델 명 (\"gpt-4o\", \"gpt-4o-mini\")\n",
    "        save_graph_png: graph 저장 결정\n",
    "        \n",
    "    Return:\n",
    "        생성된 RAG 모델 인스턴스\n",
    "    \"\"\"\n",
    "    \n",
    "    # RAG 모델 인스턴스 생성\n",
    "    if rag_method == \"relevance-rag\":\n",
    "        return RelevanceRAG(file_folder, file_number, chunk_size, chunk_overlap, search_k, system_prompt, model_name, save_graph_png)\n",
    "        \n",
    "    elif rag_method == \"ensemble-rag\":\n",
    "        return EnsembleRAG(file_folder, file_number, chunk_size, chunk_overlap, search_k, system_prompt, model_name, save_graph_png)\n",
    "        \n",
    "    elif rag_method == \"multiagent-rag\":\n",
    "        return MultiAgentRAG(file_folder, file_number, chunk_size, chunk_overlap, search_k, system_prompt, model_name, save_graph_png)\n",
    "\n",
    "\n",
    "def main(\n",
    "    data_folder:str=\"./data\",\n",
    "    file_num_list:list=[11],\n",
    "    category_number:int=1, \n",
    "    chunk_size:int=500, \n",
    "    chunk_overlap:int=100, \n",
    "    search_k:int=10,       \n",
    "    config_folder:str=\"./config\",\n",
    "    rag_method:str=\"multiagent-rag\", \n",
    "    model_name:str=\"gpt-4o\", \n",
    "    save_graph_png:bool=False, \n",
    "):\n",
    "    category_names = [\"CAM (Cathode Active Material)\", \"Electrode (half-cell)\", \"Morphological Properties\", \"Samples\"]\n",
    "    \n",
    "    ## system_prompt 와 invoke_input 불러오기\n",
    "    system_prompt = load_system_prompt(config_folder=config_folder, category_number=category_number, rag_method=rag_method)\n",
    "    invoke_input = load_invoke_input(config_folder=config_folder, category_number=category_number, rag_method=rag_method)\n",
    "    \n",
    "    ## 각 논문에 대해 반복\n",
    "    for i, file_number in enumerate(file_num_list):\n",
    "        print(f\"#####    {file_number}번째 논문    #####\")\n",
    "        print(f\"##       rag method     : {rag_method}\")\n",
    "        print(f\"##       category name  : {category_names[category_number-1]}\")\n",
    "        \n",
    "        ## graph 호출\n",
    "        voltai_graph = get_rag_instance(\n",
    "            rag_method=rag_method, \n",
    "            file_folder=f\"{data_folder}/input_data/\", \n",
    "            file_number=file_number, \n",
    "            chunk_size=chunk_size, \n",
    "            chunk_overlap=chunk_overlap, \n",
    "            search_k=search_k, \n",
    "            system_prompt=system_prompt,\n",
    "            model_name=model_name, \n",
    "            save_graph_png=save_graph_png,\n",
    "        ).graph\n",
    "        \n",
    "        ## 질문이 딕셔너리 형태일 경우와 아닌 경우를 처리\n",
    "        if isinstance(invoke_input, dict):\n",
    "            \n",
    "            result = voltai_graph.invoke(**invoke_input)\n",
    "        else:\n",
    "            result = voltai_graph.invoke(*invoke_input)\n",
    "\n",
    "        ## RAG method에 따른 결과 확인\n",
    "        if result.get(\"answer\"):\n",
    "            temp_answer = result[\"answer\"][0][category_names[category_number-1]]\n",
    "        elif result.get(\"discussion\"):\n",
    "            temp_answer = result[\"discussion\"][category_names[category_number-1]]\n",
    "        elif result.get(\"messages\"):\n",
    "            temp_answer = result[\"messages\"][-1][category_names[category_number-1]]\n",
    "        \n",
    "        print(f\"##       print {file_number} result\")\n",
    "        print(\"------------------------------------\")\n",
    "        pprint(temp_answer, sort_dicts=False)\n",
    "        \n",
    "        return temp_answer"
   ]
  },
  {
   "cell_type": "code",
   "execution_count": 19,
   "metadata": {},
   "outputs": [],
   "source": [
    "file_num_list = [11]"
   ]
  },
  {
   "cell_type": "code",
   "execution_count": 20,
   "metadata": {},
   "outputs": [
    {
     "name": "stdout",
     "output_type": "stream",
     "text": [
      "##       ./config/ensemble-rag/c1-question.yaml를 불러왔습니다.\n"
     ]
    }
   ],
   "source": [
    "invoke_input = load_invoke_input(config_folder=\"./config\", category_number=1, rag_method=\"ensemble-rag\")\n"
   ]
  },
  {
   "cell_type": "code",
   "execution_count": 22,
   "metadata": {},
   "outputs": [
    {
     "name": "stdout",
     "output_type": "stream",
     "text": [
      "Please fill out the following JSON structure by referring to the PDF. Verify accurate values for each field, replacing the placeholders. If the information is not mentioned in the PDF, write \"None\".\n",
      "\n",
      "[\n",
      "  {\n",
      "    \"CAM (Cathode Active Material)\": {\n",
      "      \"Stoichiometry information\": {\n",
      "      },\n",
      "      \"Commercial NCM used\": {\n",
      "      },\n",
      "      \"Lithium source\": ,\n",
      "      \"Synthesis method\": ,\n",
      "      \"Crystallization method\": ,\n",
      "      \"Crystallization final temperature\": ,\n",
      "      \"Crystallization final duration (hours)\": ,\n",
      "      \"Doping\": ,\n",
      "      \"Coating\": ,\n",
      "      \"Additional treatment\": \n",
      "    }\n",
      "  }\n",
      "]\n"
     ]
    }
   ],
   "source": [
    "print(invoke_input[\"input\"][\"question\"])"
   ]
  },
  {
   "cell_type": "code",
   "execution_count": null,
   "metadata": {},
   "outputs": [],
   "source": []
  },
  {
   "cell_type": "markdown",
   "metadata": {},
   "source": [
    "### Relevance RAG"
   ]
  },
  {
   "cell_type": "code",
   "execution_count": 7,
   "metadata": {},
   "outputs": [],
   "source": [
    "# relevance_rag_answer = main(file_num_list=file_num_list, category_number=1, rag_method=\"relevance-rag\")"
   ]
  },
  {
   "cell_type": "code",
   "execution_count": 8,
   "metadata": {},
   "outputs": [],
   "source": [
    "# relevance_rag_answer = main(file_num_list=file_num_list, category_number=1, rag_method=\"relevance-rag\")"
   ]
  },
  {
   "cell_type": "code",
   "execution_count": 9,
   "metadata": {},
   "outputs": [],
   "source": [
    "# relevance_rag_answer = main(file_num_list=file_num_list, category_number=1, rag_method=\"relevance-rag\")"
   ]
  },
  {
   "cell_type": "markdown",
   "metadata": {},
   "source": [
    "### Ensemble RAG"
   ]
  },
  {
   "cell_type": "code",
   "execution_count": 10,
   "metadata": {},
   "outputs": [
    {
     "name": "stdout",
     "output_type": "stream",
     "text": [
      "##       ./config/ensemble-rag/c1-system-prompt.yaml를 불러왔습니다.\n",
      "##       ./config/ensemble-rag/c1-question.yaml를 불러왔습니다.\n",
      "#####    11번째 논문    #####\n",
      "##       rag method     : ensemble-rag\n",
      "##       category name  : CAM (Cathode Active Material)\n",
      "##       paper_011 retriever를 생성했습니다.\n",
      "##          - chunk_size    :500\n",
      "##          - chunk_overlap :100\n",
      "##          - retrieve_k    :10\n"
     ]
    },
    {
     "ename": "KeyError",
     "evalue": "'Input to PromptTemplate is missing variables {\\'\\\\n        \"CAM (Cathode Active Material)\"\\'}.  Expected: [\\'\\\\n        \"CAM (Cathode Active Material)\"\\', \\'context\\', \\'question\\'] Received: [\\'question\\', \\'context\\', \\'chat_history\\']\\nNote: if you intended {\\n        \"CAM (Cathode Active Material)\"} to be part of the string and not a variable, please escape it with double curly braces like: \\'{{\\n        \"CAM (Cathode Active Material)\"}}\\'.\\nFor troubleshooting, visit: https://python.langchain.com/docs/troubleshooting/errors/INVALID_PROMPT_INPUT '",
     "output_type": "error",
     "traceback": [
      "\u001b[1;31m---------------------------------------------------------------------------\u001b[0m",
      "\u001b[1;31mKeyError\u001b[0m                                  Traceback (most recent call last)",
      "\u001b[1;32m~\\AppData\\Local\\Temp\\ipykernel_11480\\3297096826.py\u001b[0m in \u001b[0;36m<cell line: 0>\u001b[1;34m()\u001b[0m\n\u001b[1;32m----> 1\u001b[1;33m \u001b[0mensemble_rag_answer\u001b[0m \u001b[1;33m=\u001b[0m \u001b[0mmain\u001b[0m\u001b[1;33m(\u001b[0m\u001b[0mfile_num_list\u001b[0m\u001b[1;33m=\u001b[0m\u001b[0mfile_num_list\u001b[0m\u001b[1;33m,\u001b[0m \u001b[0mcategory_number\u001b[0m\u001b[1;33m=\u001b[0m\u001b[1;36m1\u001b[0m\u001b[1;33m,\u001b[0m \u001b[0mrag_method\u001b[0m\u001b[1;33m=\u001b[0m\u001b[1;34m\"ensemble-rag\"\u001b[0m\u001b[1;33m)\u001b[0m\u001b[1;33m\u001b[0m\u001b[1;33m\u001b[0m\u001b[0m\n\u001b[0m",
      "\u001b[1;32m~\\AppData\\Local\\Temp\\ipykernel_11480\\2308361537.py\u001b[0m in \u001b[0;36mmain\u001b[1;34m(data_folder, file_num_list, category_number, chunk_size, chunk_overlap, search_k, config_folder, rag_method, model_name, save_graph_png)\u001b[0m\n\u001b[0;32m     77\u001b[0m         \u001b[1;32mif\u001b[0m \u001b[0misinstance\u001b[0m\u001b[1;33m(\u001b[0m\u001b[0minvoke_input\u001b[0m\u001b[1;33m,\u001b[0m \u001b[0mdict\u001b[0m\u001b[1;33m)\u001b[0m\u001b[1;33m:\u001b[0m\u001b[1;33m\u001b[0m\u001b[1;33m\u001b[0m\u001b[0m\n\u001b[0;32m     78\u001b[0m \u001b[1;33m\u001b[0m\u001b[0m\n\u001b[1;32m---> 79\u001b[1;33m             \u001b[0mresult\u001b[0m \u001b[1;33m=\u001b[0m \u001b[0mvoltai_graph\u001b[0m\u001b[1;33m.\u001b[0m\u001b[0minvoke\u001b[0m\u001b[1;33m(\u001b[0m\u001b[1;33m**\u001b[0m\u001b[0minvoke_input\u001b[0m\u001b[1;33m)\u001b[0m\u001b[1;33m\u001b[0m\u001b[1;33m\u001b[0m\u001b[0m\n\u001b[0m\u001b[0;32m     80\u001b[0m         \u001b[1;32melse\u001b[0m\u001b[1;33m:\u001b[0m\u001b[1;33m\u001b[0m\u001b[1;33m\u001b[0m\u001b[0m\n\u001b[0;32m     81\u001b[0m             \u001b[0mresult\u001b[0m \u001b[1;33m=\u001b[0m \u001b[0mvoltai_graph\u001b[0m\u001b[1;33m.\u001b[0m\u001b[0minvoke\u001b[0m\u001b[1;33m(\u001b[0m\u001b[1;33m*\u001b[0m\u001b[0minvoke_input\u001b[0m\u001b[1;33m)\u001b[0m\u001b[1;33m\u001b[0m\u001b[1;33m\u001b[0m\u001b[0m\n",
      "\u001b[1;32mc:\\Users\\ghckd\\anaconda3\\envs\\voltai\\Lib\\site-packages\\langgraph\\pregel\\__init__.py\u001b[0m in \u001b[0;36minvoke\u001b[1;34m(self, input, config, stream_mode, output_keys, interrupt_before, interrupt_after, debug, **kwargs)\u001b[0m\n\u001b[0;32m   1934\u001b[0m         \u001b[1;32melse\u001b[0m\u001b[1;33m:\u001b[0m\u001b[1;33m\u001b[0m\u001b[1;33m\u001b[0m\u001b[0m\n\u001b[0;32m   1935\u001b[0m             \u001b[0mchunks\u001b[0m \u001b[1;33m=\u001b[0m \u001b[1;33m[\u001b[0m\u001b[1;33m]\u001b[0m\u001b[1;33m\u001b[0m\u001b[1;33m\u001b[0m\u001b[0m\n\u001b[1;32m-> 1936\u001b[1;33m         for chunk in self.stream(\n\u001b[0m\u001b[0;32m   1937\u001b[0m             \u001b[0minput\u001b[0m\u001b[1;33m,\u001b[0m\u001b[1;33m\u001b[0m\u001b[1;33m\u001b[0m\u001b[0m\n\u001b[0;32m   1938\u001b[0m             \u001b[0mconfig\u001b[0m\u001b[1;33m,\u001b[0m\u001b[1;33m\u001b[0m\u001b[1;33m\u001b[0m\u001b[0m\n",
      "\u001b[1;32mc:\\Users\\ghckd\\anaconda3\\envs\\voltai\\Lib\\site-packages\\langgraph\\pregel\\__init__.py\u001b[0m in \u001b[0;36mstream\u001b[1;34m(self, input, config, stream_mode, output_keys, interrupt_before, interrupt_after, debug, subgraphs)\u001b[0m\n\u001b[0;32m   1654\u001b[0m                 \u001b[1;31m# with channel updates applied only at the transition between steps\u001b[0m\u001b[1;33m\u001b[0m\u001b[1;33m\u001b[0m\u001b[0m\n\u001b[0;32m   1655\u001b[0m                 \u001b[1;32mwhile\u001b[0m \u001b[0mloop\u001b[0m\u001b[1;33m.\u001b[0m\u001b[0mtick\u001b[0m\u001b[1;33m(\u001b[0m\u001b[0minput_keys\u001b[0m\u001b[1;33m=\u001b[0m\u001b[0mself\u001b[0m\u001b[1;33m.\u001b[0m\u001b[0minput_channels\u001b[0m\u001b[1;33m)\u001b[0m\u001b[1;33m:\u001b[0m\u001b[1;33m\u001b[0m\u001b[1;33m\u001b[0m\u001b[0m\n\u001b[1;32m-> 1656\u001b[1;33m                     for _ in runner.tick(\n\u001b[0m\u001b[0;32m   1657\u001b[0m                         \u001b[0mloop\u001b[0m\u001b[1;33m.\u001b[0m\u001b[0mtasks\u001b[0m\u001b[1;33m.\u001b[0m\u001b[0mvalues\u001b[0m\u001b[1;33m(\u001b[0m\u001b[1;33m)\u001b[0m\u001b[1;33m,\u001b[0m\u001b[1;33m\u001b[0m\u001b[1;33m\u001b[0m\u001b[0m\n\u001b[0;32m   1658\u001b[0m                         \u001b[0mtimeout\u001b[0m\u001b[1;33m=\u001b[0m\u001b[0mself\u001b[0m\u001b[1;33m.\u001b[0m\u001b[0mstep_timeout\u001b[0m\u001b[1;33m,\u001b[0m\u001b[1;33m\u001b[0m\u001b[1;33m\u001b[0m\u001b[0m\n",
      "\u001b[1;32mc:\\Users\\ghckd\\anaconda3\\envs\\voltai\\Lib\\site-packages\\langgraph\\pregel\\runner.py\u001b[0m in \u001b[0;36mtick\u001b[1;34m(self, tasks, reraise, timeout, retry_policy, get_waiter)\u001b[0m\n\u001b[0;32m    237\u001b[0m         \u001b[0mtime\u001b[0m\u001b[1;33m.\u001b[0m\u001b[0msleep\u001b[0m\u001b[1;33m(\u001b[0m\u001b[1;36m0\u001b[0m\u001b[1;33m)\u001b[0m\u001b[1;33m\u001b[0m\u001b[1;33m\u001b[0m\u001b[0m\n\u001b[0;32m    238\u001b[0m         \u001b[1;31m# panic on failure or timeout\u001b[0m\u001b[1;33m\u001b[0m\u001b[1;33m\u001b[0m\u001b[0m\n\u001b[1;32m--> 239\u001b[1;33m         _panic_or_proceed(\n\u001b[0m\u001b[0;32m    240\u001b[0m             \u001b[0mdone_futures\u001b[0m\u001b[1;33m.\u001b[0m\u001b[0munion\u001b[0m\u001b[1;33m(\u001b[0m\u001b[0mf\u001b[0m \u001b[1;32mfor\u001b[0m \u001b[0mf\u001b[0m\u001b[1;33m,\u001b[0m \u001b[0mt\u001b[0m \u001b[1;32min\u001b[0m \u001b[0mfutures\u001b[0m\u001b[1;33m.\u001b[0m\u001b[0mitems\u001b[0m\u001b[1;33m(\u001b[0m\u001b[1;33m)\u001b[0m \u001b[1;32mif\u001b[0m \u001b[0mt\u001b[0m \u001b[1;32mis\u001b[0m \u001b[1;32mnot\u001b[0m \u001b[1;32mNone\u001b[0m\u001b[1;33m)\u001b[0m\u001b[1;33m,\u001b[0m\u001b[1;33m\u001b[0m\u001b[1;33m\u001b[0m\u001b[0m\n\u001b[0;32m    241\u001b[0m             \u001b[0mpanic\u001b[0m\u001b[1;33m=\u001b[0m\u001b[0mreraise\u001b[0m\u001b[1;33m,\u001b[0m\u001b[1;33m\u001b[0m\u001b[1;33m\u001b[0m\u001b[0m\n",
      "\u001b[1;32mc:\\Users\\ghckd\\anaconda3\\envs\\voltai\\Lib\\site-packages\\langgraph\\pregel\\runner.py\u001b[0m in \u001b[0;36m_panic_or_proceed\u001b[1;34m(futs, timeout_exc_cls, panic)\u001b[0m\n\u001b[0;32m    537\u001b[0m             \u001b[1;31m# raise the exception\u001b[0m\u001b[1;33m\u001b[0m\u001b[1;33m\u001b[0m\u001b[0m\n\u001b[0;32m    538\u001b[0m             \u001b[1;32mif\u001b[0m \u001b[0mpanic\u001b[0m\u001b[1;33m:\u001b[0m\u001b[1;33m\u001b[0m\u001b[1;33m\u001b[0m\u001b[0m\n\u001b[1;32m--> 539\u001b[1;33m                 \u001b[1;32mraise\u001b[0m \u001b[0mexc\u001b[0m\u001b[1;33m\u001b[0m\u001b[1;33m\u001b[0m\u001b[0m\n\u001b[0m\u001b[0;32m    540\u001b[0m     \u001b[1;32mif\u001b[0m \u001b[0minflight\u001b[0m\u001b[1;33m:\u001b[0m\u001b[1;33m\u001b[0m\u001b[1;33m\u001b[0m\u001b[0m\n\u001b[0;32m    541\u001b[0m         \u001b[1;31m# if we got here means we timed out\u001b[0m\u001b[1;33m\u001b[0m\u001b[1;33m\u001b[0m\u001b[0m\n",
      "\u001b[1;32mc:\\Users\\ghckd\\anaconda3\\envs\\voltai\\Lib\\site-packages\\langgraph\\pregel\\executor.py\u001b[0m in \u001b[0;36mdone\u001b[1;34m(self, task)\u001b[0m\n\u001b[0;32m     74\u001b[0m     \u001b[1;32mdef\u001b[0m \u001b[0mdone\u001b[0m\u001b[1;33m(\u001b[0m\u001b[0mself\u001b[0m\u001b[1;33m,\u001b[0m \u001b[0mtask\u001b[0m\u001b[1;33m:\u001b[0m \u001b[0mconcurrent\u001b[0m\u001b[1;33m.\u001b[0m\u001b[0mfutures\u001b[0m\u001b[1;33m.\u001b[0m\u001b[0mFuture\u001b[0m\u001b[1;33m)\u001b[0m \u001b[1;33m->\u001b[0m \u001b[1;32mNone\u001b[0m\u001b[1;33m:\u001b[0m\u001b[1;33m\u001b[0m\u001b[1;33m\u001b[0m\u001b[0m\n\u001b[0;32m     75\u001b[0m         \u001b[1;32mtry\u001b[0m\u001b[1;33m:\u001b[0m\u001b[1;33m\u001b[0m\u001b[1;33m\u001b[0m\u001b[0m\n\u001b[1;32m---> 76\u001b[1;33m             \u001b[0mtask\u001b[0m\u001b[1;33m.\u001b[0m\u001b[0mresult\u001b[0m\u001b[1;33m(\u001b[0m\u001b[1;33m)\u001b[0m\u001b[1;33m\u001b[0m\u001b[1;33m\u001b[0m\u001b[0m\n\u001b[0m\u001b[0;32m     77\u001b[0m         \u001b[1;32mexcept\u001b[0m \u001b[0mGraphBubbleUp\u001b[0m\u001b[1;33m:\u001b[0m\u001b[1;33m\u001b[0m\u001b[1;33m\u001b[0m\u001b[0m\n\u001b[0;32m     78\u001b[0m             \u001b[1;31m# This exception is an interruption signal, not an error\u001b[0m\u001b[1;33m\u001b[0m\u001b[1;33m\u001b[0m\u001b[0m\n",
      "\u001b[1;32mc:\\Users\\ghckd\\anaconda3\\envs\\voltai\\Lib\\concurrent\\futures\\_base.py\u001b[0m in \u001b[0;36mresult\u001b[1;34m(self, timeout)\u001b[0m\n\u001b[0;32m    447\u001b[0m                     \u001b[1;32mraise\u001b[0m \u001b[0mCancelledError\u001b[0m\u001b[1;33m(\u001b[0m\u001b[1;33m)\u001b[0m\u001b[1;33m\u001b[0m\u001b[1;33m\u001b[0m\u001b[0m\n\u001b[0;32m    448\u001b[0m                 \u001b[1;32melif\u001b[0m \u001b[0mself\u001b[0m\u001b[1;33m.\u001b[0m\u001b[0m_state\u001b[0m \u001b[1;33m==\u001b[0m \u001b[0mFINISHED\u001b[0m\u001b[1;33m:\u001b[0m\u001b[1;33m\u001b[0m\u001b[1;33m\u001b[0m\u001b[0m\n\u001b[1;32m--> 449\u001b[1;33m                     \u001b[1;32mreturn\u001b[0m \u001b[0mself\u001b[0m\u001b[1;33m.\u001b[0m\u001b[0m__get_result\u001b[0m\u001b[1;33m(\u001b[0m\u001b[1;33m)\u001b[0m\u001b[1;33m\u001b[0m\u001b[1;33m\u001b[0m\u001b[0m\n\u001b[0m\u001b[0;32m    450\u001b[0m \u001b[1;33m\u001b[0m\u001b[0m\n\u001b[0;32m    451\u001b[0m                 \u001b[0mself\u001b[0m\u001b[1;33m.\u001b[0m\u001b[0m_condition\u001b[0m\u001b[1;33m.\u001b[0m\u001b[0mwait\u001b[0m\u001b[1;33m(\u001b[0m\u001b[0mtimeout\u001b[0m\u001b[1;33m)\u001b[0m\u001b[1;33m\u001b[0m\u001b[1;33m\u001b[0m\u001b[0m\n",
      "\u001b[1;32mc:\\Users\\ghckd\\anaconda3\\envs\\voltai\\Lib\\concurrent\\futures\\_base.py\u001b[0m in \u001b[0;36m__get_result\u001b[1;34m(self)\u001b[0m\n\u001b[0;32m    399\u001b[0m         \u001b[1;32mif\u001b[0m \u001b[0mself\u001b[0m\u001b[1;33m.\u001b[0m\u001b[0m_exception\u001b[0m\u001b[1;33m:\u001b[0m\u001b[1;33m\u001b[0m\u001b[1;33m\u001b[0m\u001b[0m\n\u001b[0;32m    400\u001b[0m             \u001b[1;32mtry\u001b[0m\u001b[1;33m:\u001b[0m\u001b[1;33m\u001b[0m\u001b[1;33m\u001b[0m\u001b[0m\n\u001b[1;32m--> 401\u001b[1;33m                 \u001b[1;32mraise\u001b[0m \u001b[0mself\u001b[0m\u001b[1;33m.\u001b[0m\u001b[0m_exception\u001b[0m\u001b[1;33m\u001b[0m\u001b[1;33m\u001b[0m\u001b[0m\n\u001b[0m\u001b[0;32m    402\u001b[0m             \u001b[1;32mfinally\u001b[0m\u001b[1;33m:\u001b[0m\u001b[1;33m\u001b[0m\u001b[1;33m\u001b[0m\u001b[0m\n\u001b[0;32m    403\u001b[0m                 \u001b[1;31m# Break a reference cycle with the exception in self._exception\u001b[0m\u001b[1;33m\u001b[0m\u001b[1;33m\u001b[0m\u001b[0m\n",
      "\u001b[1;32mc:\\Users\\ghckd\\anaconda3\\envs\\voltai\\Lib\\concurrent\\futures\\thread.py\u001b[0m in \u001b[0;36mrun\u001b[1;34m(self)\u001b[0m\n\u001b[0;32m     56\u001b[0m \u001b[1;33m\u001b[0m\u001b[0m\n\u001b[0;32m     57\u001b[0m         \u001b[1;32mtry\u001b[0m\u001b[1;33m:\u001b[0m\u001b[1;33m\u001b[0m\u001b[1;33m\u001b[0m\u001b[0m\n\u001b[1;32m---> 58\u001b[1;33m             \u001b[0mresult\u001b[0m \u001b[1;33m=\u001b[0m \u001b[0mself\u001b[0m\u001b[1;33m.\u001b[0m\u001b[0mfn\u001b[0m\u001b[1;33m(\u001b[0m\u001b[1;33m*\u001b[0m\u001b[0mself\u001b[0m\u001b[1;33m.\u001b[0m\u001b[0margs\u001b[0m\u001b[1;33m,\u001b[0m \u001b[1;33m**\u001b[0m\u001b[0mself\u001b[0m\u001b[1;33m.\u001b[0m\u001b[0mkwargs\u001b[0m\u001b[1;33m)\u001b[0m\u001b[1;33m\u001b[0m\u001b[1;33m\u001b[0m\u001b[0m\n\u001b[0m\u001b[0;32m     59\u001b[0m         \u001b[1;32mexcept\u001b[0m \u001b[0mBaseException\u001b[0m \u001b[1;32mas\u001b[0m \u001b[0mexc\u001b[0m\u001b[1;33m:\u001b[0m\u001b[1;33m\u001b[0m\u001b[1;33m\u001b[0m\u001b[0m\n\u001b[0;32m     60\u001b[0m             \u001b[0mself\u001b[0m\u001b[1;33m.\u001b[0m\u001b[0mfuture\u001b[0m\u001b[1;33m.\u001b[0m\u001b[0mset_exception\u001b[0m\u001b[1;33m(\u001b[0m\u001b[0mexc\u001b[0m\u001b[1;33m)\u001b[0m\u001b[1;33m\u001b[0m\u001b[1;33m\u001b[0m\u001b[0m\n",
      "\u001b[1;32mc:\\Users\\ghckd\\anaconda3\\envs\\voltai\\Lib\\site-packages\\langgraph\\pregel\\retry.py\u001b[0m in \u001b[0;36mrun_with_retry\u001b[1;34m(task, retry_policy, configurable)\u001b[0m\n\u001b[0;32m     38\u001b[0m             \u001b[0mtask\u001b[0m\u001b[1;33m.\u001b[0m\u001b[0mwrites\u001b[0m\u001b[1;33m.\u001b[0m\u001b[0mclear\u001b[0m\u001b[1;33m(\u001b[0m\u001b[1;33m)\u001b[0m\u001b[1;33m\u001b[0m\u001b[1;33m\u001b[0m\u001b[0m\n\u001b[0;32m     39\u001b[0m             \u001b[1;31m# run the task\u001b[0m\u001b[1;33m\u001b[0m\u001b[1;33m\u001b[0m\u001b[0m\n\u001b[1;32m---> 40\u001b[1;33m             \u001b[1;32mreturn\u001b[0m \u001b[0mtask\u001b[0m\u001b[1;33m.\u001b[0m\u001b[0mproc\u001b[0m\u001b[1;33m.\u001b[0m\u001b[0minvoke\u001b[0m\u001b[1;33m(\u001b[0m\u001b[0mtask\u001b[0m\u001b[1;33m.\u001b[0m\u001b[0minput\u001b[0m\u001b[1;33m,\u001b[0m \u001b[0mconfig\u001b[0m\u001b[1;33m)\u001b[0m\u001b[1;33m\u001b[0m\u001b[1;33m\u001b[0m\u001b[0m\n\u001b[0m\u001b[0;32m     41\u001b[0m         \u001b[1;32mexcept\u001b[0m \u001b[0mParentCommand\u001b[0m \u001b[1;32mas\u001b[0m \u001b[0mexc\u001b[0m\u001b[1;33m:\u001b[0m\u001b[1;33m\u001b[0m\u001b[1;33m\u001b[0m\u001b[0m\n\u001b[0;32m     42\u001b[0m             \u001b[0mns\u001b[0m\u001b[1;33m:\u001b[0m \u001b[0mstr\u001b[0m \u001b[1;33m=\u001b[0m \u001b[0mconfig\u001b[0m\u001b[1;33m[\u001b[0m\u001b[0mCONF\u001b[0m\u001b[1;33m]\u001b[0m\u001b[1;33m[\u001b[0m\u001b[0mCONFIG_KEY_CHECKPOINT_NS\u001b[0m\u001b[1;33m]\u001b[0m\u001b[1;33m\u001b[0m\u001b[1;33m\u001b[0m\u001b[0m\n",
      "\u001b[1;32mc:\\Users\\ghckd\\anaconda3\\envs\\voltai\\Lib\\site-packages\\langgraph\\utils\\runnable.py\u001b[0m in \u001b[0;36minvoke\u001b[1;34m(self, input, config, **kwargs)\u001b[0m\n\u001b[0;32m    406\u001b[0m                 )\n\u001b[0;32m    407\u001b[0m                 \u001b[1;32mif\u001b[0m \u001b[0mi\u001b[0m \u001b[1;33m==\u001b[0m \u001b[1;36m0\u001b[0m\u001b[1;33m:\u001b[0m\u001b[1;33m\u001b[0m\u001b[1;33m\u001b[0m\u001b[0m\n\u001b[1;32m--> 408\u001b[1;33m                     \u001b[0minput\u001b[0m \u001b[1;33m=\u001b[0m \u001b[0mstep\u001b[0m\u001b[1;33m.\u001b[0m\u001b[0minvoke\u001b[0m\u001b[1;33m(\u001b[0m\u001b[0minput\u001b[0m\u001b[1;33m,\u001b[0m \u001b[0mconfig\u001b[0m\u001b[1;33m,\u001b[0m \u001b[1;33m**\u001b[0m\u001b[0mkwargs\u001b[0m\u001b[1;33m)\u001b[0m\u001b[1;33m\u001b[0m\u001b[1;33m\u001b[0m\u001b[0m\n\u001b[0m\u001b[0;32m    409\u001b[0m                 \u001b[1;32melse\u001b[0m\u001b[1;33m:\u001b[0m\u001b[1;33m\u001b[0m\u001b[1;33m\u001b[0m\u001b[0m\n\u001b[0;32m    410\u001b[0m                     \u001b[0minput\u001b[0m \u001b[1;33m=\u001b[0m \u001b[0mstep\u001b[0m\u001b[1;33m.\u001b[0m\u001b[0minvoke\u001b[0m\u001b[1;33m(\u001b[0m\u001b[0minput\u001b[0m\u001b[1;33m,\u001b[0m \u001b[0mconfig\u001b[0m\u001b[1;33m)\u001b[0m\u001b[1;33m\u001b[0m\u001b[1;33m\u001b[0m\u001b[0m\n",
      "\u001b[1;32mc:\\Users\\ghckd\\anaconda3\\envs\\voltai\\Lib\\site-packages\\langgraph\\utils\\runnable.py\u001b[0m in \u001b[0;36minvoke\u001b[1;34m(self, input, config, **kwargs)\u001b[0m\n\u001b[0;32m    182\u001b[0m         \u001b[1;32melse\u001b[0m\u001b[1;33m:\u001b[0m\u001b[1;33m\u001b[0m\u001b[1;33m\u001b[0m\u001b[0m\n\u001b[0;32m    183\u001b[0m             \u001b[0mcontext\u001b[0m\u001b[1;33m.\u001b[0m\u001b[0mrun\u001b[0m\u001b[1;33m(\u001b[0m\u001b[0m_set_config_context\u001b[0m\u001b[1;33m,\u001b[0m \u001b[0mconfig\u001b[0m\u001b[1;33m)\u001b[0m\u001b[1;33m\u001b[0m\u001b[1;33m\u001b[0m\u001b[0m\n\u001b[1;32m--> 184\u001b[1;33m             \u001b[0mret\u001b[0m \u001b[1;33m=\u001b[0m \u001b[0mcontext\u001b[0m\u001b[1;33m.\u001b[0m\u001b[0mrun\u001b[0m\u001b[1;33m(\u001b[0m\u001b[0mself\u001b[0m\u001b[1;33m.\u001b[0m\u001b[0mfunc\u001b[0m\u001b[1;33m,\u001b[0m \u001b[0minput\u001b[0m\u001b[1;33m,\u001b[0m \u001b[1;33m**\u001b[0m\u001b[0mkwargs\u001b[0m\u001b[1;33m)\u001b[0m\u001b[1;33m\u001b[0m\u001b[1;33m\u001b[0m\u001b[0m\n\u001b[0m\u001b[0;32m    185\u001b[0m         \u001b[1;32mif\u001b[0m \u001b[0misinstance\u001b[0m\u001b[1;33m(\u001b[0m\u001b[0mret\u001b[0m\u001b[1;33m,\u001b[0m \u001b[0mRunnable\u001b[0m\u001b[1;33m)\u001b[0m \u001b[1;32mand\u001b[0m \u001b[0mself\u001b[0m\u001b[1;33m.\u001b[0m\u001b[0mrecurse\u001b[0m\u001b[1;33m:\u001b[0m\u001b[1;33m\u001b[0m\u001b[1;33m\u001b[0m\u001b[0m\n\u001b[0;32m    186\u001b[0m             \u001b[1;32mreturn\u001b[0m \u001b[0mret\u001b[0m\u001b[1;33m.\u001b[0m\u001b[0minvoke\u001b[0m\u001b[1;33m(\u001b[0m\u001b[0minput\u001b[0m\u001b[1;33m,\u001b[0m \u001b[0mconfig\u001b[0m\u001b[1;33m)\u001b[0m\u001b[1;33m\u001b[0m\u001b[1;33m\u001b[0m\u001b[0m\n",
      "\u001b[1;32mc:\\Users\\ghckd\\Documents\\GitHub\\VOLTAI\\graph_ensemblerag.py\u001b[0m in \u001b[0;36mllm_answer2\u001b[1;34m(self, state)\u001b[0m\n\u001b[0;32m    271\u001b[0m         \u001b[0mchain\u001b[0m \u001b[1;33m=\u001b[0m \u001b[0mprompt\u001b[0m \u001b[1;33m|\u001b[0m \u001b[0mself\u001b[0m\u001b[1;33m.\u001b[0m\u001b[0mmodel_2\u001b[0m \u001b[1;33m|\u001b[0m \u001b[0mJsonOutputParser\u001b[0m\u001b[1;33m(\u001b[0m\u001b[1;33m)\u001b[0m\u001b[1;33m\u001b[0m\u001b[1;33m\u001b[0m\u001b[0m\n\u001b[0;32m    272\u001b[0m \u001b[1;33m\u001b[0m\u001b[0m\n\u001b[1;32m--> 273\u001b[1;33m         response = chain.invoke(\n\u001b[0m\u001b[0;32m    274\u001b[0m             {\n\u001b[0;32m    275\u001b[0m                 \u001b[1;34m\"question\"\u001b[0m\u001b[1;33m:\u001b[0m \u001b[0mlatest_question\u001b[0m\u001b[1;33m,\u001b[0m\u001b[1;33m\u001b[0m\u001b[1;33m\u001b[0m\u001b[0m\n",
      "\u001b[1;32mc:\\Users\\ghckd\\anaconda3\\envs\\voltai\\Lib\\site-packages\\langchain_core\\runnables\\base.py\u001b[0m in \u001b[0;36minvoke\u001b[1;34m(self, input, config, **kwargs)\u001b[0m\n\u001b[0;32m   3020\u001b[0m                 \u001b[0mcontext\u001b[0m\u001b[1;33m.\u001b[0m\u001b[0mrun\u001b[0m\u001b[1;33m(\u001b[0m\u001b[0m_set_config_context\u001b[0m\u001b[1;33m,\u001b[0m \u001b[0mconfig\u001b[0m\u001b[1;33m)\u001b[0m\u001b[1;33m\u001b[0m\u001b[1;33m\u001b[0m\u001b[0m\n\u001b[0;32m   3021\u001b[0m                 \u001b[1;32mif\u001b[0m \u001b[0mi\u001b[0m \u001b[1;33m==\u001b[0m \u001b[1;36m0\u001b[0m\u001b[1;33m:\u001b[0m\u001b[1;33m\u001b[0m\u001b[1;33m\u001b[0m\u001b[0m\n\u001b[1;32m-> 3022\u001b[1;33m                     \u001b[0minput\u001b[0m \u001b[1;33m=\u001b[0m \u001b[0mcontext\u001b[0m\u001b[1;33m.\u001b[0m\u001b[0mrun\u001b[0m\u001b[1;33m(\u001b[0m\u001b[0mstep\u001b[0m\u001b[1;33m.\u001b[0m\u001b[0minvoke\u001b[0m\u001b[1;33m,\u001b[0m \u001b[0minput\u001b[0m\u001b[1;33m,\u001b[0m \u001b[0mconfig\u001b[0m\u001b[1;33m,\u001b[0m \u001b[1;33m**\u001b[0m\u001b[0mkwargs\u001b[0m\u001b[1;33m)\u001b[0m\u001b[1;33m\u001b[0m\u001b[1;33m\u001b[0m\u001b[0m\n\u001b[0m\u001b[0;32m   3023\u001b[0m                 \u001b[1;32melse\u001b[0m\u001b[1;33m:\u001b[0m\u001b[1;33m\u001b[0m\u001b[1;33m\u001b[0m\u001b[0m\n\u001b[0;32m   3024\u001b[0m                     \u001b[0minput\u001b[0m \u001b[1;33m=\u001b[0m \u001b[0mcontext\u001b[0m\u001b[1;33m.\u001b[0m\u001b[0mrun\u001b[0m\u001b[1;33m(\u001b[0m\u001b[0mstep\u001b[0m\u001b[1;33m.\u001b[0m\u001b[0minvoke\u001b[0m\u001b[1;33m,\u001b[0m \u001b[0minput\u001b[0m\u001b[1;33m,\u001b[0m \u001b[0mconfig\u001b[0m\u001b[1;33m)\u001b[0m\u001b[1;33m\u001b[0m\u001b[1;33m\u001b[0m\u001b[0m\n",
      "\u001b[1;32mc:\\Users\\ghckd\\anaconda3\\envs\\voltai\\Lib\\site-packages\\langchain_core\\prompts\\base.py\u001b[0m in \u001b[0;36minvoke\u001b[1;34m(self, input, config, **kwargs)\u001b[0m\n\u001b[0;32m    206\u001b[0m         \u001b[1;32mif\u001b[0m \u001b[0mself\u001b[0m\u001b[1;33m.\u001b[0m\u001b[0mtags\u001b[0m\u001b[1;33m:\u001b[0m\u001b[1;33m\u001b[0m\u001b[1;33m\u001b[0m\u001b[0m\n\u001b[0;32m    207\u001b[0m             \u001b[0mconfig\u001b[0m\u001b[1;33m[\u001b[0m\u001b[1;34m\"tags\"\u001b[0m\u001b[1;33m]\u001b[0m \u001b[1;33m=\u001b[0m \u001b[0mconfig\u001b[0m\u001b[1;33m[\u001b[0m\u001b[1;34m\"tags\"\u001b[0m\u001b[1;33m]\u001b[0m \u001b[1;33m+\u001b[0m \u001b[0mself\u001b[0m\u001b[1;33m.\u001b[0m\u001b[0mtags\u001b[0m\u001b[1;33m\u001b[0m\u001b[1;33m\u001b[0m\u001b[0m\n\u001b[1;32m--> 208\u001b[1;33m         return self._call_with_config(\n\u001b[0m\u001b[0;32m    209\u001b[0m             \u001b[0mself\u001b[0m\u001b[1;33m.\u001b[0m\u001b[0m_format_prompt_with_error_handling\u001b[0m\u001b[1;33m,\u001b[0m\u001b[1;33m\u001b[0m\u001b[1;33m\u001b[0m\u001b[0m\n\u001b[0;32m    210\u001b[0m             \u001b[0minput\u001b[0m\u001b[1;33m,\u001b[0m\u001b[1;33m\u001b[0m\u001b[1;33m\u001b[0m\u001b[0m\n",
      "\u001b[1;32mc:\\Users\\ghckd\\anaconda3\\envs\\voltai\\Lib\\site-packages\\langchain_core\\runnables\\base.py\u001b[0m in \u001b[0;36m_call_with_config\u001b[1;34m(self, func, input, config, run_type, serialized, **kwargs)\u001b[0m\n\u001b[0;32m   1925\u001b[0m             output = cast(\n\u001b[0;32m   1926\u001b[0m                 \u001b[0mOutput\u001b[0m\u001b[1;33m,\u001b[0m\u001b[1;33m\u001b[0m\u001b[1;33m\u001b[0m\u001b[0m\n\u001b[1;32m-> 1927\u001b[1;33m                 context.run(\n\u001b[0m\u001b[0;32m   1928\u001b[0m                     \u001b[0mcall_func_with_variable_args\u001b[0m\u001b[1;33m,\u001b[0m  \u001b[1;31m# type: ignore[arg-type]\u001b[0m\u001b[1;33m\u001b[0m\u001b[1;33m\u001b[0m\u001b[0m\n\u001b[0;32m   1929\u001b[0m                     \u001b[0mfunc\u001b[0m\u001b[1;33m,\u001b[0m  \u001b[1;31m# type: ignore[arg-type]\u001b[0m\u001b[1;33m\u001b[0m\u001b[1;33m\u001b[0m\u001b[0m\n",
      "\u001b[1;32mc:\\Users\\ghckd\\anaconda3\\envs\\voltai\\Lib\\site-packages\\langchain_core\\runnables\\config.py\u001b[0m in \u001b[0;36mcall_func_with_variable_args\u001b[1;34m(func, input, config, run_manager, **kwargs)\u001b[0m\n\u001b[0;32m    394\u001b[0m     \u001b[1;32mif\u001b[0m \u001b[0mrun_manager\u001b[0m \u001b[1;32mis\u001b[0m \u001b[1;32mnot\u001b[0m \u001b[1;32mNone\u001b[0m \u001b[1;32mand\u001b[0m \u001b[0maccepts_run_manager\u001b[0m\u001b[1;33m(\u001b[0m\u001b[0mfunc\u001b[0m\u001b[1;33m)\u001b[0m\u001b[1;33m:\u001b[0m\u001b[1;33m\u001b[0m\u001b[1;33m\u001b[0m\u001b[0m\n\u001b[0;32m    395\u001b[0m         \u001b[0mkwargs\u001b[0m\u001b[1;33m[\u001b[0m\u001b[1;34m\"run_manager\"\u001b[0m\u001b[1;33m]\u001b[0m \u001b[1;33m=\u001b[0m \u001b[0mrun_manager\u001b[0m\u001b[1;33m\u001b[0m\u001b[1;33m\u001b[0m\u001b[0m\n\u001b[1;32m--> 396\u001b[1;33m     \u001b[1;32mreturn\u001b[0m \u001b[0mfunc\u001b[0m\u001b[1;33m(\u001b[0m\u001b[0minput\u001b[0m\u001b[1;33m,\u001b[0m \u001b[1;33m**\u001b[0m\u001b[0mkwargs\u001b[0m\u001b[1;33m)\u001b[0m  \u001b[1;31m# type: ignore[call-arg]\u001b[0m\u001b[1;33m\u001b[0m\u001b[1;33m\u001b[0m\u001b[0m\n\u001b[0m\u001b[0;32m    397\u001b[0m \u001b[1;33m\u001b[0m\u001b[0m\n\u001b[0;32m    398\u001b[0m \u001b[1;33m\u001b[0m\u001b[0m\n",
      "\u001b[1;32mc:\\Users\\ghckd\\anaconda3\\envs\\voltai\\Lib\\site-packages\\langchain_core\\prompts\\base.py\u001b[0m in \u001b[0;36m_format_prompt_with_error_handling\u001b[1;34m(self, inner_input)\u001b[0m\n\u001b[0;32m    180\u001b[0m \u001b[1;33m\u001b[0m\u001b[0m\n\u001b[0;32m    181\u001b[0m     \u001b[1;32mdef\u001b[0m \u001b[0m_format_prompt_with_error_handling\u001b[0m\u001b[1;33m(\u001b[0m\u001b[0mself\u001b[0m\u001b[1;33m,\u001b[0m \u001b[0minner_input\u001b[0m\u001b[1;33m:\u001b[0m \u001b[0mdict\u001b[0m\u001b[1;33m)\u001b[0m \u001b[1;33m->\u001b[0m \u001b[0mPromptValue\u001b[0m\u001b[1;33m:\u001b[0m\u001b[1;33m\u001b[0m\u001b[1;33m\u001b[0m\u001b[0m\n\u001b[1;32m--> 182\u001b[1;33m         \u001b[0m_inner_input\u001b[0m \u001b[1;33m=\u001b[0m \u001b[0mself\u001b[0m\u001b[1;33m.\u001b[0m\u001b[0m_validate_input\u001b[0m\u001b[1;33m(\u001b[0m\u001b[0minner_input\u001b[0m\u001b[1;33m)\u001b[0m\u001b[1;33m\u001b[0m\u001b[1;33m\u001b[0m\u001b[0m\n\u001b[0m\u001b[0;32m    183\u001b[0m         \u001b[1;32mreturn\u001b[0m \u001b[0mself\u001b[0m\u001b[1;33m.\u001b[0m\u001b[0mformat_prompt\u001b[0m\u001b[1;33m(\u001b[0m\u001b[1;33m**\u001b[0m\u001b[0m_inner_input\u001b[0m\u001b[1;33m)\u001b[0m\u001b[1;33m\u001b[0m\u001b[1;33m\u001b[0m\u001b[0m\n\u001b[0;32m    184\u001b[0m \u001b[1;33m\u001b[0m\u001b[0m\n",
      "\u001b[1;32mc:\\Users\\ghckd\\anaconda3\\envs\\voltai\\Lib\\site-packages\\langchain_core\\prompts\\base.py\u001b[0m in \u001b[0;36m_validate_input\u001b[1;34m(self, inner_input)\u001b[0m\n\u001b[0;32m    174\u001b[0m                 \u001b[1;34mf\"'{{{{{example_key}}}}}'.\"\u001b[0m\u001b[1;33m\u001b[0m\u001b[1;33m\u001b[0m\u001b[0m\n\u001b[0;32m    175\u001b[0m             )\n\u001b[1;32m--> 176\u001b[1;33m             raise KeyError(\n\u001b[0m\u001b[0;32m    177\u001b[0m                 \u001b[0mcreate_message\u001b[0m\u001b[1;33m(\u001b[0m\u001b[0mmessage\u001b[0m\u001b[1;33m=\u001b[0m\u001b[0mmsg\u001b[0m\u001b[1;33m,\u001b[0m \u001b[0merror_code\u001b[0m\u001b[1;33m=\u001b[0m\u001b[0mErrorCode\u001b[0m\u001b[1;33m.\u001b[0m\u001b[0mINVALID_PROMPT_INPUT\u001b[0m\u001b[1;33m)\u001b[0m\u001b[1;33m\u001b[0m\u001b[1;33m\u001b[0m\u001b[0m\n\u001b[0;32m    178\u001b[0m             )\n",
      "\u001b[1;31mKeyError\u001b[0m: 'Input to PromptTemplate is missing variables {\\'\\\\n        \"CAM (Cathode Active Material)\"\\'}.  Expected: [\\'\\\\n        \"CAM (Cathode Active Material)\"\\', \\'context\\', \\'question\\'] Received: [\\'question\\', \\'context\\', \\'chat_history\\']\\nNote: if you intended {\\n        \"CAM (Cathode Active Material)\"} to be part of the string and not a variable, please escape it with double curly braces like: \\'{{\\n        \"CAM (Cathode Active Material)\"}}\\'.\\nFor troubleshooting, visit: https://python.langchain.com/docs/troubleshooting/errors/INVALID_PROMPT_INPUT '"
     ]
    }
   ],
   "source": [
    "ensemble_rag_answer = main(file_num_list=file_num_list, category_number=1, rag_method=\"ensemble-rag\")"
   ]
  },
  {
   "cell_type": "markdown",
   "metadata": {},
   "source": [
    "### Multiagent RAG"
   ]
  },
  {
   "cell_type": "code",
   "execution_count": 7,
   "metadata": {},
   "outputs": [
    {
     "name": "stdout",
     "output_type": "stream",
     "text": [
      "##       ./config/multiagent-rag/c1-system-prompt.yaml를 불러왔습니다.\n",
      "##       ./config/multiagent-rag/c1-question.yaml를 불러왔습니다.\n",
      "#####    11번째 논문    #####\n",
      "##       rag method     : multiagent-rag\n",
      "##       category name  : CAM (Cathode Active Material)\n",
      "##       paper_011 retriever를 생성했습니다.\n",
      "##          - chunk_size    :500\n",
      "##          - chunk_overlap :100\n",
      "##          - retrieve_k    :10\n",
      "##       print 11 result\n",
      "------------------------------------\n",
      "{'Stoichiometry information': {'LiNi1/3Co1/3Mn1/3O2': {'Li ratio': 1.0,\n",
      "                                                       'Ni ratio': 0.33,\n",
      "                                                       'Co ratio': 0.33,\n",
      "                                                       'Mn ratio': 0.33,\n",
      "                                                       'O ratio': 2.0}},\n",
      " 'Commercial NCM used': {'LiNi1/3Co1/3Mn1/3O2': 'no'},\n",
      " 'Lithium source': 'LiNO3',\n",
      " 'Synthesis method': 'solution combustion',\n",
      " 'Crystallization method': 'calcination',\n",
      " 'Crystallization final temperature': 850,\n",
      " 'Crystallization final duration (hours)': 15,\n",
      " 'Doping': 'None',\n",
      " 'Coating': 'RGO',\n",
      " 'Additional treatment': 'microwave irradiation'}\n"
     ]
    }
   ],
   "source": [
    "# multiagent_rag_c1_answer = main(file_num_list=file_num_list, category_number=1, rag_method=\"multiagent-rag\")"
   ]
  },
  {
   "cell_type": "code",
   "execution_count": null,
   "metadata": {},
   "outputs": [
    {
     "name": "stdout",
     "output_type": "stream",
     "text": [
      "##       ./config/multiagent-rag/c2-system-prompt.yaml를 불러왔습니다.\n",
      "##       ./config/multiagent-rag/c2-question.yaml를 불러왔습니다.\n",
      "#####    11번째 논문    #####\n",
      "##       rag method     : multiagent-rag\n",
      "##       category name  : Electrode (half-cell)\n",
      "##       paper_011 retriever를 생성했습니다.\n",
      "##          - chunk_size    :500\n",
      "##          - chunk_overlap :100\n",
      "##          - retrieve_k    :10\n",
      "##       print 11 result\n",
      "------------------------------------\n",
      "{'Active material to Conductive additive to Binder ratio': '87:3:10',\n",
      " 'Electrolyte': [{'Salt': 'LiPF6',\n",
      "                  'Concentration': '1M',\n",
      "                  'Solvent': 'EC:DMC',\n",
      "                  'Solvent ratio': '1:1'}],\n",
      " 'Additive': 'RGO, 5%',\n",
      " 'Loading density (mass loading of NCM)': 'None',\n",
      " 'Additional treatment for electrode': 'None'}\n"
     ]
    }
   ],
   "source": [
    "# multiagent_rag_c2_answer = main(file_num_list=file_num_list, category_number=2, rag_method=\"multiagent-rag\")"
   ]
  },
  {
   "cell_type": "code",
   "execution_count": 11,
   "metadata": {},
   "outputs": [
    {
     "name": "stdout",
     "output_type": "stream",
     "text": [
      "##       ./config/multiagent-rag/c3-system-prompt.yaml를 불러왔습니다.\n",
      "##       ./config/multiagent-rag/c3-question.yaml를 불러왔습니다.\n",
      "#####    11번째 논문    #####\n",
      "##       rag method     : multiagent-rag\n",
      "##       category name  : MorphologicalProperties\n",
      "##       paper_011 retriever를 생성했습니다.\n",
      "##          - chunk_size    :500\n",
      "##          - chunk_overlap :100\n",
      "##          - retrieve_k    :10\n",
      "##       print 11 result\n",
      "------------------------------------\n",
      "{'ParticleSize': {'NCM': 'narrow size range of 200-300 nm'},\n",
      " 'ParticleShape': {'NCM': 'faceted morphology, like regular polyhedrons with '\n",
      "                          'smooth surfaces'},\n",
      " 'ParticleDistribution': {'NCM': 'uniform distribution with no significant '\n",
      "                                 'agglomeration'},\n",
      " 'CoatingLayerCharacteristics': {'NCM-RGO': 'RGO sheets wrapped around NCM '\n",
      "                                            'nanoparticles forming a '\n",
      "                                            'core-shell-like structure'},\n",
      " 'CrystalStructureAndLatticeCharacteristics': {'NCM': 'hexagonal structure '\n",
      "                                                      'with principal '\n",
      "                                                      'crystallographic planes '\n",
      "                                                      'of (003) and (104), '\n",
      "                                                      'lattice parameters a = '\n",
      "                                                      '2.868 Å, c = 14.233 Å, '\n",
      "                                                      'and c/a ratio of 4.963'}}\n"
     ]
    }
   ],
   "source": [
    "# multiagent_rag_c3_answer = main(file_num_list=file_num_list, category_number=3, rag_method=\"multiagent-rag\")"
   ]
  },
  {
   "cell_type": "code",
   "execution_count": null,
   "metadata": {},
   "outputs": [
    {
     "name": "stdout",
     "output_type": "stream",
     "text": [
      "##       ./config/multiagent-rag/c4-system-prompt.yaml를 불러왔습니다.\n",
      "##       ./config/multiagent-rag/c4-question.yaml를 불러왔습니다.\n",
      "#####    11번째 논문    #####\n",
      "##       rag method     : multiagent-rag\n",
      "##       category name  : Samples\n",
      "##       paper_011 retriever를 생성했습니다.\n",
      "##          - chunk_size    :500\n",
      "##          - chunk_overlap :100\n",
      "##          - retrieve_k    :10\n",
      "##       print 11 result\n",
      "------------------------------------\n",
      "[{'Name': 'NR0',\n",
      "  'Voltage ranges': [{'Range': '2.5 - 4.3',\n",
      "                      'Temperature': 25,\n",
      "                      'Data': [{'C-rate': 0.1, 'Capacity': 155.3},\n",
      "                               {'C-rate': 0.2, 'Capacity': 'None'},\n",
      "                               {'C-rate': 0.5, 'Capacity': 'None'},\n",
      "                               {'C-rate': 1, 'Capacity': 123},\n",
      "                               {'C-rate': 2, 'Capacity': 'None'},\n",
      "                               {'C-rate': 4, 'Capacity': 'None'},\n",
      "                               {'C-rate': 6, 'Capacity': 'None'},\n",
      "                               {'Other C-rates and performance': [{'C-rate': 5,\n",
      "                                                                   'Capacity': 45.5}]}]}]}]\n"
     ]
    }
   ],
   "source": [
    "# multiagent_rag_c4_answer = main(file_num_list=file_num_list, category_number=4, rag_method=\"multiagent-rag\")"
   ]
  }
 ],
 "metadata": {
  "kernelspec": {
   "display_name": "voltai",
   "language": "python",
   "name": "python3"
  },
  "language_info": {
   "codemirror_mode": {
    "name": "ipython",
    "version": 3
   },
   "file_extension": ".py",
   "mimetype": "text/x-python",
   "name": "python",
   "nbconvert_exporter": "python",
   "pygments_lexer": "ipython3",
   "version": "3.11.11"
  }
 },
 "nbformat": 4,
 "nbformat_minor": 2
}
