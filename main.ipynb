{
 "cells": [
  {
   "cell_type": "code",
   "execution_count": 1,
   "metadata": {},
   "outputs": [],
   "source": [
    "from tools import question_generator\n",
    "from utils import load_config, load_system_prompt\n",
    "from graph import get_rag_instance"
   ]
  },
  {
   "cell_type": "code",
   "execution_count": 3,
   "metadata": {},
   "outputs": [
    {
     "name": "stdout",
     "output_type": "stream",
     "text": [
      "##  ./configs/questions/multiagent.yaml template를 불러왔습니다.\n",
      "    - NCM622에 대한 question을 생성했습니다.\n"
     ]
    },
    {
     "data": {
      "text/plain": [
       "'Please fill out the following JSON structure by referring to the PDF. Verify accurate values for each field. If the information is not mentioned in the PDF, write `null` (not `None`).\\nUse all of the NCM cathode sample names (e.g., \"NCM-622\") provided in the electrochemical performance section.\\nFill out in the `null`, `[]` and `{}` values based on the example format:\\n[{\"CAM (Cathode Active Material)\": {\"Stoichiometry information\": {\"NCM622\": {}}, \"Commercial NCM used\": {\"NCM622\": {}}, \"Lithium source\": None, \"Synthesis method\": None, \"Crystallization method\": None, \"Crystallization final temperature\": None, \"Crystallization final duration (hours)\": None, \"Doping\": None, \"Coating\": None}}]'"
      ]
     },
     "execution_count": 3,
     "metadata": {},
     "output_type": "execute_result"
    }
   ],
   "source": [
    "question_generator(category_number=1, sample_names=[\"NCM622\"])"
   ]
  },
  {
   "cell_type": "code",
   "execution_count": 2,
   "metadata": {},
   "outputs": [
    {
     "ename": "ModuleNotFoundError",
     "evalue": "No module named 'tools.tools'",
     "output_type": "error",
     "traceback": [
      "\u001b[1;31m---------------------------------------------------------------------------\u001b[0m",
      "\u001b[1;31mModuleNotFoundError\u001b[0m                       Traceback (most recent call last)",
      "\u001b[1;32m~\\AppData\\Local\\Temp\\ipykernel_11636\\3287320945.py\u001b[0m in \u001b[0;36m<cell line: 0>\u001b[1;34m()\u001b[0m\n\u001b[1;32m----> 1\u001b[1;33m \u001b[1;32mfrom\u001b[0m \u001b[0mgraph\u001b[0m \u001b[1;32mimport\u001b[0m \u001b[0mget_rag_instance\u001b[0m\u001b[1;33m\u001b[0m\u001b[1;33m\u001b[0m\u001b[0m\n\u001b[0m",
      "\u001b[1;32mc:\\Users\\ghckd\\Documents\\GitHub\\VOLTAI\\graph\\__init__.py\u001b[0m in \u001b[0;36m<module>\u001b[1;34m\u001b[0m\n\u001b[1;32m----> 1\u001b[1;33m \u001b[1;32mfrom\u001b[0m \u001b[1;33m.\u001b[0m\u001b[0mrelevance\u001b[0m \u001b[1;32mimport\u001b[0m \u001b[0mRelevanceRAG\u001b[0m\u001b[1;33m\u001b[0m\u001b[1;33m\u001b[0m\u001b[0m\n\u001b[0m\u001b[0;32m      2\u001b[0m \u001b[1;32mfrom\u001b[0m \u001b[1;33m.\u001b[0m\u001b[0mensemble\u001b[0m \u001b[1;32mimport\u001b[0m \u001b[0mEnsembleRAG\u001b[0m\u001b[1;33m\u001b[0m\u001b[1;33m\u001b[0m\u001b[0m\n\u001b[0;32m      3\u001b[0m \u001b[1;32mfrom\u001b[0m \u001b[1;33m.\u001b[0m\u001b[0mmultiagent\u001b[0m \u001b[1;32mimport\u001b[0m \u001b[0mMultiAgentRAG\u001b[0m\u001b[1;33m\u001b[0m\u001b[1;33m\u001b[0m\u001b[0m\n\u001b[0;32m      4\u001b[0m \u001b[1;33m\u001b[0m\u001b[0m\n\u001b[0;32m      5\u001b[0m \u001b[1;33m\u001b[0m\u001b[0m\n",
      "\u001b[1;32mc:\\Users\\ghckd\\Documents\\GitHub\\VOLTAI\\graph\\relevance.py\u001b[0m in \u001b[0;36m<module>\u001b[1;34m\u001b[0m\n\u001b[0;32m     16\u001b[0m \u001b[1;32mfrom\u001b[0m \u001b[0mpydantic\u001b[0m \u001b[1;32mimport\u001b[0m \u001b[0mBaseModel\u001b[0m\u001b[1;33m,\u001b[0m \u001b[0mField\u001b[0m\u001b[1;33m\u001b[0m\u001b[1;33m\u001b[0m\u001b[0m\n\u001b[0;32m     17\u001b[0m \u001b[1;33m\u001b[0m\u001b[0m\n\u001b[1;32m---> 18\u001b[1;33m \u001b[1;32mfrom\u001b[0m \u001b[0mtools\u001b[0m\u001b[1;33m.\u001b[0m\u001b[0mtools\u001b[0m \u001b[1;32mimport\u001b[0m \u001b[0membedding_file\u001b[0m\u001b[1;33m\u001b[0m\u001b[1;33m\u001b[0m\u001b[0m\n\u001b[0m\u001b[0;32m     19\u001b[0m \u001b[1;33m\u001b[0m\u001b[0m\n\u001b[0;32m     20\u001b[0m \u001b[1;33m\u001b[0m\u001b[0m\n",
      "\u001b[1;31mModuleNotFoundError\u001b[0m: No module named 'tools.tools'"
     ]
    }
   ],
   "source": []
  },
  {
   "cell_type": "code",
   "execution_count": 1,
   "metadata": {},
   "outputs": [],
   "source": [
    "import os\n",
    "from dotenv import load_dotenv\n",
    "from pprint import pprint\n",
    "\n",
    "from langchain_teddynote import logging\n",
    "\n",
    "from utils import *"
   ]
  },
  {
   "cell_type": "code",
   "execution_count": 2,
   "metadata": {},
   "outputs": [],
   "source": [
    "# .env 파일 로드\n",
    "load_dotenv(dotenv_path=\".env\")\n",
    "\n",
    "# API 키 가져오기\n",
    "OPENAI_API_KEY = os.getenv(\"OPENAI_API_KEY\")\n",
    "LANGCHAIN_API_KEY = os.getenv(\"LANGCHAIN_API_KEY\")\n",
    "\n",
    "# LangSmith 추적 기능을 활성화합니다. (선택적)\n",
    "os.environ[\"LANGCHAIN_TRACING_V2\"] = \"true\""
   ]
  },
  {
   "cell_type": "code",
   "execution_count": 3,
   "metadata": {},
   "outputs": [],
   "source": [
    "def main(\n",
    "    data_folder:str=\"./data\",\n",
    "    file_num_list:list=[11],\n",
    "    category_number:int=1, \n",
    "    chunk_size:int=500, \n",
    "    chunk_overlap:int=100, \n",
    "    search_k:int=10,       \n",
    "    config_folder:str=\"./config\",\n",
    "    rag_method:str=\"multiagent-rag\", \n",
    "    model_name:str=\"gpt-4o\", \n",
    "    save_graph_png:bool=False, \n",
    "):\n",
    "    category_names = [\"CAM (Cathode Active Material)\", \"Electrode (half-cell)\", \"Morphological Properties\", \"Cathode Performance\"]\n",
    "    \n",
    "    ## system_prompt 와 invoke_input 불러오기\n",
    "    system_prompt = load_system_prompt(config_folder=config_folder, category_number=category_number, rag_method=rag_method)\n",
    "    invoke_input = load_invoke_input(config_folder=config_folder, category_number=category_number, rag_method=rag_method)\n",
    "    \n",
    "    total_answer = []\n",
    "    \n",
    "    ## 각 논문에 대해 반복\n",
    "    for file_number in file_num_list:\n",
    "        print(f\"#####    {file_number}번째 논문    #####\")\n",
    "        print(f\"##       rag method     : {rag_method}\")\n",
    "        print(f\"##       category name  : {category_names[category_number-1]}\")\n",
    "        \n",
    "        ## graph 호출\n",
    "        voltai_graph = get_rag_instance(\n",
    "            rag_method=rag_method, \n",
    "            file_folder=f\"{data_folder}/input_data/\", \n",
    "            file_number=file_number, \n",
    "            chunk_size=chunk_size, \n",
    "            chunk_overlap=chunk_overlap, \n",
    "            search_k=search_k, \n",
    "            system_prompt=system_prompt,\n",
    "            model_name=model_name, \n",
    "            save_graph_png=save_graph_png,\n",
    "        ).graph\n",
    "        \n",
    "        ## 질문이 딕셔너리 형태일 경우와 아닌 경우를 처리\n",
    "        if isinstance(invoke_input, dict):\n",
    "            result = voltai_graph.invoke(**invoke_input)\n",
    "        else:\n",
    "            result = voltai_graph.invoke(*invoke_input)\n",
    "\n",
    "        ## RAG method에 따른 결과 확인\n",
    "        if result.get(\"answer\"):\n",
    "            temp_answer = result[\"answer\"][0][category_names[category_number-1]]\n",
    "        elif result.get(\"discussion\"):\n",
    "            temp_answer = result[\"discussion\"][category_names[category_number-1]]\n",
    "        elif result.get(\"messages\"):\n",
    "            temp_answer = result[\"messages\"][-1][category_names[category_number-1]]\n",
    "        \n",
    "        print(f\"##       print {file_number} result\")\n",
    "        print(\"------------------------------------\")\n",
    "        pprint(temp_answer, sort_dicts=False)\n",
    "        \n",
    "        ## json 저장하는 코드\n",
    "        save_output2json(each_answer=temp_answer,file_num=file_number, rag_method=rag_method, category_number=category_number)\n",
    "        \n",
    "        total_answer.append(temp_answer)\n",
    "        \n",
    "    return total_answer"
   ]
  },
  {
   "cell_type": "code",
   "execution_count": 4,
   "metadata": {},
   "outputs": [],
   "source": [
    "file_num_list = [11]"
   ]
  },
  {
   "cell_type": "markdown",
   "metadata": {},
   "source": [
    "### Relevance RAG"
   ]
  },
  {
   "cell_type": "code",
   "execution_count": 5,
   "metadata": {},
   "outputs": [
    {
     "name": "stdout",
     "output_type": "stream",
     "text": [
      "##       ./config/relevance-rag/c1-system-prompt.yaml를 불러왔습니다.\n",
      "##       ./config/relevance-rag/c1-question.yaml를 불러왔습니다.\n",
      "#####    8번째 논문    #####\n",
      "##       rag method     : relevance-rag\n",
      "##       category name  : CAM (Cathode Active Material)\n",
      "##       paper_008 retriever를 생성했습니다.\n",
      "##          - chunk_size    :500\n",
      "##          - chunk_overlap :100\n",
      "##          - retrieve_k    :10\n",
      "        RELEVANCE CHECK : yes\n",
      "##       print 8 result\n",
      "------------------------------------\n",
      "{'Stoichiometry information': {'NCM111': {'Li ratio': 1.02,\n",
      "                                          'Ni ratio': 0.3333333333,\n",
      "                                          'Co ratio': 0.3333333333,\n",
      "                                          'Mn ratio': 0.3333333333,\n",
      "                                          'O ratio': 2.0},\n",
      "                               'NCM523': {'Li ratio': 1.02,\n",
      "                                          'Ni ratio': 0.5,\n",
      "                                          'Co ratio': 0.2,\n",
      "                                          'Mn ratio': 0.3,\n",
      "                                          'O ratio': 2.0},\n",
      "                               'NCM622': {'Li ratio': 1.02,\n",
      "                                          'Ni ratio': 0.6,\n",
      "                                          'Co ratio': 0.2,\n",
      "                                          'Mn ratio': 0.2,\n",
      "                                          'O ratio': 2.0},\n",
      "                               'NCM721': {'Li ratio': 1.02,\n",
      "                                          'Ni ratio': 0.7,\n",
      "                                          'Co ratio': 0.2,\n",
      "                                          'Mn ratio': 0.1,\n",
      "                                          'O ratio': 2.0},\n",
      "                               'NCM811': {'Li ratio': 1.02,\n",
      "                                          'Ni ratio': 0.8,\n",
      "                                          'Co ratio': 0.1,\n",
      "                                          'Mn ratio': 0.1,\n",
      "                                          'O ratio': 2.0},\n",
      "                               'NCM851005': {'Li ratio': 1.02,\n",
      "                                             'Ni ratio': 0.85,\n",
      "                                             'Co ratio': 0.1,\n",
      "                                             'Mn ratio': 0.05,\n",
      "                                             'O ratio': 2.0}},\n",
      " 'Commercial NCM used': {'NCM111': 'yes',\n",
      "                         'NCM523': 'yes',\n",
      "                         'NCM622': 'yes',\n",
      "                         'NCM721': 'yes',\n",
      "                         'NCM811': 'yes',\n",
      "                         'NCM851005': 'yes'},\n",
      " 'Lithium source': 'None',\n",
      " 'Synthesis method': 'None',\n",
      " 'Crystallization method': 'None',\n",
      " 'Crystallization final temperature': 'None',\n",
      " 'Crystallization final duration (hours)': 'None',\n",
      " 'Doping': 'None',\n",
      " 'Coating': 'None',\n",
      " 'Additional treatment': 'None'}\n",
      "    JSON 파일 ./output/json/relevance-rag/paper_008_output-250201003537.json에 저장되었습니다.\n",
      "##       paper_008_output를 저장했습니다.\n"
     ]
    }
   ],
   "source": [
    "relevance_rag_c1_answer = main(file_num_list=file_num_list, category_number=1, rag_method=\"relevance-rag\")"
   ]
  },
  {
   "cell_type": "code",
   "execution_count": 11,
   "metadata": {},
   "outputs": [
    {
     "name": "stdout",
     "output_type": "stream",
     "text": [
      "##       ./config/relevance-rag/c2-system-prompt.yaml를 불러왔습니다.\n",
      "##       ./config/relevance-rag/c2-question.yaml를 불러왔습니다.\n",
      "#####    11번째 논문    #####\n",
      "##       rag method     : relevance-rag\n",
      "##       category name  : Electrode (half-cell)\n",
      "##       paper_011 retriever를 생성했습니다.\n",
      "##          - chunk_size    :500\n",
      "##          - chunk_overlap :100\n",
      "##          - retrieve_k    :10\n",
      "        RELEVANCE CHECK : yes\n",
      "##       print 11 result\n",
      "------------------------------------\n",
      "{'Active material to Conductive additive to Binder ratio': '83:7:10',\n",
      " 'Electrolyte': [{'Salt': 'LiPF6',\n",
      "                  'Concentration': '1M',\n",
      "                  'Solvent': 'EC:DMC',\n",
      "                  'Solvent ratio': '1:1'}],\n",
      " 'Additive': 'None',\n",
      " 'Loading density (mass loading of NCM)': 'None',\n",
      " 'Additional treatment for electrode': 'None'}\n"
     ]
    }
   ],
   "source": [
    "relevance_rag_c2_answer = main(file_num_list=file_num_list, category_number=2, rag_method=\"relevance-rag\")"
   ]
  },
  {
   "cell_type": "code",
   "execution_count": 16,
   "metadata": {},
   "outputs": [
    {
     "name": "stdout",
     "output_type": "stream",
     "text": [
      "##       ./config/relevance-rag/c3-system-prompt.yaml를 불러왔습니다.\n",
      "##       ./config/relevance-rag/c3-question.yaml를 불러왔습니다.\n",
      "#####    8번째 논문    #####\n",
      "##       rag method     : relevance-rag\n",
      "##       category name  : Morphological Properties\n",
      "##       paper_008 retriever를 생성했습니다.\n",
      "##          - chunk_size    :500\n",
      "##          - chunk_overlap :100\n",
      "##          - retrieve_k    :10\n",
      "        RELEVANCE CHECK : yes\n",
      "##       print 8 result\n",
      "------------------------------------\n",
      "{'ParticleSize': {'SC-NCM': '-', 'N-NCM': '-'},\n",
      " 'ParticleShape': {'SC-NCM': '-', 'N-NCM': '-'},\n",
      " 'ParticleDistribution': {'SC-NCM': '-', 'N-NCM': '-'},\n",
      " 'CoatingLayerCharacteristics': {'NCM-RGO': '-'},\n",
      " 'CrystalStructureAndLatticeCharacteristics': {'SC-NCM': '-',\n",
      "                                               'WN92': 'The NCM materials '\n",
      "                                                       'exhibit a '\n",
      "                                                       'well-developed layered '\n",
      "                                                       'crystalline structure '\n",
      "                                                       'of α-NaFeO2-type with '\n",
      "                                                       'a space group R3m̅.'}}\n"
     ]
    }
   ],
   "source": [
    "relevance_rag_c3_answer = main(file_num_list=file_num_list, category_number=3, rag_method=\"relevance-rag\")"
   ]
  },
  {
   "cell_type": "code",
   "execution_count": 13,
   "metadata": {},
   "outputs": [
    {
     "name": "stdout",
     "output_type": "stream",
     "text": [
      "##       ./config/relevance-rag/c4-system-prompt.yaml를 불러왔습니다.\n",
      "##       ./config/relevance-rag/c4-question.yaml를 불러왔습니다.\n",
      "#####    11번째 논문    #####\n",
      "##       rag method     : relevance-rag\n",
      "##       category name  : Cathode Performance\n",
      "##       paper_011 retriever를 생성했습니다.\n",
      "##          - chunk_size    :500\n",
      "##          - chunk_overlap :100\n",
      "##          - retrieve_k    :10\n",
      "        RELEVANCE CHECK : yes\n",
      "##       print 11 result\n",
      "------------------------------------\n",
      "[{'Sample Name': 'NR0',\n",
      "  'Data': [{'Voltage range': '2.5 - 4.3',\n",
      "            'Temperature': 'None',\n",
      "            'C-rate and Specific capacity': [{'C-rate': 0.1,\n",
      "                                              'Capacity': '155.3'},\n",
      "                                             {'C-rate': 0.2,\n",
      "                                              'Capacity': 'None'},\n",
      "                                             {'C-rate': 0.5,\n",
      "                                              'Capacity': 'None'},\n",
      "                                             {'C-rate': 1.0, 'Capacity': '123'},\n",
      "                                             {'C-rate': 2.0,\n",
      "                                              'Capacity': 'None'},\n",
      "                                             {'C-rate': 4.0,\n",
      "                                              'Capacity': 'None'},\n",
      "                                             {'Other C-rates and performance': [{'C-rate': 3.0,\n",
      "                                                                                 'Capacity': 'None'},\n",
      "                                                                                {'C-rate': 5.0,\n",
      "                                                                                 'Capacity': '45.5'}]}]}]},\n",
      " {'Sample Name': 'NR1',\n",
      "  'Data': [{'Voltage range': '2.5 - 4.3',\n",
      "            'Temperature': 'None',\n",
      "            'C-rate and Specific capacity': [{'C-rate': 0.1,\n",
      "                                              'Capacity': '154.6'},\n",
      "                                             {'C-rate': 0.2,\n",
      "                                              'Capacity': 'None'},\n",
      "                                             {'C-rate': 0.5,\n",
      "                                              'Capacity': 'None'},\n",
      "                                             {'C-rate': 1.0,\n",
      "                                              'Capacity': 'None'},\n",
      "                                             {'C-rate': 2.0,\n",
      "                                              'Capacity': 'None'},\n",
      "                                             {'C-rate': 4.0,\n",
      "                                              'Capacity': 'None'},\n",
      "                                             {'Other C-rates and performance': [{'C-rate': 3.0,\n",
      "                                                                                 'Capacity': 'None'},\n",
      "                                                                                {'C-rate': 5.0,\n",
      "                                                                                 'Capacity': '47.0'}]}]}]},\n",
      " {'Sample Name': 'NR3',\n",
      "  'Data': [{'Voltage range': '2.5 - 4.3',\n",
      "            'Temperature': 'None',\n",
      "            'C-rate and Specific capacity': [{'C-rate': 0.1,\n",
      "                                              'Capacity': '166.5'},\n",
      "                                             {'C-rate': 0.2,\n",
      "                                              'Capacity': 'None'},\n",
      "                                             {'C-rate': 0.5,\n",
      "                                              'Capacity': 'None'},\n",
      "                                             {'C-rate': 1.0,\n",
      "                                              'Capacity': 'None'},\n",
      "                                             {'C-rate': 2.0,\n",
      "                                              'Capacity': 'None'},\n",
      "                                             {'C-rate': 4.0,\n",
      "                                              'Capacity': 'None'},\n",
      "                                             {'Other C-rates and performance': [{'C-rate': 3.0,\n",
      "                                                                                 'Capacity': 'None'},\n",
      "                                                                                {'C-rate': 5.0,\n",
      "                                                                                 'Capacity': '75.4'}]}]}]},\n",
      " {'Sample Name': 'NR5',\n",
      "  'Data': [{'Voltage range': '2.5 - 4.3',\n",
      "            'Temperature': 'None',\n",
      "            'C-rate and Specific capacity': [{'C-rate': 0.1, 'Capacity': '175'},\n",
      "                                             {'C-rate': 0.2,\n",
      "                                              'Capacity': 'None'},\n",
      "                                             {'C-rate': 0.5,\n",
      "                                              'Capacity': 'None'},\n",
      "                                             {'C-rate': 1.0,\n",
      "                                              'Capacity': 'None'},\n",
      "                                             {'C-rate': 2.0,\n",
      "                                              'Capacity': 'None'},\n",
      "                                             {'C-rate': 4.0,\n",
      "                                              'Capacity': 'None'},\n",
      "                                             {'Other C-rates and performance': [{'C-rate': 3.0,\n",
      "                                                                                 'Capacity': 'None'},\n",
      "                                                                                {'C-rate': 5.0,\n",
      "                                                                                 'Capacity': '95.4'}]}]}]}]\n"
     ]
    }
   ],
   "source": [
    "relevance_rag_c4_answer = main(file_num_list=file_num_list, category_number=4, rag_method=\"relevance-rag\")"
   ]
  },
  {
   "cell_type": "markdown",
   "metadata": {},
   "source": [
    "### Ensemble RAG"
   ]
  },
  {
   "cell_type": "code",
   "execution_count": 9,
   "metadata": {},
   "outputs": [
    {
     "name": "stdout",
     "output_type": "stream",
     "text": [
      "##       ./config/ensemble-rag/c4-system-prompt.yaml를 불러왔습니다.\n",
      "##       ./config/ensemble-rag/c4-question.yaml를 불러왔습니다.\n",
      "#####    11번째 논문    #####\n",
      "##       rag method     : ensemble-rag\n",
      "##       category name  : Cathode Performance\n",
      "##       paper_011 retriever를 생성했습니다.\n",
      "##          - chunk_size    :500\n",
      "##          - chunk_overlap :100\n",
      "##          - retrieve_k    :10\n",
      "        RELEVANCE CHECK for ANSWER 2 : yes\n",
      "        RELEVANCE CHECK for ANSWER 3 : yes\n",
      "        RELEVANCE CHECK for ANSWER 1 : yes\n",
      "        Success Discussion!\n",
      "##       print 11 result\n",
      "------------------------------------\n",
      "[{'Sample Name': 'NR0',\n",
      "  'Data': [{'Voltage range': '2.5 - 4.3',\n",
      "            'Temperature': 'None',\n",
      "            'C-rate and Specific capacity': [{'C-rate': 0.1,\n",
      "                                              'Capacity': '155.3'},\n",
      "                                             {'C-rate': 0.2,\n",
      "                                              'Capacity': 'None'},\n",
      "                                             {'C-rate': 0.5,\n",
      "                                              'Capacity': 'None'},\n",
      "                                             {'C-rate': 1.0, 'Capacity': '123'},\n",
      "                                             {'C-rate': 2.0,\n",
      "                                              'Capacity': 'None'},\n",
      "                                             {'C-rate': 4.0,\n",
      "                                              'Capacity': 'None'},\n",
      "                                             {'Other C-rates and performance': [{'C-rate': 3.0,\n",
      "                                                                                 'Capacity': 'None'},\n",
      "                                                                                {'C-rate': 5.0,\n",
      "                                                                                 'Capacity': '45.5'}]}]}]},\n",
      " {'Sample Name': 'NR1',\n",
      "  'Data': [{'Voltage range': '2.5 - 4.3',\n",
      "            'Temperature': 'None',\n",
      "            'C-rate and Specific capacity': [{'C-rate': 0.1,\n",
      "                                              'Capacity': '154.6'},\n",
      "                                             {'C-rate': 0.2,\n",
      "                                              'Capacity': 'None'},\n",
      "                                             {'C-rate': 0.5,\n",
      "                                              'Capacity': 'None'},\n",
      "                                             {'C-rate': 1.0,\n",
      "                                              'Capacity': 'None'},\n",
      "                                             {'C-rate': 2.0,\n",
      "                                              'Capacity': 'None'},\n",
      "                                             {'C-rate': 4.0,\n",
      "                                              'Capacity': 'None'},\n",
      "                                             {'Other C-rates and performance': [{'C-rate': 3.0,\n",
      "                                                                                 'Capacity': 'None'},\n",
      "                                                                                {'C-rate': 5.0,\n",
      "                                                                                 'Capacity': '47.0'}]}]}]},\n",
      " {'Sample Name': 'NR3',\n",
      "  'Data': [{'Voltage range': '2.5 - 4.3',\n",
      "            'Temperature': 'None',\n",
      "            'C-rate and Specific capacity': [{'C-rate': 0.1,\n",
      "                                              'Capacity': '166.5'},\n",
      "                                             {'C-rate': 0.2,\n",
      "                                              'Capacity': 'None'},\n",
      "                                             {'C-rate': 0.5,\n",
      "                                              'Capacity': 'None'},\n",
      "                                             {'C-rate': 1.0,\n",
      "                                              'Capacity': 'None'},\n",
      "                                             {'C-rate': 2.0,\n",
      "                                              'Capacity': 'None'},\n",
      "                                             {'C-rate': 4.0,\n",
      "                                              'Capacity': 'None'},\n",
      "                                             {'Other C-rates and performance': [{'C-rate': 3.0,\n",
      "                                                                                 'Capacity': 'None'},\n",
      "                                                                                {'C-rate': 5.0,\n",
      "                                                                                 'Capacity': '75.4'}]}]}]},\n",
      " {'Sample Name': 'NR5',\n",
      "  'Data': [{'Voltage range': '2.5 - 4.3',\n",
      "            'Temperature': 'None',\n",
      "            'C-rate and Specific capacity': [{'C-rate': 0.1, 'Capacity': '175'},\n",
      "                                             {'C-rate': 0.2,\n",
      "                                              'Capacity': 'None'},\n",
      "                                             {'C-rate': 0.5,\n",
      "                                              'Capacity': 'None'},\n",
      "                                             {'C-rate': 1.0,\n",
      "                                              'Capacity': 'None'},\n",
      "                                             {'C-rate': 2.0,\n",
      "                                              'Capacity': 'None'},\n",
      "                                             {'C-rate': 4.0,\n",
      "                                              'Capacity': 'None'},\n",
      "                                             {'Other C-rates and performance': [{'C-rate': 3.0,\n",
      "                                                                                 'Capacity': 'None'},\n",
      "                                                                                {'C-rate': 5.0,\n",
      "                                                                                 'Capacity': '95.4'}]}]}]}]\n"
     ]
    }
   ],
   "source": [
    "ensemble_rag_answer = main(file_num_list=file_num_list, category_number=4, rag_method=\"ensemble-rag\")"
   ]
  },
  {
   "cell_type": "markdown",
   "metadata": {},
   "source": [
    "### Multiagent RAG"
   ]
  },
  {
   "cell_type": "code",
   "execution_count": 7,
   "metadata": {},
   "outputs": [
    {
     "name": "stdout",
     "output_type": "stream",
     "text": [
      "##       ./config/multiagent-rag/c1-system-prompt.yaml를 불러왔습니다.\n",
      "##       ./config/multiagent-rag/c1-question.yaml를 불러왔습니다.\n",
      "#####    11번째 논문    #####\n",
      "##       rag method     : multiagent-rag\n",
      "##       category name  : CAM (Cathode Active Material)\n",
      "##       paper_011 retriever를 생성했습니다.\n",
      "##          - chunk_size    :500\n",
      "##          - chunk_overlap :100\n",
      "##          - retrieve_k    :10\n",
      "##       print 11 result\n",
      "------------------------------------\n",
      "{'Stoichiometry information': {'LiNi1/3Co1/3Mn1/3O2': {'Li ratio': 1.0,\n",
      "                                                       'Ni ratio': 0.33,\n",
      "                                                       'Co ratio': 0.33,\n",
      "                                                       'Mn ratio': 0.33,\n",
      "                                                       'O ratio': 2.0}},\n",
      " 'Commercial NCM used': {'LiNi1/3Co1/3Mn1/3O2': 'no'},\n",
      " 'Lithium source': 'LiNO3',\n",
      " 'Synthesis method': 'solution combustion',\n",
      " 'Crystallization method': 'calcination',\n",
      " 'Crystallization final temperature': 850,\n",
      " 'Crystallization final duration (hours)': 15,\n",
      " 'Doping': 'None',\n",
      " 'Coating': 'RGO',\n",
      " 'Additional treatment': 'microwave irradiation'}\n"
     ]
    }
   ],
   "source": [
    "# multiagent_rag_c1_answer = main(file_num_list=file_num_list, category_number=1, rag_method=\"multiagent-rag\")"
   ]
  },
  {
   "cell_type": "code",
   "execution_count": null,
   "metadata": {},
   "outputs": [
    {
     "name": "stdout",
     "output_type": "stream",
     "text": [
      "##       ./config/multiagent-rag/c2-system-prompt.yaml를 불러왔습니다.\n",
      "##       ./config/multiagent-rag/c2-question.yaml를 불러왔습니다.\n",
      "#####    11번째 논문    #####\n",
      "##       rag method     : multiagent-rag\n",
      "##       category name  : Electrode (half-cell)\n",
      "##       paper_011 retriever를 생성했습니다.\n",
      "##          - chunk_size    :500\n",
      "##          - chunk_overlap :100\n",
      "##          - retrieve_k    :10\n",
      "##       print 11 result\n",
      "------------------------------------\n",
      "{'Active material to Conductive additive to Binder ratio': '87:3:10',\n",
      " 'Electrolyte': [{'Salt': 'LiPF6',\n",
      "                  'Concentration': '1M',\n",
      "                  'Solvent': 'EC:DMC',\n",
      "                  'Solvent ratio': '1:1'}],\n",
      " 'Additive': 'RGO, 5%',\n",
      " 'Loading density (mass loading of NCM)': 'None',\n",
      " 'Additional treatment for electrode': 'None'}\n"
     ]
    }
   ],
   "source": [
    "# multiagent_rag_c2_answer = main(file_num_list=file_num_list, category_number=2, rag_method=\"multiagent-rag\")"
   ]
  },
  {
   "cell_type": "code",
   "execution_count": 5,
   "metadata": {},
   "outputs": [
    {
     "name": "stdout",
     "output_type": "stream",
     "text": [
      "## ./config/multiagent-rag/c3-system-prompt.yaml를 불러왔습니다.\n",
      "## ./config/multiagent-rag/c3-question.yaml를 불러왔습니다.\n",
      "#####    11번째 논문    #####\n",
      "##       rag method     : multiagent-rag\n",
      "##       category name  : Morphological Properties\n",
      "##       paper_011 retriever를 생성했습니다.\n",
      "##          - chunk_size    :500\n",
      "##          - chunk_overlap :100\n",
      "##          - retrieve_k    :10\n",
      "##       print 11 result\n",
      "------------------------------------\n",
      "{'ParticleSize': {'NCM': '200-300 nm'},\n",
      " 'ParticleShape': {'NCM': 'faceted morphology, regular polyhedrons with smooth '\n",
      "                          'surfaces'},\n",
      " 'ParticleDistribution': {'NCM': 'uniform distribution with no significant '\n",
      "                                 'agglomeration'},\n",
      " 'CoatingLayerCharacteristics': {'NCMeRGO': 'RGO sheets wrapped around NCM '\n",
      "                                            'nanoparticles forming a '\n",
      "                                            'core-shell-like structure'},\n",
      " 'CrystalStructureAndLatticeCharacteristics': {'NCM': 'hexagonal structure '\n",
      "                                                      'with principal '\n",
      "                                                      'crystallographic planes '\n",
      "                                                      '(003) and (104), '\n",
      "                                                      'I(003)/I(104) ratio of '\n",
      "                                                      '1.36, c/a ratio of '\n",
      "                                                      '4.963'}}\n",
      "##       ./output/json/multiagent-rag/category3/paper_011_output-250203151025.json를 저장했습니다.\n"
     ]
    }
   ],
   "source": [
    "multiagent_rag_c3_answer = main(file_num_list=file_num_list, category_number=3, rag_method=\"multiagent-rag\")"
   ]
  },
  {
   "cell_type": "code",
   "execution_count": 7,
   "metadata": {},
   "outputs": [
    {
     "name": "stdout",
     "output_type": "stream",
     "text": [
      "## ./config/multiagent-rag/c4-system-prompt.yaml를 불러왔습니다.\n",
      "## ./config/multiagent-rag/c4-question.yaml를 불러왔습니다.\n",
      "#####    11번째 논문    #####\n",
      "##       rag method     : multiagent-rag\n",
      "##       category name  : Cathode Performance\n",
      "##       paper_011 retriever를 생성했습니다.\n",
      "##          - chunk_size    :500\n",
      "##          - chunk_overlap :100\n",
      "##          - retrieve_k    :10\n",
      "##       print 11 result\n",
      "------------------------------------\n",
      "{'NR0': [{'Voltage range': '2.5 - 4.3',\n",
      "          'Temperature': 25,\n",
      "          'C-rate and Specific capacity': [{'C-rate': 0.1, 'Capacity': 155.3},\n",
      "                                           {'C-rate': 0.2, 'Capacity': 'None'},\n",
      "                                           {'C-rate': 0.5, 'Capacity': 'None'},\n",
      "                                           {'C-rate': 1.0, 'Capacity': 123},\n",
      "                                           {'C-rate': 2.0, 'Capacity': 'None'},\n",
      "                                           {'C-rate': 4.0, 'Capacity': 'None'},\n",
      "                                           {'Other C-rates and performance': [{'C-rate': 5.0,\n",
      "                                                                               'Capacity': 45.5}]}]}],\n",
      " 'NR1': [{'Voltage range': '2.5 - 4.3',\n",
      "          'Temperature': 25,\n",
      "          'C-rate and Specific capacity': [{'C-rate': 0.1, 'Capacity': 154.6},\n",
      "                                           {'C-rate': 0.2, 'Capacity': 'None'},\n",
      "                                           {'C-rate': 0.5, 'Capacity': 'None'},\n",
      "                                           {'C-rate': 1.0, 'Capacity': 'None'},\n",
      "                                           {'C-rate': 2.0, 'Capacity': 'None'},\n",
      "                                           {'C-rate': 4.0, 'Capacity': 'None'},\n",
      "                                           {'Other C-rates and performance': [{'C-rate': 5.0,\n",
      "                                                                               'Capacity': 47.0}]}]}],\n",
      " 'NR3': [{'Voltage range': '2.5 - 4.3',\n",
      "          'Temperature': 25,\n",
      "          'C-rate and Specific capacity': [{'C-rate': 0.1, 'Capacity': 166.5},\n",
      "                                           {'C-rate': 0.2, 'Capacity': 'None'},\n",
      "                                           {'C-rate': 0.5, 'Capacity': 'None'},\n",
      "                                           {'C-rate': 1.0, 'Capacity': 'None'},\n",
      "                                           {'C-rate': 2.0, 'Capacity': 'None'},\n",
      "                                           {'C-rate': 4.0, 'Capacity': 'None'},\n",
      "                                           {'Other C-rates and performance': [{'C-rate': 5.0,\n",
      "                                                                               'Capacity': 75.4}]}]}],\n",
      " 'NR5': [{'Voltage range': '2.5 - 4.3',\n",
      "          'Temperature': 25,\n",
      "          'C-rate and Specific capacity': [{'C-rate': 0.1, 'Capacity': 175},\n",
      "                                           {'C-rate': 0.2, 'Capacity': 'None'},\n",
      "                                           {'C-rate': 0.5, 'Capacity': 'None'},\n",
      "                                           {'C-rate': 1.0, 'Capacity': 'None'},\n",
      "                                           {'C-rate': 2.0, 'Capacity': 'None'},\n",
      "                                           {'C-rate': 4.0, 'Capacity': 'None'},\n",
      "                                           {'Other C-rates and performance': [{'C-rate': 5.0,\n",
      "                                                                               'Capacity': 95.4}]}]}]}\n",
      "##       ./output/json/multiagent-rag/category4/paper_011_output-250203152049.json를 저장했습니다.\n"
     ]
    }
   ],
   "source": [
    "multiagent_rag_c4_answer = main(file_num_list=file_num_list, category_number=4, rag_method=\"multiagent-rag\")"
   ]
  }
 ],
 "metadata": {
  "kernelspec": {
   "display_name": "voltai",
   "language": "python",
   "name": "python3"
  },
  "language_info": {
   "codemirror_mode": {
    "name": "ipython",
    "version": 3
   },
   "file_extension": ".py",
   "mimetype": "text/x-python",
   "name": "python",
   "nbconvert_exporter": "python",
   "pygments_lexer": "ipython3",
   "version": "3.11.11"
  }
 },
 "nbformat": 4,
 "nbformat_minor": 2
}
